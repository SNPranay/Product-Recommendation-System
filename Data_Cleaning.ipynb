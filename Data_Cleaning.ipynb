{
 "cells": [
  {
   "cell_type": "code",
   "execution_count": 3,
   "metadata": {},
   "outputs": [],
   "source": [
    "# Import libraries\n",
    "import numpy as np\n",
    "import pandas as pd\n",
    "\n",
    "import matplotlib\n",
    "import matplotlib.pyplot as plt\n",
    "%matplotlib inline\n",
    "matplotlib.use('Agg')\n",
    "\n",
    "import warnings\n",
    "warnings.filterwarnings('ignore')"
   ]
  },
  {
   "cell_type": "code",
   "execution_count": 4,
   "metadata": {},
   "outputs": [],
   "source": [
    "# Load compressed dataframe\n",
    "train_data = pd.read_pickle(\"Compressed_Data/train.pkl\")"
   ]
  },
  {
   "cell_type": "code",
   "execution_count": 5,
   "metadata": {},
   "outputs": [],
   "source": [
    "# Adjust dataframe columns\n",
    "train_data.columns = ['Date','Customer_Code','Employee_Index','Customers_Country_Residence','Sex','Age','Date_Acc_Open','New_customer_index','Customer_Seniority','Primary_Customer','Last_Date_Primary_Customer','Customer_Type_Beginning_Month','Customer_Relation_Type_Beginning_Month','Residence_Index','Foreigner_Index','Spouse_Index','Channel_Customer_join','Deceased_Index','Address_Type','Province_Code','Province_Name','Activity_Index','Household_Income','Segmentation','Saving_Account','Guarantees','Current_Account','Derivada_Account','Payroll_Account','Junior_Account','MAS_Particular_Account','Particular_Account','Particular_Plus_Account','Short_Term_Deposit','Medium_Term_Deposit','Long_Term_Deposit','E_Account','Funds','Mortgage','Pensions1','Loans','Taxes','Credit_card','Securities','Home_Account','Payroll','Pensions2','Direct_Debit']"
   ]
  },
  {
   "cell_type": "code",
   "execution_count": 6,
   "metadata": {},
   "outputs": [
    {
     "data": {
      "text/html": [
       "<div>\n",
       "<style scoped>\n",
       "    .dataframe tbody tr th:only-of-type {\n",
       "        vertical-align: middle;\n",
       "    }\n",
       "\n",
       "    .dataframe tbody tr th {\n",
       "        vertical-align: top;\n",
       "    }\n",
       "\n",
       "    .dataframe thead th {\n",
       "        text-align: right;\n",
       "    }\n",
       "</style>\n",
       "<table border=\"1\" class=\"dataframe\">\n",
       "  <thead>\n",
       "    <tr style=\"text-align: right;\">\n",
       "      <th></th>\n",
       "      <th>Date</th>\n",
       "      <th>Customer_Code</th>\n",
       "      <th>Employee_Index</th>\n",
       "      <th>Customers_Country_Residence</th>\n",
       "      <th>Sex</th>\n",
       "      <th>Age</th>\n",
       "      <th>Date_Acc_Open</th>\n",
       "      <th>New_customer_index</th>\n",
       "      <th>Customer_Seniority</th>\n",
       "      <th>Primary_Customer</th>\n",
       "      <th>...</th>\n",
       "      <th>Mortgage</th>\n",
       "      <th>Pensions1</th>\n",
       "      <th>Loans</th>\n",
       "      <th>Taxes</th>\n",
       "      <th>Credit_card</th>\n",
       "      <th>Securities</th>\n",
       "      <th>Home_Account</th>\n",
       "      <th>Payroll</th>\n",
       "      <th>Pensions2</th>\n",
       "      <th>Direct_Debit</th>\n",
       "    </tr>\n",
       "  </thead>\n",
       "  <tbody>\n",
       "    <tr>\n",
       "      <th>0</th>\n",
       "      <td>2015-01-28</td>\n",
       "      <td>1375586</td>\n",
       "      <td>N</td>\n",
       "      <td>ES</td>\n",
       "      <td>H</td>\n",
       "      <td>35</td>\n",
       "      <td>2015-01-12</td>\n",
       "      <td>0.0</td>\n",
       "      <td>6</td>\n",
       "      <td>1.0</td>\n",
       "      <td>...</td>\n",
       "      <td>0</td>\n",
       "      <td>0.0</td>\n",
       "      <td>0</td>\n",
       "      <td>0</td>\n",
       "      <td>0</td>\n",
       "      <td>0</td>\n",
       "      <td>0</td>\n",
       "      <td>0.0</td>\n",
       "      <td>0.0</td>\n",
       "      <td>0</td>\n",
       "    </tr>\n",
       "    <tr>\n",
       "      <th>1</th>\n",
       "      <td>2015-01-28</td>\n",
       "      <td>1050611</td>\n",
       "      <td>N</td>\n",
       "      <td>ES</td>\n",
       "      <td>V</td>\n",
       "      <td>23</td>\n",
       "      <td>2012-08-10</td>\n",
       "      <td>0.0</td>\n",
       "      <td>35</td>\n",
       "      <td>1.0</td>\n",
       "      <td>...</td>\n",
       "      <td>0</td>\n",
       "      <td>0.0</td>\n",
       "      <td>0</td>\n",
       "      <td>0</td>\n",
       "      <td>0</td>\n",
       "      <td>0</td>\n",
       "      <td>0</td>\n",
       "      <td>0.0</td>\n",
       "      <td>0.0</td>\n",
       "      <td>0</td>\n",
       "    </tr>\n",
       "    <tr>\n",
       "      <th>2</th>\n",
       "      <td>2015-01-28</td>\n",
       "      <td>1050612</td>\n",
       "      <td>N</td>\n",
       "      <td>ES</td>\n",
       "      <td>V</td>\n",
       "      <td>23</td>\n",
       "      <td>2012-08-10</td>\n",
       "      <td>0.0</td>\n",
       "      <td>35</td>\n",
       "      <td>1.0</td>\n",
       "      <td>...</td>\n",
       "      <td>0</td>\n",
       "      <td>0.0</td>\n",
       "      <td>0</td>\n",
       "      <td>0</td>\n",
       "      <td>0</td>\n",
       "      <td>0</td>\n",
       "      <td>0</td>\n",
       "      <td>0.0</td>\n",
       "      <td>0.0</td>\n",
       "      <td>0</td>\n",
       "    </tr>\n",
       "    <tr>\n",
       "      <th>3</th>\n",
       "      <td>2015-01-28</td>\n",
       "      <td>1050613</td>\n",
       "      <td>N</td>\n",
       "      <td>ES</td>\n",
       "      <td>H</td>\n",
       "      <td>22</td>\n",
       "      <td>2012-08-10</td>\n",
       "      <td>0.0</td>\n",
       "      <td>35</td>\n",
       "      <td>1.0</td>\n",
       "      <td>...</td>\n",
       "      <td>0</td>\n",
       "      <td>0.0</td>\n",
       "      <td>0</td>\n",
       "      <td>0</td>\n",
       "      <td>0</td>\n",
       "      <td>0</td>\n",
       "      <td>0</td>\n",
       "      <td>0.0</td>\n",
       "      <td>0.0</td>\n",
       "      <td>0</td>\n",
       "    </tr>\n",
       "    <tr>\n",
       "      <th>4</th>\n",
       "      <td>2015-01-28</td>\n",
       "      <td>1050614</td>\n",
       "      <td>N</td>\n",
       "      <td>ES</td>\n",
       "      <td>V</td>\n",
       "      <td>23</td>\n",
       "      <td>2012-08-10</td>\n",
       "      <td>0.0</td>\n",
       "      <td>35</td>\n",
       "      <td>1.0</td>\n",
       "      <td>...</td>\n",
       "      <td>0</td>\n",
       "      <td>0.0</td>\n",
       "      <td>0</td>\n",
       "      <td>0</td>\n",
       "      <td>0</td>\n",
       "      <td>0</td>\n",
       "      <td>0</td>\n",
       "      <td>0.0</td>\n",
       "      <td>0.0</td>\n",
       "      <td>0</td>\n",
       "    </tr>\n",
       "  </tbody>\n",
       "</table>\n",
       "<p>5 rows × 48 columns</p>\n",
       "</div>"
      ],
      "text/plain": [
       "        Date  Customer_Code Employee_Index Customers_Country_Residence Sex  \\\n",
       "0 2015-01-28        1375586              N                          ES   H   \n",
       "1 2015-01-28        1050611              N                          ES   V   \n",
       "2 2015-01-28        1050612              N                          ES   V   \n",
       "3 2015-01-28        1050613              N                          ES   H   \n",
       "4 2015-01-28        1050614              N                          ES   V   \n",
       "\n",
       "   Age Date_Acc_Open  New_customer_index Customer_Seniority  Primary_Customer  \\\n",
       "0   35    2015-01-12                 0.0                  6               1.0   \n",
       "1   23    2012-08-10                 0.0                 35               1.0   \n",
       "2   23    2012-08-10                 0.0                 35               1.0   \n",
       "3   22    2012-08-10                 0.0                 35               1.0   \n",
       "4   23    2012-08-10                 0.0                 35               1.0   \n",
       "\n",
       "       ...      Mortgage Pensions1 Loans Taxes Credit_card Securities  \\\n",
       "0      ...             0       0.0     0     0           0          0   \n",
       "1      ...             0       0.0     0     0           0          0   \n",
       "2      ...             0       0.0     0     0           0          0   \n",
       "3      ...             0       0.0     0     0           0          0   \n",
       "4      ...             0       0.0     0     0           0          0   \n",
       "\n",
       "  Home_Account Payroll  Pensions2  Direct_Debit  \n",
       "0            0     0.0        0.0             0  \n",
       "1            0     0.0        0.0             0  \n",
       "2            0     0.0        0.0             0  \n",
       "3            0     0.0        0.0             0  \n",
       "4            0     0.0        0.0             0  \n",
       "\n",
       "[5 rows x 48 columns]"
      ]
     },
     "execution_count": 6,
     "metadata": {},
     "output_type": "execute_result"
    }
   ],
   "source": [
    "train_data.head(5)"
   ]
  },
  {
   "cell_type": "code",
   "execution_count": 7,
   "metadata": {},
   "outputs": [
    {
     "name": "stdout",
     "output_type": "stream",
     "text": [
      "Column - Date\n",
      "['2015-01-28T00:00:00.000000000' '2015-02-28T00:00:00.000000000'\n",
      " '2015-03-28T00:00:00.000000000' '2015-04-28T00:00:00.000000000'\n",
      " '2015-05-28T00:00:00.000000000' '2015-06-28T00:00:00.000000000'\n",
      " '2015-07-28T00:00:00.000000000' '2015-08-28T00:00:00.000000000'\n",
      " '2015-09-28T00:00:00.000000000' '2015-10-28T00:00:00.000000000'\n",
      " '2015-11-28T00:00:00.000000000' '2015-12-28T00:00:00.000000000'\n",
      " '2016-01-28T00:00:00.000000000' '2016-02-28T00:00:00.000000000'\n",
      " '2016-03-28T00:00:00.000000000' '2016-04-28T00:00:00.000000000'\n",
      " '2016-05-28T00:00:00.000000000']\n",
      "\n",
      "*****************************************************************\n",
      "\n",
      "Column - Customer_Code\n",
      "[1375586 1050611 1050612 ... 1173729 1164094 1550586]\n",
      "\n",
      "*****************************************************************\n",
      "\n",
      "Column - Employee_Index\n",
      "[N, NaN, A, B, F, S]\n",
      "Categories (5, object): [N, A, B, F, S]\n",
      "\n",
      "*****************************************************************\n",
      "\n",
      "Column - Customers_Country_Residence\n",
      "[ES, NaN, CA, CH, CL, ..., ZW, DJ, JM, BM, MT]\n",
      "Length: 119\n",
      "Categories (118, object): [ES, CA, CH, CL, ..., DJ, JM, BM, MT]\n",
      "\n",
      "*****************************************************************\n",
      "\n",
      "Column - Sex\n",
      "[H, V, NaN]\n",
      "Categories (2, object): [H, V]\n",
      "\n",
      "*****************************************************************\n",
      "\n",
      "Column - Age\n",
      "[' 35' ' 23' ' 22' ' 24' ' 65' ' 28' ' 25' ' 26' ' 53' ' 27' ' 32' ' 37'\n",
      " ' 31' ' 39' ' 63' ' 33' ' 55' ' 42' ' 58' ' 38' ' 50' ' 30' ' 45' ' 44'\n",
      " ' 36' ' 29' ' 60' ' 57' ' 67' ' 47' ' NA' ' 34' ' 48' ' 46' ' 54' ' 84'\n",
      " ' 15' ' 12' '  8' '  6' ' 83' ' 40' ' 77' ' 69' ' 52' ' 59' ' 43' ' 10'\n",
      " '  9' ' 49' ' 41' ' 51' ' 78' ' 16' ' 11' ' 73' ' 62' ' 66' ' 17' ' 68'\n",
      " ' 82' ' 95' ' 96' ' 56' ' 61' ' 79' ' 72' ' 14' ' 19' ' 13' ' 86' ' 64'\n",
      " ' 20' ' 89' ' 71' '  7' ' 70' ' 74' ' 21' ' 18' ' 75' '  4' ' 80' ' 81'\n",
      " '  5' ' 76' ' 92' ' 93' ' 85' ' 91' ' 87' ' 90' ' 94' ' 99' ' 98' ' 88'\n",
      " ' 97' '100' '101' '106' '103' '  3' '  2' '102' '104' '111' '107' '109'\n",
      " '105' '112' '115' '110' '116' '108' '113' 37 81 43 30 45 41 67 59 46 36\n",
      " 47 69 39 44 40 38 34 42 31 35 48 60 54 51 33 62 50 11 57 55 85 80 70 32\n",
      " 52 94 61 13 29 49 76 28 63 10 88 68 64 58 56 79 53 77 74 82 89 86 72 95\n",
      " 66 71 78 75 27 22 23 65 21 26 98 19 84 83 90 12 14 87 93 18 92 99 17 97\n",
      " 102 16 73 91 15 25 24 20 96 104 110 103 106 105 111 109 101 100 108 107 9\n",
      " 113 2 112 3 8 7 6 126 115 117 163 116 5 4 127 114 164]\n",
      "\n",
      "*****************************************************************\n",
      "\n",
      "Column - Date_Acc_Open\n",
      "['2015-01-12T00:00:00.000000000' '2012-08-10T00:00:00.000000000'\n",
      "                           'NaT' ... '2016-05-25T00:00:00.000000000'\n",
      " '2016-05-01T00:00:00.000000000' '2016-05-15T00:00:00.000000000']\n",
      "\n",
      "*****************************************************************\n",
      "\n",
      "Column - New_customer_index\n",
      "[ 0. nan  1.]\n",
      "\n",
      "*****************************************************************\n",
      "\n",
      "Column - Customer_Seniority\n",
      "[6, 35, 34, NA, 33, ..., 252, 253, 254, 255, 256]\n",
      "Length: 507\n",
      "Categories (507, object): [6, 35, 34, NA, ..., 253, 254, 255, 256]\n",
      "\n",
      "*****************************************************************\n",
      "\n",
      "Column - Primary_Customer\n",
      "[ 1. nan 99.]\n",
      "\n",
      "*****************************************************************\n",
      "\n",
      "Column - Last_Date_Primary_Customer\n",
      "[                          'NaT' '2015-07-02T00:00:00.000000000'\n",
      " '2015-07-23T00:00:00.000000000' '2015-07-06T00:00:00.000000000'\n",
      " '2015-07-30T00:00:00.000000000' '2015-07-20T00:00:00.000000000'\n",
      " '2015-07-08T00:00:00.000000000' '2015-07-22T00:00:00.000000000'\n",
      " '2015-07-17T00:00:00.000000000' '2015-07-09T00:00:00.000000000'\n",
      " '2015-07-03T00:00:00.000000000' '2015-07-29T00:00:00.000000000'\n",
      " '2015-07-13T00:00:00.000000000' '2015-07-21T00:00:00.000000000'\n",
      " '2015-07-27T00:00:00.000000000' '2015-07-14T00:00:00.000000000'\n",
      " '2015-07-01T00:00:00.000000000' '2015-07-24T00:00:00.000000000'\n",
      " '2015-07-15T00:00:00.000000000' '2015-07-16T00:00:00.000000000'\n",
      " '2015-07-28T00:00:00.000000000' '2015-07-07T00:00:00.000000000'\n",
      " '2015-07-10T00:00:00.000000000' '2015-08-21T00:00:00.000000000'\n",
      " '2015-08-19T00:00:00.000000000' '2015-08-25T00:00:00.000000000'\n",
      " '2015-08-14T00:00:00.000000000' '2015-08-24T00:00:00.000000000'\n",
      " '2015-08-17T00:00:00.000000000' '2015-08-18T00:00:00.000000000'\n",
      " '2015-08-10T00:00:00.000000000' '2015-08-13T00:00:00.000000000'\n",
      " '2015-08-27T00:00:00.000000000' '2015-08-03T00:00:00.000000000'\n",
      " '2015-08-06T00:00:00.000000000' '2015-08-20T00:00:00.000000000'\n",
      " '2015-08-26T00:00:00.000000000' '2015-08-28T00:00:00.000000000'\n",
      " '2015-08-05T00:00:00.000000000' '2015-08-11T00:00:00.000000000'\n",
      " '2015-08-07T00:00:00.000000000' '2015-08-04T00:00:00.000000000'\n",
      " '2015-08-12T00:00:00.000000000' '2015-09-17T00:00:00.000000000'\n",
      " '2015-09-01T00:00:00.000000000' '2015-09-18T00:00:00.000000000'\n",
      " '2015-09-03T00:00:00.000000000' '2015-09-02T00:00:00.000000000'\n",
      " '2015-09-14T00:00:00.000000000' '2015-09-16T00:00:00.000000000'\n",
      " '2015-09-29T00:00:00.000000000' '2015-09-28T00:00:00.000000000'\n",
      " '2015-09-09T00:00:00.000000000' '2015-09-22T00:00:00.000000000'\n",
      " '2015-09-08T00:00:00.000000000' '2015-09-11T00:00:00.000000000'\n",
      " '2015-09-21T00:00:00.000000000' '2015-09-04T00:00:00.000000000'\n",
      " '2015-09-25T00:00:00.000000000' '2015-09-07T00:00:00.000000000'\n",
      " '2015-09-10T00:00:00.000000000' '2015-09-23T00:00:00.000000000'\n",
      " '2015-09-24T00:00:00.000000000' '2015-09-15T00:00:00.000000000'\n",
      " '2015-10-08T00:00:00.000000000' '2015-10-07T00:00:00.000000000'\n",
      " '2015-10-13T00:00:00.000000000' '2015-10-26T00:00:00.000000000'\n",
      " '2015-10-29T00:00:00.000000000' '2015-10-05T00:00:00.000000000'\n",
      " '2015-10-28T00:00:00.000000000' '2015-10-09T00:00:00.000000000'\n",
      " '2015-10-22T00:00:00.000000000' '2015-10-20T00:00:00.000000000'\n",
      " '2015-10-15T00:00:00.000000000' '2015-10-06T00:00:00.000000000'\n",
      " '2015-10-01T00:00:00.000000000' '2015-10-21T00:00:00.000000000'\n",
      " '2015-10-16T00:00:00.000000000' '2015-10-27T00:00:00.000000000'\n",
      " '2015-10-19T00:00:00.000000000' '2015-10-23T00:00:00.000000000'\n",
      " '2015-10-02T00:00:00.000000000' '2015-10-14T00:00:00.000000000'\n",
      " '2015-11-23T00:00:00.000000000' '2015-11-24T00:00:00.000000000'\n",
      " '2015-11-12T00:00:00.000000000' '2015-11-04T00:00:00.000000000'\n",
      " '2015-11-13T00:00:00.000000000' '2015-11-25T00:00:00.000000000'\n",
      " '2015-11-19T00:00:00.000000000' '2015-11-20T00:00:00.000000000'\n",
      " '2015-11-03T00:00:00.000000000' '2015-11-16T00:00:00.000000000'\n",
      " '2015-11-17T00:00:00.000000000' '2015-11-11T00:00:00.000000000'\n",
      " '2015-11-27T00:00:00.000000000' '2015-11-18T00:00:00.000000000'\n",
      " '2015-11-10T00:00:00.000000000' '2015-11-26T00:00:00.000000000'\n",
      " '2015-11-02T00:00:00.000000000' '2015-11-05T00:00:00.000000000'\n",
      " '2015-11-06T00:00:00.000000000' '2015-11-09T00:00:00.000000000'\n",
      " '2015-12-21T00:00:00.000000000' '2015-12-18T00:00:00.000000000'\n",
      " '2015-12-28T00:00:00.000000000' '2015-12-24T00:00:00.000000000'\n",
      " '2015-12-04T00:00:00.000000000' '2015-12-29T00:00:00.000000000'\n",
      " '2015-12-16T00:00:00.000000000' '2015-12-11T00:00:00.000000000'\n",
      " '2015-12-30T00:00:00.000000000' '2015-12-15T00:00:00.000000000'\n",
      " '2015-12-01T00:00:00.000000000' '2015-12-09T00:00:00.000000000'\n",
      " '2015-12-10T00:00:00.000000000' '2015-12-17T00:00:00.000000000'\n",
      " '2015-12-02T00:00:00.000000000' '2015-12-14T00:00:00.000000000'\n",
      " '2015-12-03T00:00:00.000000000' '2015-12-22T00:00:00.000000000'\n",
      " '2015-12-23T00:00:00.000000000' '2015-12-07T00:00:00.000000000'\n",
      " '2016-01-08T00:00:00.000000000' '2016-01-14T00:00:00.000000000'\n",
      " '2016-01-13T00:00:00.000000000' '2016-01-28T00:00:00.000000000'\n",
      " '2016-01-05T00:00:00.000000000' '2016-01-19T00:00:00.000000000'\n",
      " '2016-01-12T00:00:00.000000000' '2016-01-18T00:00:00.000000000'\n",
      " '2016-01-21T00:00:00.000000000' '2016-01-22T00:00:00.000000000'\n",
      " '2016-01-07T00:00:00.000000000' '2016-01-20T00:00:00.000000000'\n",
      " '2016-01-26T00:00:00.000000000' '2016-01-15T00:00:00.000000000'\n",
      " '2016-01-27T00:00:00.000000000' '2016-01-25T00:00:00.000000000'\n",
      " '2016-01-11T00:00:00.000000000' '2016-01-04T00:00:00.000000000'\n",
      " '2016-02-23T00:00:00.000000000' '2016-02-19T00:00:00.000000000'\n",
      " '2016-02-18T00:00:00.000000000' '2016-02-26T00:00:00.000000000'\n",
      " '2016-02-12T00:00:00.000000000' '2016-02-24T00:00:00.000000000'\n",
      " '2016-02-09T00:00:00.000000000' '2016-02-08T00:00:00.000000000'\n",
      " '2016-02-11T00:00:00.000000000' '2016-02-05T00:00:00.000000000'\n",
      " '2016-02-04T00:00:00.000000000' '2016-02-03T00:00:00.000000000'\n",
      " '2016-02-15T00:00:00.000000000' '2016-02-22T00:00:00.000000000'\n",
      " '2016-02-10T00:00:00.000000000' '2016-02-16T00:00:00.000000000'\n",
      " '2016-02-01T00:00:00.000000000' '2016-02-17T00:00:00.000000000'\n",
      " '2016-02-02T00:00:00.000000000' '2016-02-25T00:00:00.000000000'\n",
      " '2016-03-07T00:00:00.000000000' '2016-03-29T00:00:00.000000000'\n",
      " '2016-03-10T00:00:00.000000000' '2016-03-18T00:00:00.000000000'\n",
      " '2016-03-14T00:00:00.000000000' '2016-03-22T00:00:00.000000000'\n",
      " '2016-03-08T00:00:00.000000000' '2016-03-21T00:00:00.000000000'\n",
      " '2016-03-30T00:00:00.000000000' '2016-03-01T00:00:00.000000000'\n",
      " '2016-03-23T00:00:00.000000000' '2016-03-02T00:00:00.000000000'\n",
      " '2016-03-24T00:00:00.000000000' '2016-03-03T00:00:00.000000000'\n",
      " '2016-03-09T00:00:00.000000000' '2016-03-11T00:00:00.000000000'\n",
      " '2016-03-04T00:00:00.000000000' '2016-03-16T00:00:00.000000000'\n",
      " '2016-03-28T00:00:00.000000000' '2016-03-15T00:00:00.000000000'\n",
      " '2016-03-17T00:00:00.000000000' '2016-04-22T00:00:00.000000000'\n",
      " '2016-04-01T00:00:00.000000000' '2016-04-06T00:00:00.000000000'\n",
      " '2016-04-12T00:00:00.000000000' '2016-04-05T00:00:00.000000000'\n",
      " '2016-04-15T00:00:00.000000000' '2016-04-13T00:00:00.000000000'\n",
      " '2016-04-19T00:00:00.000000000' '2016-04-04T00:00:00.000000000'\n",
      " '2016-04-18T00:00:00.000000000' '2016-04-26T00:00:00.000000000'\n",
      " '2016-04-11T00:00:00.000000000' '2016-04-25T00:00:00.000000000'\n",
      " '2016-04-27T00:00:00.000000000' '2016-04-08T00:00:00.000000000'\n",
      " '2016-04-07T00:00:00.000000000' '2016-04-21T00:00:00.000000000'\n",
      " '2016-04-28T00:00:00.000000000' '2016-04-20T00:00:00.000000000'\n",
      " '2016-04-14T00:00:00.000000000' '2016-05-23T00:00:00.000000000'\n",
      " '2016-05-05T00:00:00.000000000' '2016-05-17T00:00:00.000000000'\n",
      " '2016-05-19T00:00:00.000000000' '2016-05-12T00:00:00.000000000'\n",
      " '2016-05-06T00:00:00.000000000' '2016-05-03T00:00:00.000000000'\n",
      " '2016-05-20T00:00:00.000000000' '2016-05-02T00:00:00.000000000'\n",
      " '2016-05-16T00:00:00.000000000' '2016-05-18T00:00:00.000000000'\n",
      " '2016-05-04T00:00:00.000000000' '2016-05-13T00:00:00.000000000'\n",
      " '2016-05-24T00:00:00.000000000' '2016-05-27T00:00:00.000000000'\n",
      " '2016-05-10T00:00:00.000000000' '2016-05-30T00:00:00.000000000'\n",
      " '2016-05-25T00:00:00.000000000' '2016-05-11T00:00:00.000000000'\n",
      " '2016-05-09T00:00:00.000000000' '2016-05-26T00:00:00.000000000']\n",
      "\n",
      "*****************************************************************\n",
      "\n",
      "Column - Customer_Type_Beginning_Month\n"
     ]
    },
    {
     "name": "stdout",
     "output_type": "stream",
     "text": [
      "[1, NaN, 3, 2, 1.0, ..., 4.0, P, 4, 4, 2]\n",
      "Length: 14\n",
      "Categories (13, object): [1, 3, 2, 1.0, ..., P, 4, 4, 2]\n",
      "\n",
      "*****************************************************************\n",
      "\n",
      "Column - Customer_Relation_Type_Beginning_Month\n",
      "[A, I, NaN, P, R, N]\n",
      "Categories (5, object): [A, I, P, R, N]\n",
      "\n",
      "*****************************************************************\n",
      "\n",
      "Column - Residence_Index\n",
      "[S, NaN, N]\n",
      "Categories (2, object): [S, N]\n",
      "\n",
      "*****************************************************************\n",
      "\n",
      "Column - Foreigner_Index\n",
      "[N, S, NaN]\n",
      "Categories (2, object): [N, S]\n",
      "\n",
      "*****************************************************************\n",
      "\n",
      "Column - Spouse_Index\n",
      "[NaN, N, S]\n",
      "Categories (2, object): [N, S]\n",
      "\n",
      "*****************************************************************\n",
      "\n",
      "Column - Channel_Customer_join\n",
      "[KHL, KHE, KHD, KFA, KFC, ..., KDL, 025, KHP, KHR, KHS]\n",
      "Length: 163\n",
      "Categories (162, object): [KHL, KHE, KHD, KFA, ..., 025, KHP, KHR, KHS]\n",
      "\n",
      "*****************************************************************\n",
      "\n",
      "Column - Deceased_Index\n",
      "[N, NaN, S]\n",
      "Categories (2, object): [N, S]\n",
      "\n",
      "*****************************************************************\n",
      "\n",
      "Column - Address_Type\n",
      "[ 1. nan]\n",
      "\n",
      "*****************************************************************\n",
      "\n",
      "Column - Province_Code\n",
      "[29. 13. 50. 45. 24. 20. 10. 17. 49.  8. 37.  9. 22. 31.  5. 40. 27. 25.\n",
      " 28.  3. 42. 41. 39.  7. 47. 36. 46. 44. 15. 32. 23. 16. 48. 12. 26.  2.\n",
      "  6. 30. 11. nan  4. 19. 34. 35. 14. 21. 18. 33. 38. 52. 43.  1. 51.]\n",
      "\n",
      "*****************************************************************\n",
      "\n",
      "Column - Province_Name\n",
      "[MALAGA, CIUDAD REAL, ZARAGOZA, TOLEDO, LEON, ..., SANTA CRUZ DE TENERIFE, MELILLA, TARRAGONA, ALAVA, CEUTA]\n",
      "Length: 53\n",
      "Categories (52, object): [MALAGA, CIUDAD REAL, ZARAGOZA, TOLEDO, ..., MELILLA, TARRAGONA, ALAVA, CEUTA]\n",
      "\n",
      "*****************************************************************\n",
      "\n",
      "Column - Activity_Index\n",
      "[ 1.  0. nan]\n",
      "\n",
      "*****************************************************************\n",
      "\n",
      "Column - Household_Income\n",
      "[ 87218.1015625   35548.73828125 122179.109375   ...  63867.66015625\n",
      "  34341.1796875   89018.3671875 ]\n",
      "\n",
      "*****************************************************************\n",
      "\n",
      "Column - Segmentation\n",
      "[02 - PARTICULARES, 03 - UNIVERSITARIO, NaN, 01 - TOP]\n",
      "Categories (3, object): [02 - PARTICULARES, 03 - UNIVERSITARIO, 01 - TOP]\n",
      "\n",
      "*****************************************************************\n",
      "\n",
      "Column - Saving_Account\n",
      "[0 1]\n",
      "\n",
      "*****************************************************************\n",
      "\n",
      "Column - Guarantees\n",
      "[0 1]\n",
      "\n",
      "*****************************************************************\n",
      "\n",
      "Column - Current_Account\n",
      "[1 0]\n",
      "\n",
      "*****************************************************************\n",
      "\n",
      "Column - Derivada_Account\n",
      "[0 1]\n",
      "\n",
      "*****************************************************************\n",
      "\n",
      "Column - Payroll_Account\n",
      "[0 1]\n",
      "\n",
      "*****************************************************************\n",
      "\n",
      "Column - Junior_Account\n",
      "[0 1]\n",
      "\n",
      "*****************************************************************\n",
      "\n",
      "Column - MAS_Particular_Account\n",
      "[0 1]\n",
      "\n",
      "*****************************************************************\n",
      "\n",
      "Column - Particular_Account\n",
      "[0 1]\n",
      "\n",
      "*****************************************************************\n",
      "\n",
      "Column - Particular_Plus_Account\n",
      "[0 1]\n",
      "\n",
      "*****************************************************************\n",
      "\n",
      "Column - Short_Term_Deposit\n",
      "[0 1]\n",
      "\n",
      "*****************************************************************\n",
      "\n",
      "Column - Medium_Term_Deposit\n",
      "[0 1]\n",
      "\n",
      "*****************************************************************\n",
      "\n",
      "Column - Long_Term_Deposit\n",
      "[0 1]\n",
      "\n",
      "*****************************************************************\n",
      "\n",
      "Column - E_Account\n",
      "[0 1]\n",
      "\n",
      "*****************************************************************\n",
      "\n",
      "Column - Funds\n",
      "[0 1]\n",
      "\n",
      "*****************************************************************\n",
      "\n",
      "Column - Mortgage\n",
      "[0 1]\n",
      "\n",
      "*****************************************************************\n",
      "\n",
      "Column - Pensions1\n",
      "[ 0.  1. nan]\n",
      "\n",
      "*****************************************************************\n",
      "\n",
      "Column - Loans\n",
      "[0 1]\n",
      "\n",
      "*****************************************************************\n",
      "\n",
      "Column - Taxes\n",
      "[0 1]\n",
      "\n",
      "*****************************************************************\n",
      "\n",
      "Column - Credit_card\n",
      "[0 1]\n",
      "\n",
      "*****************************************************************\n",
      "\n",
      "Column - Securities\n",
      "[0 1]\n",
      "\n",
      "*****************************************************************\n",
      "\n",
      "Column - Home_Account\n",
      "[0 1]\n",
      "\n",
      "*****************************************************************\n",
      "\n",
      "Column - Payroll\n",
      "[ 0.  1. nan]\n",
      "\n",
      "*****************************************************************\n",
      "\n",
      "Column - Pensions2\n",
      "[ 0.  1. nan]\n",
      "\n",
      "*****************************************************************\n",
      "\n",
      "Column - Direct_Debit\n",
      "[0 1]\n",
      "\n",
      "*****************************************************************\n",
      "\n"
     ]
    }
   ],
   "source": [
    "# Look for unique value in the columns of the dataframe\n",
    "for column in train_data.columns:\n",
    "    print(\"Column - \"+column)\n",
    "    print(train_data[column].unique())\n",
    "    print(\"\\n*****************************************************************\\n\")"
   ]
  },
  {
   "cell_type": "code",
   "execution_count": 8,
   "metadata": {},
   "outputs": [],
   "source": [
    "# Replace different representations of na values by np.nan\n",
    "different_nan_representations = ['     NA',' NA','NaT','NA','025']\n",
    "train_data.replace(to_replace=different_nan_representations,value=np.nan,inplace=True)"
   ]
  },
  {
   "cell_type": "code",
   "execution_count": 9,
   "metadata": {},
   "outputs": [
    {
     "data": {
      "text/plain": [
       "Index(['Date', 'Customer_Code', 'Employee_Index',\n",
       "       'Customers_Country_Residence', 'Sex', 'Age', 'Date_Acc_Open',\n",
       "       'New_customer_index', 'Customer_Seniority', 'Primary_Customer',\n",
       "       'Last_Date_Primary_Customer', 'Customer_Type_Beginning_Month',\n",
       "       'Customer_Relation_Type_Beginning_Month', 'Residence_Index',\n",
       "       'Foreigner_Index', 'Spouse_Index', 'Channel_Customer_join',\n",
       "       'Deceased_Index', 'Address_Type', 'Province_Code', 'Province_Name',\n",
       "       'Activity_Index', 'Household_Income', 'Segmentation', 'Saving_Account',\n",
       "       'Guarantees', 'Current_Account', 'Derivada_Account', 'Payroll_Account',\n",
       "       'Junior_Account', 'MAS_Particular_Account', 'Particular_Account',\n",
       "       'Particular_Plus_Account', 'Short_Term_Deposit', 'Medium_Term_Deposit',\n",
       "       'Long_Term_Deposit', 'E_Account', 'Funds', 'Mortgage', 'Pensions1',\n",
       "       'Loans', 'Taxes', 'Credit_card', 'Securities', 'Home_Account',\n",
       "       'Payroll', 'Pensions2', 'Direct_Debit'],\n",
       "      dtype='object')"
      ]
     },
     "execution_count": 9,
     "metadata": {},
     "output_type": "execute_result"
    }
   ],
   "source": [
    "# Columns present in the dataframe\n",
    "train_data.columns"
   ]
  },
  {
   "cell_type": "code",
   "execution_count": 30,
   "metadata": {},
   "outputs": [],
   "source": [
    "def generate_viz(data,column_name):\n",
    "    \"\"\"Function of generate column visualizations\"\"\"\n",
    "    if str(data[column_name].dtype) == \"category\":\n",
    "        print(\"Datatype - category\")\n",
    "        column = train_data[column_name][train_data[column_name].notnull()]\n",
    "        column.value_counts().plot(kind='bar')\n",
    "        plt.xlabel(column_name)\n",
    "        plt.ylabel(\"Frequency\")\n",
    "        plt.show()\n",
    "    elif str(data[column_name].dtype) == 'datetime64[ns]':\n",
    "        print(\"Datatype - datetime64[ns]\")\n",
    "        plt.hist(train_data['Date'])\n",
    "        plt.xlabel(column_name)\n",
    "        plt.ylabel(\"Frequency\")\n",
    "        plt.show()\n",
    "        print(\"Datatype - \",train_data['Date'].dtype)\n",
    "    else:\n",
    "        column = train_data[column_name][train_data[column_name].notnull()].astype('int')\n",
    "        print(\"Datatype - \",train_data[column_name].dtype)\n",
    "        plt.hist(column)\n",
    "        plt.xlabel(column_name)\n",
    "        plt.ylabel(\"Frequency\")\n",
    "        plt.show()\n",
    "        plt.cla()\n",
    "        plt.boxplot(column)\n",
    "    print(\"Percent of null values - \",train_data[column_name].isnull().sum()/len(train_data) * 100,\" %\")      "
   ]
  },
  {
   "cell_type": "code",
   "execution_count": 31,
   "metadata": {
    "scrolled": true
   },
   "outputs": [
    {
     "name": "stdout",
     "output_type": "stream",
     "text": [
      "Datatype - datetime64[ns]\n"
     ]
    },
    {
     "data": {
      "image/png": "[encoded data removed]",
      "text/plain": [
       "<Figure size 432x288 with 1 Axes>"
      ]
     },
     "metadata": {},
     "output_type": "display_data"
    },
    {
     "name": "stdout",
     "output_type": "stream",
     "text": [
      "Datatype -  datetime64[ns]\n",
      "Percent of null values -  0.0  %\n"
     ]
    }
   ],
   "source": [
    "generate_viz(train_data,'Date')"
   ]
  },
  {
   "cell_type": "code",
   "execution_count": 32,
   "metadata": {},
   "outputs": [
    {
     "name": "stdout",
     "output_type": "stream",
     "text": [
      "Datatype -  int64\n"
     ]
    },
    {
     "data": {
      "image/png": "[encoded data removed]",
      "text/plain": [
       "<Figure size 432x288 with 1 Axes>"
      ]
     },
     "metadata": {},
     "output_type": "display_data"
    },
    {
     "name": "stdout",
     "output_type": "stream",
     "text": [
      "Percent of null values -  0.0  %\n"
     ]
    },
    {
     "data": {
      "image/png": "[encoded data removed]",
      "text/plain": [
       "<Figure size 432x288 with 1 Axes>"
      ]
     },
     "metadata": {},
     "output_type": "display_data"
    }
   ],
   "source": [
    "generate_viz(train_data,'Customer_Code')"
   ]
  },
  {
   "cell_type": "code",
   "execution_count": 33,
   "metadata": {
    "scrolled": true
   },
   "outputs": [
    {
     "name": "stdout",
     "output_type": "stream",
     "text": [
      "Datatype - category\n"
     ]
    },
    {
     "data": {
      "image/png": "[encoded data removed]",
      "text/plain": [
       "<Figure size 432x288 with 1 Axes>"
      ]
     },
     "metadata": {},
     "output_type": "display_data"
    },
    {
     "name": "stdout",
     "output_type": "stream",
     "text": [
      "Percent of null values -  0.2032195504622926  %\n"
     ]
    }
   ],
   "source": [
    "generate_viz(train_data,'Employee_Index')"
   ]
  },
  {
   "cell_type": "code",
   "execution_count": 78,
   "metadata": {},
   "outputs": [],
   "source": [
    "# All values are N(Not an employee) or nan so no new information - TO DROP\n",
    "train_data.drop('Employee_Index',axis=1,inplace=True)"
   ]
  },
  {
   "cell_type": "code",
   "execution_count": 34,
   "metadata": {},
   "outputs": [
    {
     "name": "stdout",
     "output_type": "stream",
     "text": [
      "Datatype - category\n"
     ]
    },
    {
     "data": {
      "image/png": "[encoded data removed]",
      "text/plain": [
       "<Figure size 432x288 with 1 Axes>"
      ]
     },
     "metadata": {},
     "output_type": "display_data"
    },
    {
     "name": "stdout",
     "output_type": "stream",
     "text": [
      "Percent of null values -  0.0  %\n"
     ]
    }
   ],
   "source": [
    "# generate_viz(train_data,'Customers_Country_Residence')\n",
    "column_name = 'Customers_Country_Residence'\n",
    "print(\"Datatype - category\")\n",
    "column = train_data[column_name][train_data[column_name].notnull()]\n",
    "column.value_counts().plot(kind='bar')\n",
    "plt.xlabel(column_name)\n",
    "plt.ylabel(\"Frequency\")\n",
    "plt.ylim(top=6000)\n",
    "plt.show()\n",
    "print(\"Percent of null values - \",train_data['Date'].isnull().sum()/len(train_data) * 100,\" %\")      "
   ]
  },
  {
   "cell_type": "code",
   "execution_count": 35,
   "metadata": {
    "scrolled": true
   },
   "outputs": [
    {
     "name": "stdout",
     "output_type": "stream",
     "text": [
      "Datatype - category\n"
     ]
    },
    {
     "data": {
      "image/png": "[encoded data removed]",
      "text/plain": [
       "<Figure size 432x288 with 1 Axes>"
      ]
     },
     "metadata": {},
     "output_type": "display_data"
    },
    {
     "name": "stdout",
     "output_type": "stream",
     "text": [
      "Percent of null values -  0.2032195504622926  %\n"
     ]
    }
   ],
   "source": [
    "generate_viz(train_data,'Customer_Seniority')"
   ]
  },
  {
   "cell_type": "code",
   "execution_count": 94,
   "metadata": {},
   "outputs": [],
   "source": [
    "# Replace -999999 with np.nan\n",
    "train_data['Customer_Seniority'] = train_data['Customer_Seniority'].astype('float').replace(-999999,np.nan)"
   ]
  },
  {
   "cell_type": "code",
   "execution_count": 103,
   "metadata": {},
   "outputs": [],
   "source": [
    "# Replace nan values with the mode\n",
    "train_data['Customer_Seniority'].fillna(12.0,inplace=True)"
   ]
  },
  {
   "cell_type": "code",
   "execution_count": 105,
   "metadata": {},
   "outputs": [
    {
     "data": {
      "text/plain": [
       "(array([3833788., 3109487.,  865020., 1019260., 1114352., 1005014.,\n",
       "        1398135.,  696145.,  451260.,  154848.]),\n",
       " array([  0. ,  25.6,  51.2,  76.8, 102.4, 128. , 153.6, 179.2, 204.8,\n",
       "        230.4, 256. ]),\n",
       " <a list of 10 Patch objects>)"
      ]
     },
     "execution_count": 105,
     "metadata": {},
     "output_type": "execute_result"
    },
    {
     "data": {
      "image/png": "[encoded data removed]",
      "text/plain": [
       "<Figure size 432x288 with 1 Axes>"
      ]
     },
     "metadata": {},
     "output_type": "display_data"
    }
   ],
   "source": [
    "plt.hist(train_data['Customer_Seniority'])"
   ]
  },
  {
   "cell_type": "code",
   "execution_count": 106,
   "metadata": {},
   "outputs": [],
   "source": [
    "train_data['Customer_Seniority'] = train_data['Customer_Seniority'].astype('category')"
   ]
  },
  {
   "cell_type": "code",
   "execution_count": 36,
   "metadata": {},
   "outputs": [
    {
     "name": "stdout",
     "output_type": "stream",
     "text": [
      "Datatype -  float64\n"
     ]
    },
    {
     "data": {
      "image/png": "[encoded data removed]",
      "text/plain": [
       "<Figure size 432x288 with 1 Axes>"
      ]
     },
     "metadata": {},
     "output_type": "display_data"
    },
    {
     "name": "stdout",
     "output_type": "stream",
     "text": [
      "Percent of null values -  0.2032195504622926  %\n"
     ]
    },
    {
     "data": {
      "image/png": "[encoded data removed]",
      "text/plain": [
       "<Figure size 432x288 with 1 Axes>"
      ]
     },
     "metadata": {},
     "output_type": "display_data"
    }
   ],
   "source": [
    "generate_viz(train_data,'Primary_Customer')"
   ]
  },
  {
   "cell_type": "code",
   "execution_count": 109,
   "metadata": {},
   "outputs": [],
   "source": [
    "train_data['Primary_Customer'].fillna(1.0,inplace=True)\n",
    "train_data['Primary_Customer'] = train_data['Primary_Customer'].astype('category')"
   ]
  },
  {
   "cell_type": "code",
   "execution_count": 110,
   "metadata": {},
   "outputs": [
    {
     "data": {
      "text/plain": [
       "0"
      ]
     },
     "execution_count": 110,
     "metadata": {},
     "output_type": "execute_result"
    }
   ],
   "source": [
    "train_data['Primary_Customer'].isnull().sum()"
   ]
  },
  {
   "cell_type": "code",
   "execution_count": 37,
   "metadata": {
    "scrolled": true
   },
   "outputs": [
    {
     "name": "stdout",
     "output_type": "stream",
     "text": [
      "Datatype - datetime64[ns]\n"
     ]
    },
    {
     "data": {
      "image/png": "[encoded data removed]",
      "text/plain": [
       "<Figure size 432x288 with 1 Axes>"
      ]
     },
     "metadata": {},
     "output_type": "display_data"
    },
    {
     "name": "stdout",
     "output_type": "stream",
     "text": [
      "Datatype -  datetime64[ns]\n",
      "Percent of null values -  99.81833048551916  %\n"
     ]
    }
   ],
   "source": [
    "generate_viz(train_data,'Last_Date_Primary_Customer')"
   ]
  },
  {
   "cell_type": "code",
   "execution_count": 111,
   "metadata": {},
   "outputs": [
    {
     "data": {
      "text/plain": [
       "13622516"
      ]
     },
     "execution_count": 111,
     "metadata": {},
     "output_type": "execute_result"
    }
   ],
   "source": [
    "train_data['Last_Date_Primary_Customer'].isnull().sum()"
   ]
  },
  {
   "cell_type": "code",
   "execution_count": 112,
   "metadata": {},
   "outputs": [],
   "source": [
    "# 99% null values therefore dropping column\n",
    "train_data.drop('Last_Date_Primary_Customer',axis=1,inplace=True)"
   ]
  },
  {
   "cell_type": "code",
   "execution_count": 38,
   "metadata": {
    "scrolled": true
   },
   "outputs": [
    {
     "name": "stdout",
     "output_type": "stream",
     "text": [
      "Datatype - category\n"
     ]
    },
    {
     "data": {
      "image/png": "[encoded data removed]",
      "text/plain": [
       "<Figure size 432x288 with 1 Axes>"
      ]
     },
     "metadata": {},
     "output_type": "display_data"
    },
    {
     "name": "stdout",
     "output_type": "stream",
     "text": [
      "Percent of null values -  1.097513070159106  %\n"
     ]
    }
   ],
   "source": [
    "generate_viz(train_data,'Customer_Type_Beginning_Month')"
   ]
  },
  {
   "cell_type": "code",
   "execution_count": 120,
   "metadata": {
    "scrolled": true
   },
   "outputs": [
    {
     "data": {
      "text/plain": [
       "array([1.0, nan, 3.0, 2.0, '1.0', '1', '3', '3.0', '2.0', '4.0', 5, '4',\n",
       "       4.0, '2'], dtype=object)"
      ]
     },
     "execution_count": 120,
     "metadata": {},
     "output_type": "execute_result"
    }
   ],
   "source": [
    "train_data['Customer_Type_Beginning_Month'].unique()"
   ]
  },
  {
   "cell_type": "code",
   "execution_count": 119,
   "metadata": {},
   "outputs": [],
   "source": [
    "train_data['Customer_Type_Beginning_Month'].replace('P',5,inplace=True)"
   ]
  },
  {
   "cell_type": "code",
   "execution_count": 121,
   "metadata": {},
   "outputs": [
    {
     "data": {
      "text/plain": [
       "0    1.0\n",
       "dtype: float64"
      ]
     },
     "execution_count": 121,
     "metadata": {},
     "output_type": "execute_result"
    }
   ],
   "source": [
    "train_data['Customer_Type_Beginning_Month'].astype('float').mode()"
   ]
  },
  {
   "cell_type": "code",
   "execution_count": 123,
   "metadata": {},
   "outputs": [],
   "source": [
    "train_data['Customer_Type_Beginning_Month'].fillna(1.0,inplace=True)"
   ]
  },
  {
   "cell_type": "code",
   "execution_count": 126,
   "metadata": {},
   "outputs": [],
   "source": [
    "train_data['Customer_Type_Beginning_Month'] = train_data['Customer_Type_Beginning_Month'].astype('float')"
   ]
  },
  {
   "cell_type": "code",
   "execution_count": 128,
   "metadata": {},
   "outputs": [
    {
     "data": {
      "text/plain": [
       "0"
      ]
     },
     "execution_count": 128,
     "metadata": {},
     "output_type": "execute_result"
    }
   ],
   "source": [
    "train_data['Customer_Type_Beginning_Month'].isnull().sum()"
   ]
  },
  {
   "cell_type": "code",
   "execution_count": 39,
   "metadata": {
    "scrolled": true
   },
   "outputs": [
    {
     "name": "stdout",
     "output_type": "stream",
     "text": [
      "Datatype - category\n"
     ]
    },
    {
     "data": {
      "image/png": "[encoded data removed]",
      "text/plain": [
       "<Figure size 432x288 with 1 Axes>"
      ]
     },
     "metadata": {},
     "output_type": "display_data"
    },
    {
     "name": "stdout",
     "output_type": "stream",
     "text": [
      "Percent of null values -  1.097513070159106  %\n"
     ]
    }
   ],
   "source": [
    "generate_viz(train_data,'Customer_Relation_Type_Beginning_Month')"
   ]
  },
  {
   "cell_type": "code",
   "execution_count": 131,
   "metadata": {},
   "outputs": [
    {
     "data": {
      "text/plain": [
       "0"
      ]
     },
     "execution_count": 131,
     "metadata": {},
     "output_type": "execute_result"
    }
   ],
   "source": [
    "(train_data['Customer_Relation_Type_Beginning_Month']=='N').sum()"
   ]
  },
  {
   "cell_type": "code",
   "execution_count": 130,
   "metadata": {},
   "outputs": [],
   "source": [
    "train_data['Customer_Relation_Type_Beginning_Month'].replace('N',np.nan,inplace=True)"
   ]
  },
  {
   "cell_type": "code",
   "execution_count": 133,
   "metadata": {},
   "outputs": [],
   "source": [
    "train_data['Customer_Relation_Type_Beginning_Month'].fillna('I',inplace=True)"
   ]
  },
  {
   "cell_type": "code",
   "execution_count": 134,
   "metadata": {},
   "outputs": [
    {
     "data": {
      "text/plain": [
       "0"
      ]
     },
     "execution_count": 134,
     "metadata": {},
     "output_type": "execute_result"
    }
   ],
   "source": [
    "train_data['Customer_Relation_Type_Beginning_Month'].isnull().sum()"
   ]
  },
  {
   "cell_type": "code",
   "execution_count": 40,
   "metadata": {
    "scrolled": true
   },
   "outputs": [
    {
     "name": "stdout",
     "output_type": "stream",
     "text": [
      "Datatype - category\n"
     ]
    },
    {
     "data": {
      "image/png": "[encoded data removed]",
      "text/plain": [
       "<Figure size 432x288 with 1 Axes>"
      ]
     },
     "metadata": {},
     "output_type": "display_data"
    },
    {
     "name": "stdout",
     "output_type": "stream",
     "text": [
      "Percent of null values -  0.2032195504622926  %\n"
     ]
    }
   ],
   "source": [
    "generate_viz(train_data,'Residence_Index')"
   ]
  },
  {
   "cell_type": "code",
   "execution_count": 135,
   "metadata": {},
   "outputs": [
    {
     "data": {
      "text/plain": [
       "0    S\n",
       "Name: Residence_Index, dtype: category\n",
       "Categories (2, object): [N, S]"
      ]
     },
     "execution_count": 135,
     "metadata": {},
     "output_type": "execute_result"
    }
   ],
   "source": [
    "train_data['Residence_Index'].mode()"
   ]
  },
  {
   "cell_type": "code",
   "execution_count": 136,
   "metadata": {},
   "outputs": [],
   "source": [
    "train_data['Residence_Index'].fillna('S',inplace=True)"
   ]
  },
  {
   "cell_type": "code",
   "execution_count": 137,
   "metadata": {},
   "outputs": [
    {
     "data": {
      "text/plain": [
       "0"
      ]
     },
     "execution_count": 137,
     "metadata": {},
     "output_type": "execute_result"
    }
   ],
   "source": [
    "train_data['Residence_Index'].isnull().sum()"
   ]
  },
  {
   "cell_type": "code",
   "execution_count": 41,
   "metadata": {
    "scrolled": true
   },
   "outputs": [
    {
     "name": "stdout",
     "output_type": "stream",
     "text": [
      "Datatype - category\n"
     ]
    },
    {
     "data": {
      "image/png": "[encoded data removed]",
      "text/plain": [
       "<Figure size 432x288 with 1 Axes>"
      ]
     },
     "metadata": {},
     "output_type": "display_data"
    },
    {
     "name": "stdout",
     "output_type": "stream",
     "text": [
      "Percent of null values -  0.2032195504622926  %\n"
     ]
    }
   ],
   "source": [
    "generate_viz(train_data,'Foreigner_Index')"
   ]
  },
  {
   "cell_type": "code",
   "execution_count": 138,
   "metadata": {},
   "outputs": [
    {
     "data": {
      "text/plain": [
       "0    N\n",
       "Name: Foreigner_Index, dtype: category\n",
       "Categories (2, object): [N, S]"
      ]
     },
     "execution_count": 138,
     "metadata": {},
     "output_type": "execute_result"
    }
   ],
   "source": [
    "train_data['Foreigner_Index'].mode()"
   ]
  },
  {
   "cell_type": "code",
   "execution_count": 139,
   "metadata": {},
   "outputs": [],
   "source": [
    "train_data['Foreigner_Index'].fillna('N',inplace=True)"
   ]
  },
  {
   "cell_type": "code",
   "execution_count": 140,
   "metadata": {},
   "outputs": [
    {
     "data": {
      "text/plain": [
       "0"
      ]
     },
     "execution_count": 140,
     "metadata": {},
     "output_type": "execute_result"
    }
   ],
   "source": [
    "train_data['Foreigner_Index'].isnull().sum()"
   ]
  },
  {
   "cell_type": "code",
   "execution_count": 42,
   "metadata": {
    "scrolled": false
   },
   "outputs": [
    {
     "name": "stdout",
     "output_type": "stream",
     "text": [
      "Datatype - category\n"
     ]
    },
    {
     "data": {
      "image/png": "[encoded data removed]",
      "text/plain": [
       "<Figure size 432x288 with 1 Axes>"
      ]
     },
     "metadata": {},
     "output_type": "display_data"
    },
    {
     "name": "stdout",
     "output_type": "stream",
     "text": [
      "Percent of null values -  99.98675196699949  %\n"
     ]
    }
   ],
   "source": [
    "generate_viz(train_data,'Spouse_Index')#to be dropped"
   ]
  },
  {
   "cell_type": "code",
   "execution_count": 141,
   "metadata": {},
   "outputs": [],
   "source": [
    "train_data.drop('Spouse_Index',axis=1,inplace=True)"
   ]
  },
  {
   "cell_type": "code",
   "execution_count": 43,
   "metadata": {},
   "outputs": [
    {
     "name": "stdout",
     "output_type": "stream",
     "text": [
      "Datatype - category\n"
     ]
    },
    {
     "data": {
      "image/png": "[encoded data removed]",
      "text/plain": [
       "<Figure size 432x288 with 1 Axes>"
      ]
     },
     "metadata": {},
     "output_type": "display_data"
    },
    {
     "name": "stdout",
     "output_type": "stream",
     "text": [
      "Percent of null values -  1.363909910737714  %\n"
     ]
    }
   ],
   "source": [
    "generate_viz(train_data,'Channel_Customer_join')"
   ]
  },
  {
   "cell_type": "code",
   "execution_count": 145,
   "metadata": {},
   "outputs": [
    {
     "data": {
      "text/plain": [
       "0    KHE\n",
       "Name: Channel_Customer_join, dtype: category\n",
       "Categories (162, object): [004, 007, 013, 025, ..., KHQ, KHR, KHS, RED]"
      ]
     },
     "execution_count": 145,
     "metadata": {},
     "output_type": "execute_result"
    }
   ],
   "source": [
    "train_data['Channel_Customer_join'].mode()"
   ]
  },
  {
   "cell_type": "code",
   "execution_count": 146,
   "metadata": {},
   "outputs": [],
   "source": [
    "train_data['Channel_Customer_join'].fillna('KHE',inplace=True)"
   ]
  },
  {
   "cell_type": "code",
   "execution_count": 147,
   "metadata": {},
   "outputs": [
    {
     "data": {
      "text/plain": [
       "0"
      ]
     },
     "execution_count": 147,
     "metadata": {},
     "output_type": "execute_result"
    }
   ],
   "source": [
    "train_data['Channel_Customer_join'].isnull().sum()"
   ]
  },
  {
   "cell_type": "code",
   "execution_count": 44,
   "metadata": {
    "scrolled": true
   },
   "outputs": [
    {
     "name": "stdout",
     "output_type": "stream",
     "text": [
      "Datatype - category\n"
     ]
    },
    {
     "data": {
      "image/png": "[encoded data removed]",
      "text/plain": [
       "<Figure size 432x288 with 1 Axes>"
      ]
     },
     "metadata": {},
     "output_type": "display_data"
    },
    {
     "name": "stdout",
     "output_type": "stream",
     "text": [
      "Percent of null values -  0.2032195504622926  %\n"
     ]
    }
   ],
   "source": [
    "generate_viz(train_data,'Deceased_Index')"
   ]
  },
  {
   "cell_type": "code",
   "execution_count": 143,
   "metadata": {},
   "outputs": [],
   "source": [
    "train_data['Deceased_Index'].fillna('N',inplace=True)"
   ]
  },
  {
   "cell_type": "code",
   "execution_count": 144,
   "metadata": {},
   "outputs": [
    {
     "data": {
      "text/plain": [
       "0"
      ]
     },
     "execution_count": 144,
     "metadata": {},
     "output_type": "execute_result"
    }
   ],
   "source": [
    "train_data['Deceased_Index'].isnull().sum()"
   ]
  },
  {
   "cell_type": "code",
   "execution_count": 45,
   "metadata": {
    "scrolled": true
   },
   "outputs": [
    {
     "name": "stdout",
     "output_type": "stream",
     "text": [
      "Datatype -  float64\n"
     ]
    },
    {
     "data": {
      "image/png": "[encoded data removed]",
      "text/plain": [
       "<Figure size 432x288 with 1 Axes>"
      ]
     },
     "metadata": {},
     "output_type": "display_data"
    },
    {
     "name": "stdout",
     "output_type": "stream",
     "text": [
      "Percent of null values -  0.2032268779141734  %\n"
     ]
    },
    {
     "data": {
      "image/png": "[encoded data removed]",
      "text/plain": [
       "<Figure size 432x288 with 1 Axes>"
      ]
     },
     "metadata": {},
     "output_type": "display_data"
    }
   ],
   "source": [
    "generate_viz(train_data,'Address_Type')"
   ]
  },
  {
   "cell_type": "code",
   "execution_count": 148,
   "metadata": {},
   "outputs": [
    {
     "data": {
      "text/plain": [
       "13619574"
      ]
     },
     "execution_count": 148,
     "metadata": {},
     "output_type": "execute_result"
    }
   ],
   "source": [
    "(train_data['Address_Type']==1).sum()"
   ]
  },
  {
   "cell_type": "code",
   "execution_count": 149,
   "metadata": {},
   "outputs": [],
   "source": [
    "train_data['Address_Type'].fillna(1,inplace=True)"
   ]
  },
  {
   "cell_type": "code",
   "execution_count": 47,
   "metadata": {
    "scrolled": true
   },
   "outputs": [
    {
     "name": "stdout",
     "output_type": "stream",
     "text": [
      "Datatype -  float64\n"
     ]
    },
    {
     "data": {
      "image/png": "[encoded data removed]",
      "text/plain": [
       "<Figure size 432x288 with 1 Axes>"
      ]
     },
     "metadata": {},
     "output_type": "display_data"
    },
    {
     "name": "stdout",
     "output_type": "stream",
     "text": [
      "Percent of null values -  0.6857835489765784  %\n"
     ]
    },
    {
     "data": {
      "image/png": "[encoded data removed]",
      "text/plain": [
       "<Figure size 432x288 with 1 Axes>"
      ]
     },
     "metadata": {},
     "output_type": "display_data"
    }
   ],
   "source": [
    "generate_viz(train_data,'Province_Code')"
   ]
  },
  {
   "cell_type": "code",
   "execution_count": 150,
   "metadata": {},
   "outputs": [
    {
     "data": {
      "text/plain": [
       "0    28.0\n",
       "dtype: float64"
      ]
     },
     "execution_count": 150,
     "metadata": {},
     "output_type": "execute_result"
    }
   ],
   "source": [
    "train_data['Province_Code'].mode()"
   ]
  },
  {
   "cell_type": "code",
   "execution_count": 151,
   "metadata": {},
   "outputs": [],
   "source": [
    "train_data['Province_Code'].fillna(28,inplace=True)"
   ]
  },
  {
   "cell_type": "code",
   "execution_count": 152,
   "metadata": {},
   "outputs": [],
   "source": [
    "train_data['Province_Code'] = train_data['Province_Code'].astype('category')"
   ]
  },
  {
   "cell_type": "code",
   "execution_count": 48,
   "metadata": {
    "scrolled": true
   },
   "outputs": [
    {
     "name": "stdout",
     "output_type": "stream",
     "text": [
      "Datatype - category\n"
     ]
    },
    {
     "data": {
      "image/png": "[encoded data removed]",
      "text/plain": [
       "<Figure size 432x288 with 1 Axes>"
      ]
     },
     "metadata": {},
     "output_type": "display_data"
    },
    {
     "name": "stdout",
     "output_type": "stream",
     "text": [
      "Percent of null values -  0.6857835489765784  %\n"
     ]
    }
   ],
   "source": [
    "generate_viz(train_data,'Province_Name')"
   ]
  },
  {
   "cell_type": "code",
   "execution_count": 153,
   "metadata": {},
   "outputs": [],
   "source": [
    "train_data['Province_Name'].fillna('MADRID',inplace=True)"
   ]
  },
  {
   "cell_type": "code",
   "execution_count": 154,
   "metadata": {},
   "outputs": [],
   "source": [
    "train_data['Province_Name'] = train_data['Province_Name'].astype('category')"
   ]
  },
  {
   "cell_type": "code",
   "execution_count": 49,
   "metadata": {},
   "outputs": [
    {
     "name": "stdout",
     "output_type": "stream",
     "text": [
      "Datatype -  float64\n"
     ]
    },
    {
     "data": {
      "image/png": "[encoded data removed]",
      "text/plain": [
       "<Figure size 432x288 with 1 Axes>"
      ]
     },
     "metadata": {},
     "output_type": "display_data"
    },
    {
     "name": "stdout",
     "output_type": "stream",
     "text": [
      "Percent of null values -  0.2032195504622926  %\n"
     ]
    },
    {
     "data": {
      "image/png": "[encoded data removed]",
      "text/plain": [
       "<Figure size 432x288 with 1 Axes>"
      ]
     },
     "metadata": {},
     "output_type": "display_data"
    }
   ],
   "source": [
    "generate_viz(train_data,'Activity_Index')"
   ]
  },
  {
   "cell_type": "code",
   "execution_count": 155,
   "metadata": {},
   "outputs": [],
   "source": [
    "train_data['Activity_Index'].fillna(1,inplace=True)"
   ]
  },
  {
   "cell_type": "code",
   "execution_count": 156,
   "metadata": {},
   "outputs": [],
   "source": [
    "train_data['Activity_Index'] = train_data['Activity_Index'].astype('category')"
   ]
  },
  {
   "cell_type": "code",
   "execution_count": 50,
   "metadata": {},
   "outputs": [
    {
     "name": "stdout",
     "output_type": "stream",
     "text": [
      "Datatype -  float64\n"
     ]
    },
    {
     "data": {
      "image/png": "[encoded data removed]",
      "text/plain": [
       "<Figure size 432x288 with 1 Axes>"
      ]
     },
     "metadata": {},
     "output_type": "display_data"
    },
    {
     "name": "stdout",
     "output_type": "stream",
     "text": [
      "Percent of null values -  20.475648349429182  %\n"
     ]
    },
    {
     "data": {
      "image/png": "[encoded data removed]",
      "text/plain": [
       "<Figure size 432x288 with 1 Axes>"
      ]
     },
     "metadata": {},
     "output_type": "display_data"
    }
   ],
   "source": [
    "generate_viz(train_data,'Household_Income')"
   ]
  },
  {
   "cell_type": "code",
   "execution_count": 51,
   "metadata": {},
   "outputs": [
    {
     "name": "stdout",
     "output_type": "stream",
     "text": [
      "Datatype - category\n"
     ]
    },
    {
     "data": {
      "image/png": "[encoded data removed]",
      "text/plain": [
       "<Figure size 432x288 with 1 Axes>"
      ]
     },
     "metadata": {},
     "output_type": "display_data"
    },
    {
     "name": "stdout",
     "output_type": "stream",
     "text": [
      "Percent of null values -  1.3875849077646003  %\n"
     ]
    }
   ],
   "source": [
    "generate_viz(train_data,'Segmentation')"
   ]
  },
  {
   "cell_type": "code",
   "execution_count": 157,
   "metadata": {},
   "outputs": [
    {
     "data": {
      "text/plain": [
       "0    02 - PARTICULARES\n",
       "Name: Segmentation, dtype: category\n",
       "Categories (3, object): [01 - TOP, 02 - PARTICULARES, 03 - UNIVERSITARIO]"
      ]
     },
     "execution_count": 157,
     "metadata": {},
     "output_type": "execute_result"
    }
   ],
   "source": [
    "train_data['Segmentation'].mode()"
   ]
  },
  {
   "cell_type": "code",
   "execution_count": 158,
   "metadata": {},
   "outputs": [],
   "source": [
    "train_data['Segmentation'].fillna('02 - PARTICULARES',inplace=True)"
   ]
  },
  {
   "cell_type": "code",
   "execution_count": 159,
   "metadata": {},
   "outputs": [],
   "source": [
    "train_data['Segmentation'] = train_data['Segmentation'].astype('category')"
   ]
  },
  {
   "cell_type": "code",
   "execution_count": 53,
   "metadata": {},
   "outputs": [
    {
     "name": "stdout",
     "output_type": "stream",
     "text": [
      "Datatype -  int64\n"
     ]
    },
    {
     "data": {
      "image/png": "[encoded data removed]",
      "text/plain": [
       "<Figure size 432x288 with 1 Axes>"
      ]
     },
     "metadata": {},
     "output_type": "display_data"
    },
    {
     "name": "stdout",
     "output_type": "stream",
     "text": [
      "Percent of null values -  0.0  %\n"
     ]
    },
    {
     "data": {
      "image/png": "[encoded data removed]",
      "text/plain": [
       "<Figure size 432x288 with 1 Axes>"
      ]
     },
     "metadata": {},
     "output_type": "display_data"
    }
   ],
   "source": [
    "generate_viz(train_data,'Saving_Account')"
   ]
  },
  {
   "cell_type": "code",
   "execution_count": 160,
   "metadata": {},
   "outputs": [],
   "source": [
    "train_data['Saving_Account'] = train_data['Saving_Account'].astype('category')"
   ]
  },
  {
   "cell_type": "code",
   "execution_count": 54,
   "metadata": {},
   "outputs": [
    {
     "name": "stdout",
     "output_type": "stream",
     "text": [
      "Datatype -  int64\n"
     ]
    },
    {
     "data": {
      "image/png": "[encoded data removed]",
      "text/plain": [
       "<Figure size 432x288 with 1 Axes>"
      ]
     },
     "metadata": {},
     "output_type": "display_data"
    },
    {
     "name": "stdout",
     "output_type": "stream",
     "text": [
      "Percent of null values -  0.0  %\n"
     ]
    },
    {
     "data": {
      "image/png": "[encoded data removed]",
      "text/plain": [
       "<Figure size 432x288 with 1 Axes>"
      ]
     },
     "metadata": {},
     "output_type": "display_data"
    }
   ],
   "source": [
    "generate_viz(train_data,'Guarantees')"
   ]
  },
  {
   "cell_type": "code",
   "execution_count": 161,
   "metadata": {},
   "outputs": [],
   "source": [
    "train_data['Guarantees'] = train_data['Guarantees'].astype('category')"
   ]
  },
  {
   "cell_type": "code",
   "execution_count": 55,
   "metadata": {},
   "outputs": [
    {
     "name": "stdout",
     "output_type": "stream",
     "text": [
      "Datatype -  int64\n"
     ]
    },
    {
     "data": {
      "image/png": "[encoded data removed]",
      "text/plain": [
       "<Figure size 432x288 with 1 Axes>"
      ]
     },
     "metadata": {},
     "output_type": "display_data"
    },
    {
     "name": "stdout",
     "output_type": "stream",
     "text": [
      "Percent of null values -  0.0  %\n"
     ]
    },
    {
     "data": {
      "image/png": "[encoded data removed]",
      "text/plain": [
       "<Figure size 432x288 with 1 Axes>"
      ]
     },
     "metadata": {},
     "output_type": "display_data"
    }
   ],
   "source": [
    "generate_viz(train_data,'Current_Account')"
   ]
  },
  {
   "cell_type": "code",
   "execution_count": 162,
   "metadata": {},
   "outputs": [],
   "source": [
    "train_data['Current_Account'] = train_data['Current_Account'].astype('category')"
   ]
  },
  {
   "cell_type": "code",
   "execution_count": 56,
   "metadata": {},
   "outputs": [
    {
     "name": "stdout",
     "output_type": "stream",
     "text": [
      "Datatype -  int64\n"
     ]
    },
    {
     "data": {
      "image/png": "[encoded data removed]",
      "text/plain": [
       "<Figure size 432x288 with 1 Axes>"
      ]
     },
     "metadata": {},
     "output_type": "display_data"
    },
    {
     "name": "stdout",
     "output_type": "stream",
     "text": [
      "Percent of null values -  0.0  %\n"
     ]
    },
    {
     "data": {
      "image/png": "[encoded data removed]",
      "text/plain": [
       "<Figure size 432x288 with 1 Axes>"
      ]
     },
     "metadata": {},
     "output_type": "display_data"
    }
   ],
   "source": [
    "generate_viz(train_data,'Derivada_Account')"
   ]
  },
  {
   "cell_type": "code",
   "execution_count": 163,
   "metadata": {},
   "outputs": [],
   "source": [
    "train_data['Derivada_Account'] = train_data['Derivada_Account'].astype('category')"
   ]
  },
  {
   "cell_type": "code",
   "execution_count": 57,
   "metadata": {},
   "outputs": [
    {
     "name": "stdout",
     "output_type": "stream",
     "text": [
      "Datatype -  int64\n"
     ]
    },
    {
     "data": {
      "image/png": "[encoded data removed]",
      "text/plain": [
       "<Figure size 432x288 with 1 Axes>"
      ]
     },
     "metadata": {},
     "output_type": "display_data"
    },
    {
     "name": "stdout",
     "output_type": "stream",
     "text": [
      "Percent of null values -  0.0  %\n"
     ]
    },
    {
     "data": {
      "image/png": "[encoded data removed]",
      "text/plain": [
       "<Figure size 432x288 with 1 Axes>"
      ]
     },
     "metadata": {},
     "output_type": "display_data"
    }
   ],
   "source": [
    "generate_viz(train_data,'Payroll_Account')"
   ]
  },
  {
   "cell_type": "code",
   "execution_count": 164,
   "metadata": {},
   "outputs": [],
   "source": [
    "train_data['Payroll_Account'] = train_data['Payroll_Account'].astype('category')"
   ]
  },
  {
   "cell_type": "code",
   "execution_count": 58,
   "metadata": {},
   "outputs": [
    {
     "name": "stdout",
     "output_type": "stream",
     "text": [
      "Datatype -  int64\n"
     ]
    },
    {
     "data": {
      "image/png": "[encoded data removed]",
      "text/plain": [
       "<Figure size 432x288 with 1 Axes>"
      ]
     },
     "metadata": {},
     "output_type": "display_data"
    },
    {
     "name": "stdout",
     "output_type": "stream",
     "text": [
      "Percent of null values -  0.0  %\n"
     ]
    },
    {
     "data": {
      "image/png": "[encoded data removed]",
      "text/plain": [
       "<Figure size 432x288 with 1 Axes>"
      ]
     },
     "metadata": {},
     "output_type": "display_data"
    }
   ],
   "source": [
    "generate_viz(train_data,'Junior_Account')"
   ]
  },
  {
   "cell_type": "code",
   "execution_count": 165,
   "metadata": {},
   "outputs": [],
   "source": [
    "train_data['Junior_Account'] = train_data['Junior_Account'].astype('category')"
   ]
  },
  {
   "cell_type": "code",
   "execution_count": 59,
   "metadata": {},
   "outputs": [
    {
     "name": "stdout",
     "output_type": "stream",
     "text": [
      "Datatype -  int64\n"
     ]
    },
    {
     "data": {
      "image/png": "[encoded data removed]",
      "text/plain": [
       "<Figure size 432x288 with 1 Axes>"
      ]
     },
     "metadata": {},
     "output_type": "display_data"
    },
    {
     "name": "stdout",
     "output_type": "stream",
     "text": [
      "Percent of null values -  0.0  %\n"
     ]
    },
    {
     "data": {
      "image/png": "[encoded data removed]",
      "text/plain": [
       "<Figure size 432x288 with 1 Axes>"
      ]
     },
     "metadata": {},
     "output_type": "display_data"
    }
   ],
   "source": [
    "generate_viz(train_data,'MAS_Particular_Account')"
   ]
  },
  {
   "cell_type": "code",
   "execution_count": 166,
   "metadata": {},
   "outputs": [],
   "source": [
    "train_data['MAS_Particular_Account'] = train_data['MAS_Particular_Account'].astype('category')"
   ]
  },
  {
   "cell_type": "code",
   "execution_count": 60,
   "metadata": {},
   "outputs": [
    {
     "name": "stdout",
     "output_type": "stream",
     "text": [
      "Datatype -  int64\n"
     ]
    },
    {
     "data": {
      "image/png": "[encoded data removed]",
      "text/plain": [
       "<Figure size 432x288 with 1 Axes>"
      ]
     },
     "metadata": {},
     "output_type": "display_data"
    },
    {
     "name": "stdout",
     "output_type": "stream",
     "text": [
      "Percent of null values -  0.0  %\n"
     ]
    },
    {
     "data": {
      "image/png": "[encoded data removed]",
      "text/plain": [
       "<Figure size 432x288 with 1 Axes>"
      ]
     },
     "metadata": {},
     "output_type": "display_data"
    }
   ],
   "source": [
    "generate_viz(train_data,'Particular_Account')"
   ]
  },
  {
   "cell_type": "code",
   "execution_count": 167,
   "metadata": {},
   "outputs": [],
   "source": [
    "train_data['Particular_Account'] = train_data['Particular_Account'].astype('category')"
   ]
  },
  {
   "cell_type": "code",
   "execution_count": 61,
   "metadata": {},
   "outputs": [
    {
     "name": "stdout",
     "output_type": "stream",
     "text": [
      "Datatype -  int64\n"
     ]
    },
    {
     "data": {
      "image/png": "[encoded data removed]",
      "text/plain": [
       "<Figure size 432x288 with 1 Axes>"
      ]
     },
     "metadata": {},
     "output_type": "display_data"
    },
    {
     "name": "stdout",
     "output_type": "stream",
     "text": [
      "Percent of null values -  0.0  %\n"
     ]
    },
    {
     "data": {
      "image/png": "[encoded data removed]",
      "text/plain": [
       "<Figure size 432x288 with 1 Axes>"
      ]
     },
     "metadata": {},
     "output_type": "display_data"
    }
   ],
   "source": [
    "generate_viz(train_data,'Particular_Plus_Account')"
   ]
  },
  {
   "cell_type": "code",
   "execution_count": 168,
   "metadata": {},
   "outputs": [],
   "source": [
    "train_data['Particular_Plus_Account'] = train_data['Particular_Plus_Account'].astype('category')"
   ]
  },
  {
   "cell_type": "code",
   "execution_count": 62,
   "metadata": {},
   "outputs": [
    {
     "name": "stdout",
     "output_type": "stream",
     "text": [
      "Datatype -  int64\n"
     ]
    },
    {
     "data": {
      "image/png": "[encoded data removed]",
      "text/plain": [
       "<Figure size 432x288 with 1 Axes>"
      ]
     },
     "metadata": {},
     "output_type": "display_data"
    },
    {
     "name": "stdout",
     "output_type": "stream",
     "text": [
      "Percent of null values -  0.0  %\n"
     ]
    },
    {
     "data": {
      "image/png": "[encoded data removed]",
      "text/plain": [
       "<Figure size 432x288 with 1 Axes>"
      ]
     },
     "metadata": {},
     "output_type": "display_data"
    }
   ],
   "source": [
    "generate_viz(train_data,'Short_Term_Deposit')"
   ]
  },
  {
   "cell_type": "code",
   "execution_count": 169,
   "metadata": {},
   "outputs": [],
   "source": [
    "train_data['Short_Term_Deposit'] = train_data['Short_Term_Deposit'].astype('category')"
   ]
  },
  {
   "cell_type": "code",
   "execution_count": 63,
   "metadata": {},
   "outputs": [
    {
     "name": "stdout",
     "output_type": "stream",
     "text": [
      "Datatype -  int64\n"
     ]
    },
    {
     "data": {
      "image/png": "[encoded data removed]",
      "text/plain": [
       "<Figure size 432x288 with 1 Axes>"
      ]
     },
     "metadata": {},
     "output_type": "display_data"
    },
    {
     "name": "stdout",
     "output_type": "stream",
     "text": [
      "Percent of null values -  0.0  %\n"
     ]
    },
    {
     "data": {
      "image/png": "[encoded data removed]",
      "text/plain": [
       "<Figure size 432x288 with 1 Axes>"
      ]
     },
     "metadata": {},
     "output_type": "display_data"
    }
   ],
   "source": [
    "generate_viz(train_data,'Medium_Term_Deposit')"
   ]
  },
  {
   "cell_type": "code",
   "execution_count": 170,
   "metadata": {},
   "outputs": [],
   "source": [
    "train_data['Medium_Term_Deposit'] = train_data['Medium_Term_Deposit'].astype('category')"
   ]
  },
  {
   "cell_type": "code",
   "execution_count": 64,
   "metadata": {},
   "outputs": [
    {
     "name": "stdout",
     "output_type": "stream",
     "text": [
      "Datatype -  int64\n"
     ]
    },
    {
     "data": {
      "image/png": "[encoded data removed]",
      "text/plain": [
       "<Figure size 432x288 with 1 Axes>"
      ]
     },
     "metadata": {},
     "output_type": "display_data"
    },
    {
     "name": "stdout",
     "output_type": "stream",
     "text": [
      "Percent of null values -  0.0  %\n"
     ]
    },
    {
     "data": {
      "image/png": "[encoded data removed]",
      "text/plain": [
       "<Figure size 432x288 with 1 Axes>"
      ]
     },
     "metadata": {},
     "output_type": "display_data"
    }
   ],
   "source": [
    "generate_viz(train_data,'Long_Term_Deposit')"
   ]
  },
  {
   "cell_type": "code",
   "execution_count": 171,
   "metadata": {},
   "outputs": [],
   "source": [
    "train_data['Long_Term_Deposit'] = train_data['Long_Term_Deposit'].astype('category')"
   ]
  },
  {
   "cell_type": "code",
   "execution_count": 65,
   "metadata": {},
   "outputs": [
    {
     "name": "stdout",
     "output_type": "stream",
     "text": [
      "Datatype -  int64\n"
     ]
    },
    {
     "data": {
      "image/png": "[encoded data removed]",
      "text/plain": [
       "<Figure size 432x288 with 1 Axes>"
      ]
     },
     "metadata": {},
     "output_type": "display_data"
    },
    {
     "name": "stdout",
     "output_type": "stream",
     "text": [
      "Percent of null values -  0.0  %\n"
     ]
    },
    {
     "data": {
      "image/png": "[encoded data removed]",
      "text/plain": [
       "<Figure size 432x288 with 1 Axes>"
      ]
     },
     "metadata": {},
     "output_type": "display_data"
    }
   ],
   "source": [
    "generate_viz(train_data,'E_Account')"
   ]
  },
  {
   "cell_type": "code",
   "execution_count": 172,
   "metadata": {},
   "outputs": [],
   "source": [
    "train_data['E_Account'] = train_data['E_Account'].astype('category')"
   ]
  },
  {
   "cell_type": "code",
   "execution_count": 66,
   "metadata": {},
   "outputs": [
    {
     "name": "stdout",
     "output_type": "stream",
     "text": [
      "Datatype -  int64\n"
     ]
    },
    {
     "data": {
      "image/png": "[encoded data removed]",
      "text/plain": [
       "<Figure size 432x288 with 1 Axes>"
      ]
     },
     "metadata": {},
     "output_type": "display_data"
    },
    {
     "name": "stdout",
     "output_type": "stream",
     "text": [
      "Percent of null values -  0.0  %\n"
     ]
    },
    {
     "data": {
      "image/png": "[encoded data removed]",
      "text/plain": [
       "<Figure size 432x288 with 1 Axes>"
      ]
     },
     "metadata": {},
     "output_type": "display_data"
    }
   ],
   "source": [
    "generate_viz(train_data,'Funds')"
   ]
  },
  {
   "cell_type": "code",
   "execution_count": 173,
   "metadata": {},
   "outputs": [],
   "source": [
    "train_data['Funds'] = train_data['Funds'].astype('category')"
   ]
  },
  {
   "cell_type": "code",
   "execution_count": 67,
   "metadata": {},
   "outputs": [
    {
     "name": "stdout",
     "output_type": "stream",
     "text": [
      "Datatype -  int64\n"
     ]
    },
    {
     "data": {
      "image/png": "[encoded data removed]",
      "text/plain": [
       "<Figure size 432x288 with 1 Axes>"
      ]
     },
     "metadata": {},
     "output_type": "display_data"
    },
    {
     "name": "stdout",
     "output_type": "stream",
     "text": [
      "Percent of null values -  0.0  %\n"
     ]
    },
    {
     "data": {
      "image/png": "[encoded data removed]",
      "text/plain": [
       "<Figure size 432x288 with 1 Axes>"
      ]
     },
     "metadata": {},
     "output_type": "display_data"
    }
   ],
   "source": [
    "generate_viz(train_data,'Mortgage')"
   ]
  },
  {
   "cell_type": "code",
   "execution_count": 174,
   "metadata": {},
   "outputs": [],
   "source": [
    "train_data['Mortgage'] = train_data['Mortgage'].astype('category')"
   ]
  },
  {
   "cell_type": "code",
   "execution_count": 68,
   "metadata": {},
   "outputs": [
    {
     "name": "stdout",
     "output_type": "stream",
     "text": [
      "Datatype -  float64\n"
     ]
    },
    {
     "data": {
      "image/png": "[encoded data removed]",
      "text/plain": [
       "<Figure size 432x288 with 1 Axes>"
      ]
     },
     "metadata": {},
     "output_type": "display_data"
    },
    {
     "name": "stdout",
     "output_type": "stream",
     "text": [
      "Percent of null values -  0.11770085956139778  %\n"
     ]
    },
    {
     "data": {
      "image/png": "[encoded data removed]",
      "text/plain": [
       "<Figure size 432x288 with 1 Axes>"
      ]
     },
     "metadata": {},
     "output_type": "display_data"
    }
   ],
   "source": [
    "generate_viz(train_data,'Pensions1')"
   ]
  },
  {
   "cell_type": "code",
   "execution_count": 175,
   "metadata": {},
   "outputs": [],
   "source": [
    "train_data['Pensions1'] = train_data['Pensions1'].astype('category')"
   ]
  },
  {
   "cell_type": "code",
   "execution_count": 69,
   "metadata": {},
   "outputs": [
    {
     "name": "stdout",
     "output_type": "stream",
     "text": [
      "Datatype -  int64\n"
     ]
    },
    {
     "data": {
      "image/png": "[encoded data removed]",
      "text/plain": [
       "<Figure size 432x288 with 1 Axes>"
      ]
     },
     "metadata": {},
     "output_type": "display_data"
    },
    {
     "name": "stdout",
     "output_type": "stream",
     "text": [
      "Percent of null values -  0.0  %\n"
     ]
    },
    {
     "data": {
      "image/png": "[encoded data removed]",
      "text/plain": [
       "<Figure size 432x288 with 1 Axes>"
      ]
     },
     "metadata": {},
     "output_type": "display_data"
    }
   ],
   "source": [
    "generate_viz(train_data,'Loans')"
   ]
  },
  {
   "cell_type": "code",
   "execution_count": 176,
   "metadata": {},
   "outputs": [],
   "source": [
    "train_data['Loans'] = train_data['Loans'].astype('category')"
   ]
  },
  {
   "cell_type": "code",
   "execution_count": 70,
   "metadata": {},
   "outputs": [
    {
     "name": "stdout",
     "output_type": "stream",
     "text": [
      "Datatype -  int64\n"
     ]
    },
    {
     "data": {
      "image/png": "[encoded data removed]",
      "text/plain": [
       "<Figure size 432x288 with 1 Axes>"
      ]
     },
     "metadata": {},
     "output_type": "display_data"
    },
    {
     "name": "stdout",
     "output_type": "stream",
     "text": [
      "Percent of null values -  0.0  %\n"
     ]
    },
    {
     "data": {
      "image/png": "[encoded data removed]",
      "text/plain": [
       "<Figure size 432x288 with 1 Axes>"
      ]
     },
     "metadata": {},
     "output_type": "display_data"
    }
   ],
   "source": [
    "generate_viz(train_data,'Taxes')"
   ]
  },
  {
   "cell_type": "code",
   "execution_count": 177,
   "metadata": {},
   "outputs": [],
   "source": [
    "train_data['Taxes'] = train_data['Taxes'].astype('category')"
   ]
  },
  {
   "cell_type": "code",
   "execution_count": 72,
   "metadata": {},
   "outputs": [
    {
     "name": "stdout",
     "output_type": "stream",
     "text": [
      "Datatype -  int64\n"
     ]
    },
    {
     "data": {
      "image/png": "[encoded data removed]",
      "text/plain": [
       "<Figure size 432x288 with 1 Axes>"
      ]
     },
     "metadata": {},
     "output_type": "display_data"
    },
    {
     "name": "stdout",
     "output_type": "stream",
     "text": [
      "Percent of null values -  0.0  %\n"
     ]
    },
    {
     "data": {
      "image/png": "[encoded data removed]",
      "text/plain": [
       "<Figure size 432x288 with 1 Axes>"
      ]
     },
     "metadata": {},
     "output_type": "display_data"
    }
   ],
   "source": [
    "generate_viz(train_data,'Credit_card')"
   ]
  },
  {
   "cell_type": "code",
   "execution_count": 178,
   "metadata": {},
   "outputs": [],
   "source": [
    "train_data['Credit_card'] = train_data['Credit_card'].astype('category')"
   ]
  },
  {
   "cell_type": "code",
   "execution_count": 73,
   "metadata": {},
   "outputs": [
    {
     "name": "stdout",
     "output_type": "stream",
     "text": [
      "Datatype -  int64\n"
     ]
    },
    {
     "data": {
      "image/png": "[encoded data removed]",
      "text/plain": [
       "<Figure size 432x288 with 1 Axes>"
      ]
     },
     "metadata": {},
     "output_type": "display_data"
    },
    {
     "name": "stdout",
     "output_type": "stream",
     "text": [
      "Percent of null values -  0.0  %\n"
     ]
    },
    {
     "data": {
      "image/png": "[encoded data removed]",
      "text/plain": [
       "<Figure size 432x288 with 1 Axes>"
      ]
     },
     "metadata": {},
     "output_type": "display_data"
    }
   ],
   "source": [
    "generate_viz(train_data,'Securities')"
   ]
  },
  {
   "cell_type": "code",
   "execution_count": 179,
   "metadata": {},
   "outputs": [],
   "source": [
    "train_data['Securities'] = train_data['Securities'].astype('category')"
   ]
  },
  {
   "cell_type": "code",
   "execution_count": 74,
   "metadata": {},
   "outputs": [
    {
     "name": "stdout",
     "output_type": "stream",
     "text": [
      "Datatype -  int64\n"
     ]
    },
    {
     "data": {
      "image/png": "[encoded data removed]",
      "text/plain": [
       "<Figure size 432x288 with 1 Axes>"
      ]
     },
     "metadata": {},
     "output_type": "display_data"
    },
    {
     "name": "stdout",
     "output_type": "stream",
     "text": [
      "Percent of null values -  0.0  %\n"
     ]
    },
    {
     "data": {
      "image/png": "[encoded data removed]",
      "text/plain": [
       "<Figure size 432x288 with 1 Axes>"
      ]
     },
     "metadata": {},
     "output_type": "display_data"
    }
   ],
   "source": [
    "generate_viz(train_data,'Home_Account')"
   ]
  },
  {
   "cell_type": "code",
   "execution_count": 180,
   "metadata": {},
   "outputs": [],
   "source": [
    "train_data['Home_Account'] = train_data['Home_Account'].astype('category')"
   ]
  },
  {
   "cell_type": "code",
   "execution_count": 75,
   "metadata": {},
   "outputs": [
    {
     "name": "stdout",
     "output_type": "stream",
     "text": [
      "Datatype -  float64\n"
     ]
    },
    {
     "data": {
      "image/png": "[encoded data removed]",
      "text/plain": [
       "<Figure size 432x288 with 1 Axes>"
      ]
     },
     "metadata": {},
     "output_type": "display_data"
    },
    {
     "name": "stdout",
     "output_type": "stream",
     "text": [
      "Percent of null values -  0.11770085956139778  %\n"
     ]
    },
    {
     "data": {
      "image/png": "[encoded data removed]",
      "text/plain": [
       "<Figure size 432x288 with 1 Axes>"
      ]
     },
     "metadata": {},
     "output_type": "display_data"
    }
   ],
   "source": [
    "generate_viz(train_data,'Payroll')"
   ]
  },
  {
   "cell_type": "code",
   "execution_count": 181,
   "metadata": {},
   "outputs": [],
   "source": [
    "train_data['Payroll'] = train_data['Payroll'].astype('category')"
   ]
  },
  {
   "cell_type": "code",
   "execution_count": 76,
   "metadata": {},
   "outputs": [
    {
     "name": "stdout",
     "output_type": "stream",
     "text": [
      "Datatype -  float64\n"
     ]
    },
    {
     "data": {
      "image/png": "[encoded data removed]",
      "text/plain": [
       "<Figure size 432x288 with 1 Axes>"
      ]
     },
     "metadata": {},
     "output_type": "display_data"
    },
    {
     "name": "stdout",
     "output_type": "stream",
     "text": [
      "Percent of null values -  0.11770085956139778  %\n"
     ]
    },
    {
     "data": {
      "image/png": "[encoded data removed]",
      "text/plain": [
       "<Figure size 432x288 with 1 Axes>"
      ]
     },
     "metadata": {},
     "output_type": "display_data"
    }
   ],
   "source": [
    "generate_viz(train_data,'Pensions2')"
   ]
  },
  {
   "cell_type": "code",
   "execution_count": 182,
   "metadata": {},
   "outputs": [],
   "source": [
    "train_data['Pensions2'] = train_data['Pensions2'].astype('category')"
   ]
  },
  {
   "cell_type": "code",
   "execution_count": 77,
   "metadata": {},
   "outputs": [
    {
     "name": "stdout",
     "output_type": "stream",
     "text": [
      "Datatype -  int64\n"
     ]
    },
    {
     "data": {
      "image/png": "[encoded data removed]",
      "text/plain": [
       "<Figure size 432x288 with 1 Axes>"
      ]
     },
     "metadata": {},
     "output_type": "display_data"
    },
    {
     "name": "stdout",
     "output_type": "stream",
     "text": [
      "Percent of null values -  0.0  %\n"
     ]
    },
    {
     "data": {
      "image/png": "[encoded data removed]",
      "text/plain": [
       "<Figure size 432x288 with 1 Axes>"
      ]
     },
     "metadata": {},
     "output_type": "display_data"
    }
   ],
   "source": [
    "generate_viz(train_data,'Direct_Debit')"
   ]
  },
  {
   "cell_type": "code",
   "execution_count": 183,
   "metadata": {},
   "outputs": [],
   "source": [
    "train_data['Direct_Debit'] = train_data['Direct_Debit'].astype('category')"
   ]
  },
  {
   "cell_type": "code",
   "execution_count": 188,
   "metadata": {
    "scrolled": true
   },
   "outputs": [
    {
     "data": {
      "text/plain": [
       "Date                                            0\n",
       "Customer_Code                                   0\n",
       "Customers_Country_Residence                 27734\n",
       "Sex                                         27804\n",
       "Age                                         27734\n",
       "Date_Acc_Open                               27734\n",
       "New_customer_index                          27734\n",
       "Customer_Seniority                              0\n",
       "Primary_Customer                                0\n",
       "Customer_Type_Beginning_Month                   0\n",
       "Customer_Relation_Type_Beginning_Month          0\n",
       "Residence_Index                                 0\n",
       "Foreigner_Index                                 0\n",
       "Channel_Customer_join                           0\n",
       "Deceased_Index                                  0\n",
       "Address_Type                                    0\n",
       "Province_Code                                   0\n",
       "Province_Name                                   0\n",
       "Activity_Index                                  0\n",
       "Household_Income                          2794375\n",
       "Segmentation                                    0\n",
       "Saving_Account                                  0\n",
       "Guarantees                                      0\n",
       "Current_Account                                 0\n",
       "Derivada_Account                                0\n",
       "Payroll_Account                                 0\n",
       "Junior_Account                                  0\n",
       "MAS_Particular_Account                          0\n",
       "Particular_Account                              0\n",
       "Particular_Plus_Account                         0\n",
       "Short_Term_Deposit                              0\n",
       "Medium_Term_Deposit                             0\n",
       "Long_Term_Deposit                               0\n",
       "E_Account                                       0\n",
       "Funds                                           0\n",
       "Mortgage                                        0\n",
       "Pensions1                                   16063\n",
       "Loans                                           0\n",
       "Taxes                                           0\n",
       "Credit_card                                     0\n",
       "Securities                                      0\n",
       "Home_Account                                    0\n",
       "Payroll                                     16063\n",
       "Pensions2                                   16063\n",
       "Direct_Debit                                    0\n",
       "dtype: int64"
      ]
     },
     "execution_count": 188,
     "metadata": {},
     "output_type": "execute_result"
    }
   ],
   "source": [
    "train_data.isnull().sum()"
   ]
  },
  {
   "cell_type": "code",
   "execution_count": 185,
   "metadata": {},
   "outputs": [],
   "source": [
    "train_data.to_pickle(\"Cleaned_Data/train.pkl\")"
   ]
  },
  {
   "cell_type": "code",
   "execution_count": 187,
   "metadata": {},
   "outputs": [],
   "source": [
    "train_data.drop('Employee_Index',axis=1,inplace=True)"
   ]
  },
  {
   "cell_type": "code",
   "execution_count": 194,
   "metadata": {
    "scrolled": true
   },
   "outputs": [
    {
     "name": "stdout",
     "output_type": "stream",
     "text": [
      "Datatype - category\n"
     ]
    },
    {
     "data": {
      "image/png": "[encoded data removed]",
      "text/plain": [
       "<Figure size 432x288 with 1 Axes>"
      ]
     },
     "metadata": {},
     "output_type": "display_data"
    },
    {
     "name": "stdout",
     "output_type": "stream",
     "text": [
      "Percent of null values -  0.0  %\n"
     ]
    }
   ],
   "source": [
    "generate_viz(train_data,'Customers_Country_Residence')"
   ]
  },
  {
   "cell_type": "code",
   "execution_count": 191,
   "metadata": {},
   "outputs": [
    {
     "data": {
      "text/plain": [
       "0    ES\n",
       "Name: Customers_Country_Residence, dtype: category\n",
       "Categories (118, object): [AD, AE, AL, AO, ..., VE, VN, ZA, ZW]"
      ]
     },
     "execution_count": 191,
     "metadata": {},
     "output_type": "execute_result"
    }
   ],
   "source": [
    "train_data['Customers_Country_Residence'].mode()"
   ]
  },
  {
   "cell_type": "code",
   "execution_count": 193,
   "metadata": {},
   "outputs": [],
   "source": [
    "train_data['Customers_Country_Residence'].fillna('ES',inplace=True)"
   ]
  },
  {
   "cell_type": "code",
   "execution_count": 197,
   "metadata": {},
   "outputs": [
    {
     "name": "stdout",
     "output_type": "stream",
     "text": [
      "Datatype - category\n"
     ]
    },
    {
     "data": {
      "image/png": "[encoded data removed]",
      "text/plain": [
       "<Figure size 432x288 with 1 Axes>"
      ]
     },
     "metadata": {},
     "output_type": "display_data"
    },
    {
     "name": "stdout",
     "output_type": "stream",
     "text": [
      "Percent of null values -  0.0  %\n"
     ]
    }
   ],
   "source": [
    "generate_viz(train_data,'Sex')"
   ]
  },
  {
   "cell_type": "code",
   "execution_count": 196,
   "metadata": {},
   "outputs": [],
   "source": [
    "train_data['Sex'].fillna('V',inplace=True)"
   ]
  },
  {
   "cell_type": "code",
   "execution_count": 221,
   "metadata": {
    "scrolled": false
   },
   "outputs": [
    {
     "name": "stdout",
     "output_type": "stream",
     "text": [
      "Datatype -  float64\n"
     ]
    },
    {
     "data": {
      "image/png": "[encoded data removed]",
      "text/plain": [
       "<Figure size 432x288 with 1 Axes>"
      ]
     },
     "metadata": {},
     "output_type": "display_data"
    },
    {
     "name": "stdout",
     "output_type": "stream",
     "text": [
      "Percent of null values -  0.0  %\n"
     ]
    },
    {
     "data": {
      "image/png": "[encoded data removed]",
      "text/plain": [
       "<Figure size 432x288 with 1 Axes>"
      ]
     },
     "metadata": {},
     "output_type": "display_data"
    }
   ],
   "source": [
    "generate_viz(train_data,'Age')"
   ]
  },
  {
   "cell_type": "code",
   "execution_count": 212,
   "metadata": {},
   "outputs": [],
   "source": [
    "train_data['Age'] = train_data['Age'].astype('float')"
   ]
  },
  {
   "cell_type": "code",
   "execution_count": 213,
   "metadata": {},
   "outputs": [],
   "source": [
    "train_data['Age'][train_data['Age']>122] = np.nan"
   ]
  },
  {
   "cell_type": "code",
   "execution_count": 219,
   "metadata": {},
   "outputs": [
    {
     "data": {
      "text/plain": [
       "0    23.0\n",
       "dtype: float64"
      ]
     },
     "execution_count": 219,
     "metadata": {},
     "output_type": "execute_result"
    }
   ],
   "source": [
    "train_data['Age'].mode()"
   ]
  },
  {
   "cell_type": "code",
   "execution_count": 220,
   "metadata": {},
   "outputs": [],
   "source": [
    "train_data['Age'].fillna(23.0,inplace=True)"
   ]
  },
  {
   "cell_type": "code",
   "execution_count": 229,
   "metadata": {
    "scrolled": true
   },
   "outputs": [
    {
     "name": "stdout",
     "output_type": "stream",
     "text": [
      "Datatype - datetime64[ns]\n"
     ]
    },
    {
     "data": {
      "image/png": "[encoded data removed]",
      "text/plain": [
       "<Figure size 432x288 with 1 Axes>"
      ]
     },
     "metadata": {},
     "output_type": "display_data"
    },
    {
     "name": "stdout",
     "output_type": "stream",
     "text": [
      "Datatype -  datetime64[ns]\n",
      "Percent of null values -  0.0  %\n"
     ]
    }
   ],
   "source": [
    "generate_viz(train_data,'Date_Acc_Open')"
   ]
  },
  {
   "cell_type": "code",
   "execution_count": 223,
   "metadata": {},
   "outputs": [
    {
     "data": {
      "text/plain": [
       "0   2014-07-28\n",
       "dtype: datetime64[ns]"
      ]
     },
     "execution_count": 223,
     "metadata": {},
     "output_type": "execute_result"
    }
   ],
   "source": [
    "train_data['Date_Acc_Open'].mode()"
   ]
  },
  {
   "cell_type": "code",
   "execution_count": 226,
   "metadata": {},
   "outputs": [],
   "source": [
    "import datetime\n",
    "train_data['Date_Acc_Open'].fillna('2014-07-28',inplace=True)"
   ]
  },
  {
   "cell_type": "code",
   "execution_count": 228,
   "metadata": {},
   "outputs": [],
   "source": [
    "train_data['Date_Acc_Open'] = pd.to_datetime(train_data['Date_Acc_Open'])"
   ]
  },
  {
   "cell_type": "code",
   "execution_count": 234,
   "metadata": {
    "scrolled": true
   },
   "outputs": [
    {
     "name": "stdout",
     "output_type": "stream",
     "text": [
      "Datatype -  float64\n"
     ]
    },
    {
     "data": {
      "image/png": "[encoded data removed]",
      "text/plain": [
       "<Figure size 432x288 with 1 Axes>"
      ]
     },
     "metadata": {},
     "output_type": "display_data"
    },
    {
     "name": "stdout",
     "output_type": "stream",
     "text": [
      "Percent of null values -  0.0  %\n"
     ]
    },
    {
     "data": {
      "image/png": "[encoded data removed]",
      "text/plain": [
       "<Figure size 432x288 with 1 Axes>"
      ]
     },
     "metadata": {},
     "output_type": "display_data"
    }
   ],
   "source": [
    "generate_viz(train_data,'New_customer_index')"
   ]
  },
  {
   "cell_type": "code",
   "execution_count": 232,
   "metadata": {},
   "outputs": [
    {
     "data": {
      "text/plain": [
       "0    0.0\n",
       "dtype: float64"
      ]
     },
     "execution_count": 232,
     "metadata": {},
     "output_type": "execute_result"
    }
   ],
   "source": [
    "train_data['New_customer_index'].mode()"
   ]
  },
  {
   "cell_type": "code",
   "execution_count": 233,
   "metadata": {},
   "outputs": [],
   "source": [
    "train_data['New_customer_index'].fillna(0.0,inplace=True)"
   ]
  },
  {
   "cell_type": "code",
   "execution_count": 266,
   "metadata": {
    "scrolled": false
   },
   "outputs": [
    {
     "name": "stdout",
     "output_type": "stream",
     "text": [
      "Datatype -  float64\n"
     ]
    },
    {
     "data": {
      "image/png": "[encoded data removed]",
      "text/plain": [
       "<Figure size 432x288 with 1 Axes>"
      ]
     },
     "metadata": {},
     "output_type": "display_data"
    },
    {
     "name": "stdout",
     "output_type": "stream",
     "text": [
      "Percent of null values -  0.8175091514378402  %\n"
     ]
    },
    {
     "data": {
      "image/png": "[encoded data removed]",
      "text/plain": [
       "<Figure size 432x288 with 1 Axes>"
      ]
     },
     "metadata": {},
     "output_type": "display_data"
    }
   ],
   "source": [
    "generate_viz(train_data,'Household_Income')"
   ]
  },
  {
   "cell_type": "code",
   "execution_count": 256,
   "metadata": {},
   "outputs": [
    {
     "data": {
      "text/plain": [
       "[1.0, 0.0]\n",
       "Categories (2, float64): [1.0, 0.0]"
      ]
     },
     "execution_count": 256,
     "metadata": {},
     "output_type": "execute_result"
    }
   ],
   "source": [
    "train_data['Activity_Index'].unique()"
   ]
  },
  {
   "cell_type": "code",
   "execution_count": 260,
   "metadata": {},
   "outputs": [],
   "source": [
    "provinces = train_data['Province_Name'].unique()\n",
    "dates = train_data['Date'].unique()\n",
    "\n",
    "for date in dates:\n",
    "    # print(date)\n",
    "    for province in provinces:\n",
    "        # print(province)\n",
    "        m0 = train_data['Household_Income'][(train_data['Date']==date) & (train_data['Province_Name']==province) & (train_data['Activity_Index']==0)].mean()\n",
    "        m1 = train_data['Household_Income'][(train_data['Date']==date) & (train_data['Province_Name']==province) & (train_data['Activity_Index']==1)].mean()\n",
    "        # print(m)\n",
    "        train_data['Household_Income'][(train_data['Date']==date) & (train_data['Province_Name']==province) & (train_data['Activity_Index']==0)] = train_data['Household_Income'][(train_data['Date']==date) & (train_data['Province_Name']==province) & (train_data['Activity_Index']==0)].fillna(m0)\n",
    "        train_data['Household_Income'][(train_data['Date']==date) & (train_data['Province_Name']==province) & (train_data['Activity_Index']==1)] = train_data['Household_Income'][(train_data['Date']==date) & (train_data['Province_Name']==province) & (train_data['Activity_Index']==1)].fillna(m1)"
   ]
  },
  {
   "cell_type": "code",
   "execution_count": null,
   "metadata": {},
   "outputs": [],
   "source": []
  },
  {
   "cell_type": "code",
   "execution_count": 267,
   "metadata": {
    "scrolled": false
   },
   "outputs": [
    {
     "data": {
      "text/plain": [
       "111568"
      ]
     },
     "execution_count": 267,
     "metadata": {},
     "output_type": "execute_result"
    }
   ],
   "source": [
    "train_data['Household_Income'].isnull().sum()"
   ]
  },
  {
   "cell_type": "code",
   "execution_count": 268,
   "metadata": {},
   "outputs": [
    {
     "data": {
      "text/plain": [
       "Date                                           0\n",
       "Customer_Code                                  0\n",
       "Customers_Country_Residence                    0\n",
       "Sex                                            0\n",
       "Age                                            0\n",
       "Date_Acc_Open                                  0\n",
       "New_customer_index                             0\n",
       "Customer_Seniority                             0\n",
       "Primary_Customer                               0\n",
       "Customer_Type_Beginning_Month                  0\n",
       "Customer_Relation_Type_Beginning_Month         0\n",
       "Residence_Index                                0\n",
       "Foreigner_Index                                0\n",
       "Channel_Customer_join                          0\n",
       "Deceased_Index                                 0\n",
       "Address_Type                                   0\n",
       "Province_Code                                  0\n",
       "Province_Name                                  0\n",
       "Activity_Index                                 0\n",
       "Household_Income                          111568\n",
       "Segmentation                                   0\n",
       "Saving_Account                                 0\n",
       "Guarantees                                     0\n",
       "Current_Account                                0\n",
       "Derivada_Account                               0\n",
       "Payroll_Account                                0\n",
       "Junior_Account                                 0\n",
       "MAS_Particular_Account                         0\n",
       "Particular_Account                             0\n",
       "Particular_Plus_Account                        0\n",
       "Short_Term_Deposit                             0\n",
       "Medium_Term_Deposit                            0\n",
       "Long_Term_Deposit                              0\n",
       "E_Account                                      0\n",
       "Funds                                          0\n",
       "Mortgage                                       0\n",
       "Pensions1                                  16063\n",
       "Loans                                          0\n",
       "Taxes                                          0\n",
       "Credit_card                                    0\n",
       "Securities                                     0\n",
       "Home_Account                                   0\n",
       "Payroll                                    16063\n",
       "Pensions2                                  16063\n",
       "Direct_Debit                                   0\n",
       "dtype: int64"
      ]
     },
     "execution_count": 268,
     "metadata": {},
     "output_type": "execute_result"
    }
   ],
   "source": [
    "train_data.isnull().sum()"
   ]
  },
  {
   "cell_type": "code",
   "execution_count": 269,
   "metadata": {},
   "outputs": [
    {
     "data": {
      "text/plain": [
       "13647309"
      ]
     },
     "execution_count": 269,
     "metadata": {},
     "output_type": "execute_result"
    }
   ],
   "source": [
    "len(train_data)"
   ]
  },
  {
   "cell_type": "code",
   "execution_count": 271,
   "metadata": {},
   "outputs": [],
   "source": [
    "train_data.dropna(axis=0,inplace=True)"
   ]
  },
  {
   "cell_type": "code",
   "execution_count": 272,
   "metadata": {},
   "outputs": [
    {
     "data": {
      "text/plain": [
       "0"
      ]
     },
     "execution_count": 272,
     "metadata": {},
     "output_type": "execute_result"
    }
   ],
   "source": [
    "train_data.isnull().sum().sum()"
   ]
  },
  {
   "cell_type": "code",
   "execution_count": 273,
   "metadata": {},
   "outputs": [],
   "source": [
    "train_data.to_pickle(\"Cleaned_Data/train.pkl\")"
   ]
  },
  {
   "cell_type": "code",
   "execution_count": null,
   "metadata": {},
   "outputs": [],
   "source": [
    "generate_viz(train_data,'Customer_Relation_Type_Beginning_Month')\n",
    "'Customer_Type_Beginning_Month',\n",
    "       'Customer_Relation_Type_Beginning_Month', 'Residence_Index',\n",
    "       'Foreigner_Index', 'Spouse_Index', 'Channel_Customer_join',\n",
    "       'Deceased_Index', 'Address_Type', 'Province_Code', 'Province_Name',\n",
    "       'Activity_Index', 'Household_Income', 'Segmentation', 'Saving_Account',\n",
    "       'Guarantees', 'Current_Account', 'Derivada_Account', 'Payroll_Account',\n",
    "       'Junior_Account', 'MAS_Particular_Account', 'Particular_Account',\n",
    "       'Particular_Plus_Account', 'Short_Term_Deposit', 'Medium_Term_Deposit',\n",
    "       'Long_Term_Deposit', 'E_Account', 'Funds', 'Mortgage', 'Pensions1',\n",
    "       'Loans', 'Taxes', 'Credit_card', 'Securities', 'Home_Account',\n",
    "       'Payroll', 'Pensions2', 'Direct_Debit'"
   ]
  }
 ],
 "metadata": {
  "kernelspec": {
   "display_name": "Python 3",
   "language": "python",
   "name": "python3"
  },
  "language_info": {
   "codemirror_mode": {
    "name": "ipython",
    "version": 3
   },
   "file_extension": ".py",
   "mimetype": "text/x-python",
   "name": "python",
   "nbconvert_exporter": "python",
   "pygments_lexer": "ipython3",
   "version": "3.6.5"
  }
 },
 "nbformat": 4,
 "nbformat_minor": 2
}
