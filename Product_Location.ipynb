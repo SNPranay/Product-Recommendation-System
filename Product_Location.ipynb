{
 "cells": [
  {
   "cell_type": "code",
   "execution_count": 7,
   "metadata": {
    "scrolled": false
   },
   "outputs": [],
   "source": [
    "import numpy as np\n",
    "import pandas as pd\n",
    "import math\n",
    "import matplotlib\n",
    "from matplotlib import pyplot as plt\n",
    "%matplotlib inline\n",
    "matplotlib.use('Agg')\n",
    "\n",
    "from sklearn.preprocessing import MinMaxScaler\n",
    "from sklearn.metrics import mean_squared_error\n",
    "from imblearn.over_sampling import SMOTE\n",
    "\n",
    "import warnings\n",
    "warnings.filterwarnings('ignore')"
   ]
  },
  {
   "cell_type": "code",
   "execution_count": 8,
   "metadata": {},
   "outputs": [],
   "source": [
    "import pickle\n",
    "train_data = pd.read_pickle(\"train_processed_2_months.pkl\")"
   ]
  },
  {
   "cell_type": "code",
   "execution_count": 9,
   "metadata": {},
   "outputs": [
    {
     "name": "stdout",
     "output_type": "stream",
     "text": [
      "(1232486, 87)\n"
     ]
    }
   ],
   "source": [
    "train_data = train_data.drop([\"Date\", \"Customer_Code\", \"New_customer_index\", \"Date_Acc_Open\", 'Customer_Relation_Type_Beginning_Month_A',\n",
    "       'Customer_Relation_Type_Beginning_Month_I',\n",
    "       'Customer_Relation_Type_Beginning_Month_N',\n",
    "       'Customer_Relation_Type_Beginning_Month_P',\n",
    "       'Customer_Relation_Type_Beginning_Month_R',\n",
    "       'Segmentation_01 - TOP', 'Segmentation_02 - PARTICULARES',\n",
    "       'Segmentation_03 - UNIVERSITARIO'], axis = 1)\n",
    "\n",
    "print (train_data.shape)"
   ]
  },
  {
   "cell_type": "code",
   "execution_count": 10,
   "metadata": {},
   "outputs": [
    {
     "name": "stdout",
     "output_type": "stream",
     "text": [
      "Index(['Age', 'Customer_Seniority', 'Household_Income', 'Residence_Index_N',\n",
      "       'Residence_Index_S', 'Foreigner_Index_N', 'Foreigner_Index_S',\n",
      "       'Activity_Index_0.0', 'Activity_Index_1.0', 'Sex_H', 'Sex_V',\n",
      "       'Province_Name_ALAVA', 'Province_Name_ALBACETE',\n",
      "       'Province_Name_ALICANTE', 'Province_Name_ALMERIA',\n",
      "       'Province_Name_ASTURIAS', 'Province_Name_AVILA',\n",
      "       'Province_Name_BADAJOZ', 'Province_Name_BALEARS, ILLES',\n",
      "       'Province_Name_BARCELONA', 'Province_Name_BIZKAIA',\n",
      "       'Province_Name_BURGOS', 'Province_Name_CACERES', 'Province_Name_CADIZ',\n",
      "       'Province_Name_CANTABRIA', 'Province_Name_CASTELLON',\n",
      "       'Province_Name_CEUTA', 'Province_Name_CIUDAD REAL',\n",
      "       'Province_Name_CORDOBA', 'Province_Name_CORUÑA, A',\n",
      "       'Province_Name_CUENCA', 'Province_Name_GIPUZKOA',\n",
      "       'Province_Name_GIRONA', 'Province_Name_GRANADA',\n",
      "       'Province_Name_GUADALAJARA', 'Province_Name_HUELVA',\n",
      "       'Province_Name_HUESCA', 'Province_Name_JAEN', 'Province_Name_LEON',\n",
      "       'Province_Name_LERIDA', 'Province_Name_LUGO', 'Province_Name_MADRID',\n",
      "       'Province_Name_MALAGA', 'Province_Name_MELILLA', 'Province_Name_MURCIA',\n",
      "       'Province_Name_NAVARRA', 'Province_Name_OURENSE',\n",
      "       'Province_Name_PALENCIA', 'Province_Name_PALMAS, LAS',\n",
      "       'Province_Name_PONTEVEDRA', 'Province_Name_RIOJA, LA',\n",
      "       'Province_Name_SALAMANCA', 'Province_Name_SANTA CRUZ DE TENERIFE',\n",
      "       'Province_Name_SEGOVIA', 'Province_Name_SEVILLA', 'Province_Name_SORIA',\n",
      "       'Province_Name_TARRAGONA', 'Province_Name_TERUEL',\n",
      "       'Province_Name_TOLEDO', 'Province_Name_VALENCIA',\n",
      "       'Province_Name_VALLADOLID', 'Province_Name_ZAMORA',\n",
      "       'Province_Name_ZARAGOZA', 'Saving_Account', 'Guarantees',\n",
      "       'Current_Account', 'Derivada_Account', 'Payroll_Account',\n",
      "       'Junior_Account', 'MAS_Particular_Account', 'Particular_Account',\n",
      "       'Particular_Plus_Account', 'Short_Term_Deposit', 'Medium_Term_Deposit',\n",
      "       'Long_Term_Deposit', 'E_Account', 'Funds', 'Mortgage', 'Pensions1',\n",
      "       'Loans', 'Taxes', 'Credit_card', 'Securities', 'Home_Account',\n",
      "       'Payroll', 'Pensions2', 'Direct_Debit'],\n",
      "      dtype='object')\n"
     ]
    }
   ],
   "source": [
    "# The names of our features\n",
    "columns = train_data.columns\n",
    "print (columns)"
   ]
  },
  {
   "cell_type": "code",
   "execution_count": 11,
   "metadata": {},
   "outputs": [],
   "source": [
    "#print (train_data.iloc[:5, -24:])"
   ]
  },
  {
   "cell_type": "code",
   "execution_count": 12,
   "metadata": {
    "scrolled": true
   },
   "outputs": [
    {
     "data": {
      "text/plain": [
       "0.00456311222916044"
      ]
     },
     "execution_count": 12,
     "metadata": {},
     "output_type": "execute_result"
    }
   ],
   "source": [
    "train_data['Household_Income'].mean()"
   ]
  },
  {
   "cell_type": "code",
   "execution_count": 13,
   "metadata": {},
   "outputs": [],
   "source": [
    "train_data['Household_Income'].fillna(0.00456585623458668,inplace=True)"
   ]
  },
  {
   "cell_type": "code",
   "execution_count": 14,
   "metadata": {
    "scrolled": true
   },
   "outputs": [
    {
     "data": {
      "text/plain": [
       "0.3245614035087719"
      ]
     },
     "execution_count": 14,
     "metadata": {},
     "output_type": "execute_result"
    }
   ],
   "source": [
    "train_data[\"Age\"] = train_data[\"Age\"].astype(float)\n",
    "train_data['Age'].median()"
   ]
  },
  {
   "cell_type": "code",
   "execution_count": 15,
   "metadata": {},
   "outputs": [],
   "source": [
    "train_data['Age'].fillna(0.3245614035087719,inplace=True)"
   ]
  },
  {
   "cell_type": "code",
   "execution_count": 16,
   "metadata": {},
   "outputs": [
    {
     "data": {
      "text/plain": [
       "0    0.04878\n",
       "dtype: float64"
      ]
     },
     "execution_count": 16,
     "metadata": {},
     "output_type": "execute_result"
    }
   ],
   "source": [
    "train_data[\"Customer_Seniority\"] = train_data[\"Customer_Seniority\"].astype(float)\n",
    "train_data['Customer_Seniority'].mode()"
   ]
  },
  {
   "cell_type": "code",
   "execution_count": 17,
   "metadata": {},
   "outputs": [],
   "source": [
    "train_data['Customer_Seniority'].fillna(0.04878,inplace=True)"
   ]
  },
  {
   "cell_type": "code",
   "execution_count": 18,
   "metadata": {},
   "outputs": [
    {
     "name": "stdout",
     "output_type": "stream",
     "text": [
      "87\n"
     ]
    }
   ],
   "source": [
    "features = train_data.columns\n",
    "print (len(features))"
   ]
  },
  {
   "cell_type": "code",
   "execution_count": 13,
   "metadata": {
    "scrolled": true
   },
   "outputs": [
    {
     "data": {
      "text/plain": [
       "0    1232311\n",
       "1        175\n",
       "Name: Saving_Account, dtype: int64"
      ]
     },
     "execution_count": 13,
     "metadata": {},
     "output_type": "execute_result"
    },
    {
     "data": {
      "image/png": "[encoded data removed]",
      "text/plain": [
       "<Figure size 432x288 with 1 Axes>"
      ]
     },
     "metadata": {},
     "output_type": "display_data"
    }
   ],
   "source": [
    "# Imbalance in Savings_Account\n",
    "plt.hist(train_data['Saving_Account'])\n",
    "train_data['Saving_Account'].value_counts()"
   ]
  },
  {
   "cell_type": "code",
   "execution_count": 14,
   "metadata": {},
   "outputs": [],
   "source": [
    "# Oversampling to decrease imbalance in product columns\n",
    "from imblearn.over_sampling import SMOTE\n",
    "\n",
    "X_sav = train_data[features]\n",
    "y_sav = train_data['Saving_Account']\n",
    "\n",
    "sm = SMOTE()\n",
    "X_sav, y_sav = sm.fit_sample(X_sav, y_sav)"
   ]
  },
  {
   "cell_type": "code",
   "execution_count": 15,
   "metadata": {
    "scrolled": false
   },
   "outputs": [
    {
     "data": {
      "text/plain": [
       "1    1232311\n",
       "0    1232311\n",
       "dtype: int64"
      ]
     },
     "execution_count": 15,
     "metadata": {},
     "output_type": "execute_result"
    },
    {
     "data": {
      "image/png": "[encoded data removed]",
      "text/plain": [
       "<Figure size 432x288 with 1 Axes>"
      ]
     },
     "metadata": {},
     "output_type": "display_data"
    }
   ],
   "source": [
    "# Ratio of classes after over-sampling\n",
    "plt.hist(y_sav)\n",
    "pd.Series(y_sav).value_counts()"
   ]
  },
  {
   "cell_type": "code",
   "execution_count": 18,
   "metadata": {},
   "outputs": [
    {
     "data": {
      "text/plain": [
       "0    615142\n",
       "1        19\n",
       "Name: Guarantees, dtype: int64"
      ]
     },
     "execution_count": 18,
     "metadata": {},
     "output_type": "execute_result"
    },
    {
     "data": {
      "image/png": "[encoded data removed]",
      "text/plain": [
       "<matplotlib.figure.Figure at 0x1d7cff1f828>"
      ]
     },
     "metadata": {
      "needs_background": "light"
     },
     "output_type": "display_data"
    }
   ],
   "source": [
    "# Imbalance in Guarantees\n",
    "plt.hist(train_data['Guarantees'])\n",
    "train_data['Guarantees'].value_counts()"
   ]
  },
  {
   "cell_type": "code",
   "execution_count": 19,
   "metadata": {},
   "outputs": [],
   "source": [
    "# Oversampling to decrease imbalance in product columns\n",
    "X_guar = train_data[features]\n",
    "y_guar = train_data['Guarantees']\n",
    "\n",
    "sm = SMOTE()\n",
    "X_guar, y_guar = sm.fit_sample(X_guar, y_guar)"
   ]
  },
  {
   "cell_type": "code",
   "execution_count": 20,
   "metadata": {},
   "outputs": [
    {
     "data": {
      "text/plain": [
       "1    615142\n",
       "0    615142\n",
       "dtype: int64"
      ]
     },
     "execution_count": 20,
     "metadata": {},
     "output_type": "execute_result"
    },
    {
     "data": {
      "image/png": "[encoded data removed]",
      "text/plain": [
       "<matplotlib.figure.Figure at 0x1d7cad93198>"
      ]
     },
     "metadata": {
      "needs_background": "light"
     },
     "output_type": "display_data"
    }
   ],
   "source": [
    "# Ratio of classes after over-sampling\n",
    "plt.hist(y_guar)\n",
    "pd.Series(y_guar).value_counts()"
   ]
  },
  {
   "cell_type": "code",
   "execution_count": 22,
   "metadata": {},
   "outputs": [
    {
     "name": "stdout",
     "output_type": "stream",
     "text": [
      "1    482723\n",
      "0    132438\n",
      "Name: Current_Account, dtype: int64\n"
     ]
    },
    {
     "data": {
      "image/png": "[encoded data removed]",
      "text/plain": [
       "<matplotlib.figure.Figure at 0x1d78051ca90>"
      ]
     },
     "metadata": {
      "needs_background": "light"
     },
     "output_type": "display_data"
    }
   ],
   "source": [
    "# Imbalance in Current_Account\n",
    "plt.hist(train_data['Current_Account'])\n",
    "print (train_data['Current_Account'].value_counts())\n",
    "\n",
    "X_curr_acc = train_data[features]\n",
    "y_curr_acc = train_data['Current_Account']"
   ]
  },
  {
   "cell_type": "code",
   "execution_count": 98,
   "metadata": {},
   "outputs": [],
   "source": [
    "# Oversampling to decrease imbalance in product columns\n",
    "X_curr_acc = train_data[features]\n",
    "y_curr_acc = train_data['Current_Account']\n",
    "\n",
    "sm = SMOTE()\n",
    "X_curr_acc, y_curr_acc = sm.fit_sample(X_curr_acc, y_curr_acc)"
   ]
  },
  {
   "cell_type": "code",
   "execution_count": 99,
   "metadata": {},
   "outputs": [
    {
     "data": {
      "text/plain": [
       "1    482723\n",
       "0    482723\n",
       "dtype: int64"
      ]
     },
     "execution_count": 99,
     "metadata": {},
     "output_type": "execute_result"
    },
    {
     "data": {
      "image/png": "[encoded data removed]",
      "text/plain": [
       "<matplotlib.figure.Figure at 0x1d792d8db70>"
      ]
     },
     "metadata": {
      "needs_background": "light"
     },
     "output_type": "display_data"
    }
   ],
   "source": [
    "# Ratio of classes after over-sampling\n",
    "plt.hist(y_curr_acc)\n",
    "pd.Series(y_curr_acc).value_counts()"
   ]
  },
  {
   "cell_type": "code",
   "execution_count": 23,
   "metadata": {},
   "outputs": [
    {
     "data": {
      "text/plain": [
       "0    614864\n",
       "1       297\n",
       "Name: Derivada_Account, dtype: int64"
      ]
     },
     "execution_count": 23,
     "metadata": {},
     "output_type": "execute_result"
    },
    {
     "data": {
      "image/png": "[encoded data removed]",
      "text/plain": [
       "<matplotlib.figure.Figure at 0x1d78002e978>"
      ]
     },
     "metadata": {
      "needs_background": "light"
     },
     "output_type": "display_data"
    }
   ],
   "source": [
    "# Imbalance in Derivada_Account\n",
    "plt.hist(train_data['Derivada_Account'])\n",
    "train_data['Derivada_Account'].value_counts()"
   ]
  },
  {
   "cell_type": "code",
   "execution_count": 24,
   "metadata": {},
   "outputs": [],
   "source": [
    "# Oversampling to decrease imbalance in product columns\n",
    "X_der_acc = train_data[features]\n",
    "y_der_acc = train_data['Derivada_Account']\n",
    "\n",
    "sm = SMOTE()\n",
    "X_der_acc, y_der_acc = sm.fit_sample(X_der_acc, y_der_acc)"
   ]
  },
  {
   "cell_type": "code",
   "execution_count": 25,
   "metadata": {},
   "outputs": [
    {
     "data": {
      "text/plain": [
       "1    614864\n",
       "0    614864\n",
       "dtype: int64"
      ]
     },
     "execution_count": 25,
     "metadata": {},
     "output_type": "execute_result"
    },
    {
     "data": {
      "image/png": "[encoded data removed]",
      "text/plain": [
       "<matplotlib.figure.Figure at 0x1d780096518>"
      ]
     },
     "metadata": {
      "needs_background": "light"
     },
     "output_type": "display_data"
    }
   ],
   "source": [
    "# Ratio of classes after over-sampling\n",
    "plt.hist(y_der_acc)\n",
    "pd.Series(y_der_acc).value_counts()"
   ]
  },
  {
   "cell_type": "code",
   "execution_count": 26,
   "metadata": {},
   "outputs": [
    {
     "data": {
      "text/plain": [
       "0    556824\n",
       "1     58337\n",
       "Name: Payroll_Account, dtype: int64"
      ]
     },
     "execution_count": 26,
     "metadata": {},
     "output_type": "execute_result"
    },
    {
     "data": {
      "image/png": "[encoded data removed]",
      "text/plain": [
       "<matplotlib.figure.Figure at 0x1d78ade29e8>"
      ]
     },
     "metadata": {
      "needs_background": "light"
     },
     "output_type": "display_data"
    }
   ],
   "source": [
    "# Imbalance in Payroll_Account\n",
    "plt.hist(train_data['Payroll_Account'])\n",
    "train_data['Payroll_Account'].value_counts()"
   ]
  },
  {
   "cell_type": "code",
   "execution_count": 27,
   "metadata": {},
   "outputs": [],
   "source": [
    "# Oversampling to decrease imbalance in product columns\n",
    "X_pay_acc = train_data[features]\n",
    "y_pay_acc = train_data['Payroll_Account']\n",
    "\n",
    "sm = SMOTE()\n",
    "X_pay_acc, y_pay_acc = sm.fit_sample(X_pay_acc, y_pay_acc)"
   ]
  },
  {
   "cell_type": "code",
   "execution_count": 28,
   "metadata": {},
   "outputs": [
    {
     "data": {
      "text/plain": [
       "1    556824\n",
       "0    556824\n",
       "dtype: int64"
      ]
     },
     "execution_count": 28,
     "metadata": {},
     "output_type": "execute_result"
    },
    {
     "data": {
      "image/png": "[encoded data removed]",
      "text/plain": [
       "<matplotlib.figure.Figure at 0x1d78e241780>"
      ]
     },
     "metadata": {
      "needs_background": "light"
     },
     "output_type": "display_data"
    }
   ],
   "source": [
    "# Ratio of classes after over-sampling\n",
    "plt.hist(y_pay_acc)\n",
    "pd.Series(y_pay_acc).value_counts()"
   ]
  },
  {
   "cell_type": "code",
   "execution_count": 29,
   "metadata": {},
   "outputs": [
    {
     "data": {
      "text/plain": [
       "0    607454\n",
       "1      7707\n",
       "Name: Junior_Account, dtype: int64"
      ]
     },
     "execution_count": 29,
     "metadata": {},
     "output_type": "execute_result"
    },
    {
     "data": {
      "image/png": "[encoded data removed]",
      "text/plain": [
       "<matplotlib.figure.Figure at 0x1d7801b0668>"
      ]
     },
     "metadata": {
      "needs_background": "light"
     },
     "output_type": "display_data"
    }
   ],
   "source": [
    "# Imbalance in Junior_Account\n",
    "plt.hist(train_data['Junior_Account'])\n",
    "train_data['Junior_Account'].value_counts()"
   ]
  },
  {
   "cell_type": "code",
   "execution_count": 30,
   "metadata": {},
   "outputs": [],
   "source": [
    "# Oversampling to decrease imbalance in product columns\n",
    "X_jun_acc = train_data[features]\n",
    "y_jun_acc = train_data['Junior_Account']\n",
    "\n",
    "sm = SMOTE()\n",
    "X_jun_acc, y_jun_acc = sm.fit_sample(X_jun_acc, y_jun_acc)"
   ]
  },
  {
   "cell_type": "code",
   "execution_count": 31,
   "metadata": {},
   "outputs": [
    {
     "data": {
      "text/plain": [
       "1    607454\n",
       "0    607454\n",
       "dtype: int64"
      ]
     },
     "execution_count": 31,
     "metadata": {},
     "output_type": "execute_result"
    },
    {
     "data": {
      "image/png": "[encoded data removed]",
      "text/plain": [
       "<matplotlib.figure.Figure at 0x1d78ec7dc50>"
      ]
     },
     "metadata": {
      "needs_background": "light"
     },
     "output_type": "display_data"
    }
   ],
   "source": [
    "# Ratio of classes after over-sampling\n",
    "plt.hist(y_jun_acc)\n",
    "pd.Series(y_jun_acc).value_counts()"
   ]
  },
  {
   "cell_type": "code",
   "execution_count": 32,
   "metadata": {},
   "outputs": [
    {
     "data": {
      "text/plain": [
       "0    606928\n",
       "1      8233\n",
       "Name: MAS_Particular_Account, dtype: int64"
      ]
     },
     "execution_count": 32,
     "metadata": {},
     "output_type": "execute_result"
    },
    {
     "data": {
      "image/png": "[encoded data removed]",
      "text/plain": [
       "<matplotlib.figure.Figure at 0x1d78d142128>"
      ]
     },
     "metadata": {
      "needs_background": "light"
     },
     "output_type": "display_data"
    }
   ],
   "source": [
    "# Imbalance in MAS_Particular_Account\n",
    "plt.hist(train_data['MAS_Particular_Account'])\n",
    "train_data['MAS_Particular_Account'].value_counts()"
   ]
  },
  {
   "cell_type": "code",
   "execution_count": 34,
   "metadata": {},
   "outputs": [],
   "source": [
    "# Oversampling to decrease imbalance in product columns\n",
    "X_mas_part = train_data[features]\n",
    "y_mas_part = train_data['MAS_Particular_Account']\n",
    "\n",
    "sm = SMOTE()\n",
    "X_mas_part, y_mas_part = sm.fit_sample(X_mas_part, y_mas_part)"
   ]
  },
  {
   "cell_type": "code",
   "execution_count": 36,
   "metadata": {},
   "outputs": [
    {
     "data": {
      "text/plain": [
       "1    1216198\n",
       "0    1216198\n",
       "dtype: int64"
      ]
     },
     "execution_count": 36,
     "metadata": {},
     "output_type": "execute_result"
    },
    {
     "data": {
      "image/png": "[encoded data removed]",
      "text/plain": [
       "<Figure size 432x288 with 1 Axes>"
      ]
     },
     "metadata": {},
     "output_type": "display_data"
    }
   ],
   "source": [
    "# Ratio of classes after over-sampling\n",
    "plt.hist(y_mas_part)\n",
    "pd.Series(y_mas_part).value_counts()"
   ]
  },
  {
   "cell_type": "code",
   "execution_count": 16,
   "metadata": {
    "scrolled": true
   },
   "outputs": [
    {
     "name": "stdout",
     "output_type": "stream",
     "text": [
      "0    1023674\n",
      "1     208812\n",
      "Name: Particular_Account, dtype: int64\n"
     ]
    },
    {
     "data": {
      "image/png": "[encoded data removed]",
      "text/plain": [
       "<Figure size 432x288 with 1 Axes>"
      ]
     },
     "metadata": {},
     "output_type": "display_data"
    }
   ],
   "source": [
    "# Imbalance in Particular_Account\n",
    "plt.hist(train_data['Particular_Account'])\n",
    "print (train_data['Particular_Account'].value_counts())\n",
    "\n",
    "X_part_acc = train_data[features]\n",
    "y_part_acc = train_data['Particular_Account']"
   ]
  },
  {
   "cell_type": "code",
   "execution_count": null,
   "metadata": {},
   "outputs": [],
   "source": [
    "# Oversampling to decrease imbalance in product columns\n",
    "X_part_acc = train_data[features]\n",
    "y_part_acc = train_data['Particular_Account']\n",
    "\n",
    "sm = SMOTE()\n",
    "X_part_acc, y_part_acc = sm.fit_sample(X_part_acc, y_part_acc)"
   ]
  },
  {
   "cell_type": "code",
   "execution_count": null,
   "metadata": {},
   "outputs": [],
   "source": [
    "# Ratio of classes after over-sampling\n",
    "plt.hist(y_part_acc)\n",
    "pd.Series(y_part_acc).value_counts()"
   ]
  },
  {
   "cell_type": "code",
   "execution_count": 35,
   "metadata": {},
   "outputs": [
    {
     "data": {
      "text/plain": [
       "0    579465\n",
       "1     35696\n",
       "Name: Particular_Plus_Account, dtype: int64"
      ]
     },
     "execution_count": 35,
     "metadata": {},
     "output_type": "execute_result"
    },
    {
     "data": {
      "image/png": "[encoded data removed]",
      "text/plain": [
       "<matplotlib.figure.Figure at 0x1d78049ef28>"
      ]
     },
     "metadata": {
      "needs_background": "light"
     },
     "output_type": "display_data"
    }
   ],
   "source": [
    "# Imbalance in Particular_Plus_Account\n",
    "plt.hist(train_data['Particular_Plus_Account'])\n",
    "train_data['Particular_Plus_Account'].value_counts()"
   ]
  },
  {
   "cell_type": "code",
   "execution_count": 37,
   "metadata": {},
   "outputs": [],
   "source": [
    "# Oversampling to decrease imbalance in product columns\n",
    "X_part_plus = train_data[features]\n",
    "y_part_plus = train_data['Particular_Plus_Account']\n",
    "\n",
    "sm = SMOTE()\n",
    "X_part_plus, y_part_plus = sm.fit_sample(X_part_plus, y_part_plus)"
   ]
  },
  {
   "cell_type": "code",
   "execution_count": 38,
   "metadata": {},
   "outputs": [
    {
     "data": {
      "text/plain": [
       "1    579465\n",
       "0    579465\n",
       "dtype: int64"
      ]
     },
     "execution_count": 38,
     "metadata": {},
     "output_type": "execute_result"
    },
    {
     "data": {
      "image/png": "[encoded data removed]",
      "text/plain": [
       "<matplotlib.figure.Figure at 0x1d78955e160>"
      ]
     },
     "metadata": {
      "needs_background": "light"
     },
     "output_type": "display_data"
    }
   ],
   "source": [
    "# Ratio of classes after over-sampling\n",
    "plt.hist(y_part_plus)\n",
    "pd.Series(y_part_plus).value_counts()"
   ]
  },
  {
   "cell_type": "code",
   "execution_count": 39,
   "metadata": {},
   "outputs": [
    {
     "data": {
      "text/plain": [
       "0    613685\n",
       "1      1476\n",
       "Name: Short_Term_Deposit, dtype: int64"
      ]
     },
     "execution_count": 39,
     "metadata": {},
     "output_type": "execute_result"
    },
    {
     "data": {
      "image/png": "[encoded data removed]",
      "text/plain": [
       "<matplotlib.figure.Figure at 0x1d7cff35ef0>"
      ]
     },
     "metadata": {
      "needs_background": "light"
     },
     "output_type": "display_data"
    }
   ],
   "source": [
    "# Imbalance in Short_Term_Deposit\n",
    "plt.hist(train_data['Short_Term_Deposit'])\n",
    "train_data['Short_Term_Deposit'].value_counts()"
   ]
  },
  {
   "cell_type": "code",
   "execution_count": 13,
   "metadata": {},
   "outputs": [],
   "source": [
    "# Oversampling to decrease imbalance in product columns\n",
    "X_short = train_data[features]\n",
    "y_short = train_data['Short_Term_Deposit']\n",
    "\n",
    "sm = SMOTE()\n",
    "X_short, y_short = sm.fit_sample(X_short, y_short)"
   ]
  },
  {
   "cell_type": "code",
   "execution_count": 41,
   "metadata": {},
   "outputs": [
    {
     "data": {
      "text/plain": [
       "1    613685\n",
       "0    613685\n",
       "dtype: int64"
      ]
     },
     "execution_count": 41,
     "metadata": {},
     "output_type": "execute_result"
    },
    {
     "data": {
      "image/png": "[encoded data removed]",
      "text/plain": [
       "<matplotlib.figure.Figure at 0x1d78ec8ca20>"
      ]
     },
     "metadata": {
      "needs_background": "light"
     },
     "output_type": "display_data"
    }
   ],
   "source": [
    "# Ratio of classes after over-sampling\n",
    "plt.hist(y_short)\n",
    "pd.Series(y_short).value_counts()"
   ]
  },
  {
   "cell_type": "code",
   "execution_count": 42,
   "metadata": {},
   "outputs": [
    {
     "data": {
      "text/plain": [
       "0    613556\n",
       "1      1605\n",
       "Name: Medium_Term_Deposit, dtype: int64"
      ]
     },
     "execution_count": 42,
     "metadata": {},
     "output_type": "execute_result"
    },
    {
     "data": {
      "image/png": "[encoded data removed]",
      "text/plain": [
       "<matplotlib.figure.Figure at 0x1d78b7d1c18>"
      ]
     },
     "metadata": {
      "needs_background": "light"
     },
     "output_type": "display_data"
    }
   ],
   "source": [
    "# Imbalance in Medium_Term_Deposit\n",
    "plt.hist(train_data['Medium_Term_Deposit'])\n",
    "train_data['Medium_Term_Deposit'].value_counts()"
   ]
  },
  {
   "cell_type": "code",
   "execution_count": 44,
   "metadata": {},
   "outputs": [],
   "source": [
    "# Oversampling to decrease imbalance in product columns\n",
    "X_medium = train_data[features]\n",
    "y_medium = train_data['Medium_Term_Deposit']\n",
    "\n",
    "sm = SMOTE()\n",
    "X_medium, y_medium = sm.fit_sample(X_medium, y_medium)"
   ]
  },
  {
   "cell_type": "code",
   "execution_count": 45,
   "metadata": {},
   "outputs": [
    {
     "data": {
      "text/plain": [
       "1    613556\n",
       "0    613556\n",
       "dtype: int64"
      ]
     },
     "execution_count": 45,
     "metadata": {},
     "output_type": "execute_result"
    },
    {
     "data": {
      "image/png": "[encoded data removed]",
      "text/plain": [
       "<matplotlib.figure.Figure at 0x1d7cec73b00>"
      ]
     },
     "metadata": {
      "needs_background": "light"
     },
     "output_type": "display_data"
    }
   ],
   "source": [
    "# Ratio of classes after over-sampling\n",
    "plt.hist(y_medium)\n",
    "pd.Series(y_medium).value_counts()"
   ]
  },
  {
   "cell_type": "code",
   "execution_count": 46,
   "metadata": {},
   "outputs": [
    {
     "data": {
      "text/plain": [
       "0    579607\n",
       "1     35554\n",
       "Name: Long_Term_Deposit, dtype: int64"
      ]
     },
     "execution_count": 46,
     "metadata": {},
     "output_type": "execute_result"
    },
    {
     "data": {
      "image/png": "[encoded data removed]",
      "text/plain": [
       "<matplotlib.figure.Figure at 0x1d7d7edf470>"
      ]
     },
     "metadata": {
      "needs_background": "light"
     },
     "output_type": "display_data"
    }
   ],
   "source": [
    "# Imbalance in Long_Term_Deposit\n",
    "plt.hist(train_data['Long_Term_Deposit'])\n",
    "train_data['Long_Term_Deposit'].value_counts()"
   ]
  },
  {
   "cell_type": "code",
   "execution_count": 18,
   "metadata": {},
   "outputs": [],
   "source": [
    "# Oversampling to decrease imbalance in product columns\n",
    "X_long = train_data[features]\n",
    "y_long = train_data['Long_Term_Deposit']\n",
    "\n",
    "sm = SMOTE()\n",
    "X_long, y_long = sm.fit_sample(X_long, y_long)"
   ]
  },
  {
   "cell_type": "code",
   "execution_count": 48,
   "metadata": {},
   "outputs": [
    {
     "data": {
      "text/plain": [
       "1    579607\n",
       "0    579607\n",
       "dtype: int64"
      ]
     },
     "execution_count": 48,
     "metadata": {},
     "output_type": "execute_result"
    },
    {
     "data": {
      "image/png": "[encoded data removed]",
      "text/plain": [
       "<matplotlib.figure.Figure at 0x1d7895733c8>"
      ]
     },
     "metadata": {
      "needs_background": "light"
     },
     "output_type": "display_data"
    }
   ],
   "source": [
    "# Ratio of classes after over-sampling\n",
    "plt.hist(y_long)\n",
    "pd.Series(y_long).value_counts()"
   ]
  },
  {
   "cell_type": "code",
   "execution_count": 49,
   "metadata": {},
   "outputs": [
    {
     "data": {
      "text/plain": [
       "0    555411\n",
       "1     59750\n",
       "Name: E_Account, dtype: int64"
      ]
     },
     "execution_count": 49,
     "metadata": {},
     "output_type": "execute_result"
    },
    {
     "data": {
      "image/png": "[encoded data removed]",
      "text/plain": [
       "<matplotlib.figure.Figure at 0x1d78f956588>"
      ]
     },
     "metadata": {
      "needs_background": "light"
     },
     "output_type": "display_data"
    }
   ],
   "source": [
    "# Imbalance in E_Account\n",
    "plt.hist(train_data['E_Account'])\n",
    "train_data['E_Account'].value_counts()"
   ]
  },
  {
   "cell_type": "code",
   "execution_count": 50,
   "metadata": {},
   "outputs": [],
   "source": [
    "# Oversampling to decrease imbalance in product columns\n",
    "X_eacc = train_data[features]\n",
    "y_eacc = train_data['E_Account']\n",
    "\n",
    "sm = SMOTE()\n",
    "X_eacc, y_eacc = sm.fit_sample(X_eacc, y_eacc)"
   ]
  },
  {
   "cell_type": "code",
   "execution_count": 51,
   "metadata": {},
   "outputs": [
    {
     "data": {
      "text/plain": [
       "1    555411\n",
       "0    555411\n",
       "dtype: int64"
      ]
     },
     "execution_count": 51,
     "metadata": {},
     "output_type": "execute_result"
    },
    {
     "data": {
      "image/png": "[encoded data removed]",
      "text/plain": [
       "<matplotlib.figure.Figure at 0x1d789573128>"
      ]
     },
     "metadata": {
      "needs_background": "light"
     },
     "output_type": "display_data"
    }
   ],
   "source": [
    "# Ratio of classes after over-sampling\n",
    "plt.hist(y_eacc)\n",
    "pd.Series(y_eacc).value_counts()"
   ]
  },
  {
   "cell_type": "code",
   "execution_count": 52,
   "metadata": {},
   "outputs": [
    {
     "data": {
      "text/plain": [
       "0    601477\n",
       "1     13684\n",
       "Name: Funds, dtype: int64"
      ]
     },
     "execution_count": 52,
     "metadata": {},
     "output_type": "execute_result"
    },
    {
     "data": {
      "image/png": "[encoded data removed]",
      "text/plain": [
       "<matplotlib.figure.Figure at 0x1d78d804ef0>"
      ]
     },
     "metadata": {
      "needs_background": "light"
     },
     "output_type": "display_data"
    }
   ],
   "source": [
    "# Imbalance in Funds\n",
    "plt.hist(train_data['Funds'])\n",
    "train_data['Funds'].value_counts()"
   ]
  },
  {
   "cell_type": "code",
   "execution_count": 54,
   "metadata": {},
   "outputs": [],
   "source": [
    "# Oversampling to decrease imbalance in product columns\n",
    "X_funds = train_data[features]\n",
    "y_funds = train_data['Funds']\n",
    "\n",
    "sm = SMOTE()\n",
    "X_funds, y_funds = sm.fit_sample(X_funds, y_funds)"
   ]
  },
  {
   "cell_type": "code",
   "execution_count": 55,
   "metadata": {},
   "outputs": [
    {
     "data": {
      "text/plain": [
       "1    601477\n",
       "0    601477\n",
       "dtype: int64"
      ]
     },
     "execution_count": 55,
     "metadata": {},
     "output_type": "execute_result"
    },
    {
     "data": {
      "image/png": "[encoded data removed]",
      "text/plain": [
       "<matplotlib.figure.Figure at 0x1d78d819320>"
      ]
     },
     "metadata": {
      "needs_background": "light"
     },
     "output_type": "display_data"
    }
   ],
   "source": [
    "# Ratio of classes after over-sampling\n",
    "plt.hist(y_funds)\n",
    "pd.Series(y_funds).value_counts()"
   ]
  },
  {
   "cell_type": "code",
   "execution_count": 56,
   "metadata": {},
   "outputs": [
    {
     "data": {
      "text/plain": [
       "0    610218\n",
       "1      4943\n",
       "Name: Mortgage, dtype: int64"
      ]
     },
     "execution_count": 56,
     "metadata": {},
     "output_type": "execute_result"
    },
    {
     "data": {
      "image/png": "[encoded data removed]",
      "text/plain": [
       "<matplotlib.figure.Figure at 0x1d78e259b00>"
      ]
     },
     "metadata": {
      "needs_background": "light"
     },
     "output_type": "display_data"
    }
   ],
   "source": [
    "# Imbalance in Mortgage\n",
    "plt.hist(train_data['Mortgage'])\n",
    "train_data['Mortgage'].value_counts()"
   ]
  },
  {
   "cell_type": "code",
   "execution_count": 20,
   "metadata": {},
   "outputs": [],
   "source": [
    "# Oversampling to decrease imbalance in product columns\n",
    "X_mort = train_data[features]\n",
    "y_mort = train_data['Mortgage']\n",
    "\n",
    "sm = SMOTE()\n",
    "X_mort, y_mort = sm.fit_sample(X_mort, y_mort)"
   ]
  },
  {
   "cell_type": "code",
   "execution_count": 21,
   "metadata": {},
   "outputs": [
    {
     "data": {
      "text/plain": [
       "1    1222608\n",
       "0    1222608\n",
       "dtype: int64"
      ]
     },
     "execution_count": 21,
     "metadata": {},
     "output_type": "execute_result"
    },
    {
     "data": {
      "image/png": "[encoded data removed]",
      "text/plain": [
       "<Figure size 432x288 with 1 Axes>"
      ]
     },
     "metadata": {},
     "output_type": "display_data"
    }
   ],
   "source": [
    "# Ratio of classes after over-sampling\n",
    "plt.hist(y_mort)\n",
    "pd.Series(y_mort).value_counts()"
   ]
  },
  {
   "cell_type": "code",
   "execution_count": 5,
   "metadata": {},
   "outputs": [
    {
     "data": {
      "text/plain": [
       "0.0    1144893\n",
       "1.0      87593\n",
       "Name: Pensions1, dtype: int64"
      ]
     },
     "execution_count": 5,
     "metadata": {},
     "output_type": "execute_result"
    },
    {
     "data": {
      "image/png": "[encoded data removed]",
      "text/plain": [
       "<Figure size 432x288 with 1 Axes>"
      ]
     },
     "metadata": {},
     "output_type": "display_data"
    }
   ],
   "source": [
    "# Imbalance in Pensions1\n",
    "plt.hist(train_data['Pensions1'])\n",
    "plt.xlabel('Pensions')\n",
    "plt.ylabel('Frequency')\n",
    "train_data['Pensions1'].value_counts()"
   ]
  },
  {
   "cell_type": "code",
   "execution_count": 19,
   "metadata": {},
   "outputs": [],
   "source": [
    "# Oversampling to decrease imbalance in product columns\n",
    "X_pen1 = train_data[features]\n",
    "y_pen1 = train_data['Pensions1']\n",
    "\n",
    "sm = SMOTE()\n",
    "X_pen1, y_pen1 = sm.fit_sample(X_pen1, y_pen1)"
   ]
  },
  {
   "cell_type": "code",
   "execution_count": 20,
   "metadata": {},
   "outputs": [
    {
     "data": {
      "text/plain": [
       "1.0    1144893\n",
       "0.0    1144893\n",
       "dtype: int64"
      ]
     },
     "execution_count": 20,
     "metadata": {},
     "output_type": "execute_result"
    },
    {
     "data": {
      "image/png": "[encoded data removed]",
      "text/plain": [
       "<Figure size 432x288 with 1 Axes>"
      ]
     },
     "metadata": {},
     "output_type": "display_data"
    }
   ],
   "source": [
    "# Ratio of classes after over-sampling\n",
    "plt.hist(y_pen1)\n",
    "plt.xlabel('Pensions')\n",
    "plt.ylabel('Frequency')\n",
    "pd.Series(y_pen1).value_counts()"
   ]
  },
  {
   "cell_type": "code",
   "execution_count": 63,
   "metadata": {},
   "outputs": [
    {
     "data": {
      "text/plain": [
       "0    613091\n",
       "1      2070\n",
       "Name: Loans, dtype: int64"
      ]
     },
     "execution_count": 63,
     "metadata": {},
     "output_type": "execute_result"
    },
    {
     "data": {
      "image/png": "[encoded data removed]",
      "text/plain": [
       "<matplotlib.figure.Figure at 0x1d7d7edf5c0>"
      ]
     },
     "metadata": {
      "needs_background": "light"
     },
     "output_type": "display_data"
    }
   ],
   "source": [
    "# Imbalance in Loans\n",
    "plt.hist(train_data['Loans'])\n",
    "train_data['Loans'].value_counts()"
   ]
  },
  {
   "cell_type": "code",
   "execution_count": 66,
   "metadata": {},
   "outputs": [],
   "source": [
    "# Oversampling to decrease imbalance in product columns\n",
    "X_loan = train_data[features]\n",
    "y_loan = train_data['Loans']\n",
    "\n",
    "sm = SMOTE()\n",
    "X_loan, y_loan = sm.fit_sample(X_loan, y_loan)"
   ]
  },
  {
   "cell_type": "code",
   "execution_count": 67,
   "metadata": {},
   "outputs": [
    {
     "data": {
      "text/plain": [
       "1    613091\n",
       "0    613091\n",
       "dtype: int64"
      ]
     },
     "execution_count": 67,
     "metadata": {},
     "output_type": "execute_result"
    },
    {
     "data": {
      "image/png": "[encoded data removed]",
      "text/plain": [
       "<matplotlib.figure.Figure at 0x1d7d7ef54e0>"
      ]
     },
     "metadata": {
      "needs_background": "light"
     },
     "output_type": "display_data"
    }
   ],
   "source": [
    "# Ratio of classes after over-sampling\n",
    "plt.hist(y_loan)\n",
    "pd.Series(y_loan).value_counts()"
   ]
  },
  {
   "cell_type": "code",
   "execution_count": 68,
   "metadata": {},
   "outputs": [
    {
     "data": {
      "text/plain": [
       "0    578509\n",
       "1     36652\n",
       "Name: Taxes, dtype: int64"
      ]
     },
     "execution_count": 68,
     "metadata": {},
     "output_type": "execute_result"
    },
    {
     "data": {
      "image/png": "[encoded data removed]",
      "text/plain": [
       "<matplotlib.figure.Figure at 0x1d78d14d400>"
      ]
     },
     "metadata": {
      "needs_background": "light"
     },
     "output_type": "display_data"
    }
   ],
   "source": [
    "# Imbalance in Taxes\n",
    "plt.hist(train_data['Taxes'])\n",
    "train_data['Taxes'].value_counts()"
   ]
  },
  {
   "cell_type": "code",
   "execution_count": 69,
   "metadata": {},
   "outputs": [],
   "source": [
    "# Oversampling to decrease imbalance in product columns\n",
    "X_tax= train_data[features]\n",
    "y_tax = train_data['Taxes']\n",
    "\n",
    "sm = SMOTE()\n",
    "X_tax, y_tax = sm.fit_sample(X_tax, y_tax)"
   ]
  },
  {
   "cell_type": "code",
   "execution_count": 70,
   "metadata": {},
   "outputs": [
    {
     "data": {
      "text/plain": [
       "1    578509\n",
       "0    578509\n",
       "dtype: int64"
      ]
     },
     "execution_count": 70,
     "metadata": {},
     "output_type": "execute_result"
    },
    {
     "data": {
      "image/png": "[encoded data removed]",
      "text/plain": [
       "<matplotlib.figure.Figure at 0x1d7cff7b978>"
      ]
     },
     "metadata": {
      "needs_background": "light"
     },
     "output_type": "display_data"
    }
   ],
   "source": [
    "# Ratio of classes after over-sampling\n",
    "plt.hist(y_tax)\n",
    "pd.Series(y_tax).value_counts()"
   ]
  },
  {
   "cell_type": "code",
   "execution_count": 71,
   "metadata": {},
   "outputs": [
    {
     "data": {
      "text/plain": [
       "0    579872\n",
       "1     35289\n",
       "Name: Credit_card, dtype: int64"
      ]
     },
     "execution_count": 71,
     "metadata": {},
     "output_type": "execute_result"
    },
    {
     "data": {
      "image/png": "[encoded data removed]",
      "text/plain": [
       "<matplotlib.figure.Figure at 0x1d7800c6ac8>"
      ]
     },
     "metadata": {
      "needs_background": "light"
     },
     "output_type": "display_data"
    }
   ],
   "source": [
    "# Imbalance in Credit_card\n",
    "plt.hist(train_data['Credit_card'])\n",
    "train_data['Credit_card'].value_counts()"
   ]
  },
  {
   "cell_type": "code",
   "execution_count": 25,
   "metadata": {},
   "outputs": [],
   "source": [
    "# Oversampling to decrease imbalance in product columns\n",
    "X_cred = train_data[features]\n",
    "y_cred = train_data['Credit_card']\n",
    "\n",
    "sm = SMOTE()\n",
    "X_cred, y_cred = sm.fit_sample(X_cred, y_cred)"
   ]
  },
  {
   "cell_type": "code",
   "execution_count": 73,
   "metadata": {},
   "outputs": [
    {
     "data": {
      "text/plain": [
       "1    579872\n",
       "0    579872\n",
       "dtype: int64"
      ]
     },
     "execution_count": 73,
     "metadata": {},
     "output_type": "execute_result"
    },
    {
     "data": {
      "image/png": "[encoded data removed]",
      "text/plain": [
       "<matplotlib.figure.Figure at 0x1d7804a84a8>"
      ]
     },
     "metadata": {
      "needs_background": "light"
     },
     "output_type": "display_data"
    }
   ],
   "source": [
    "# Ratio of classes after over-sampling\n",
    "plt.hist(y_cred)\n",
    "pd.Series(y_cred).value_counts()"
   ]
  },
  {
   "cell_type": "code",
   "execution_count": 74,
   "metadata": {},
   "outputs": [
    {
     "data": {
      "text/plain": [
       "0    595132\n",
       "1     20029\n",
       "Name: Securities, dtype: int64"
      ]
     },
     "execution_count": 74,
     "metadata": {},
     "output_type": "execute_result"
    },
    {
     "data": {
      "image/png": "[encoded data removed]",
      "text/plain": [
       "<matplotlib.figure.Figure at 0x1d78b7fe6a0>"
      ]
     },
     "metadata": {
      "needs_background": "light"
     },
     "output_type": "display_data"
    }
   ],
   "source": [
    "# Imbalance in Securities\n",
    "plt.hist(train_data['Securities'])\n",
    "train_data['Securities'].value_counts()"
   ]
  },
  {
   "cell_type": "code",
   "execution_count": 78,
   "metadata": {},
   "outputs": [],
   "source": [
    "# Oversampling to decrease imbalance in product columns\n",
    "X_sec = train_data[features]\n",
    "y_sec = train_data['Securities']\n",
    "\n",
    "sm = SMOTE()\n",
    "X_sec, y_sec = sm.fit_sample(X_sec, y_sec)"
   ]
  },
  {
   "cell_type": "code",
   "execution_count": 76,
   "metadata": {},
   "outputs": [
    {
     "data": {
      "text/plain": [
       "1    595132\n",
       "0    595132\n",
       "dtype: int64"
      ]
     },
     "execution_count": 76,
     "metadata": {},
     "output_type": "execute_result"
    },
    {
     "data": {
      "image/png": "[encoded data removed]",
      "text/plain": [
       "<matplotlib.figure.Figure at 0x1d78b7f0fd0>"
      ]
     },
     "metadata": {
      "needs_background": "light"
     },
     "output_type": "display_data"
    }
   ],
   "source": [
    "# Ratio of classes after over-sampling\n",
    "plt.hist(y_sec)\n",
    "pd.Series(y_sec).value_counts()"
   ]
  },
  {
   "cell_type": "code",
   "execution_count": 77,
   "metadata": {},
   "outputs": [
    {
     "data": {
      "text/plain": [
       "0    611964\n",
       "1      3197\n",
       "Name: Home_Account, dtype: int64"
      ]
     },
     "execution_count": 77,
     "metadata": {},
     "output_type": "execute_result"
    },
    {
     "data": {
      "image/png": "[encoded data removed]",
      "text/plain": [
       "<matplotlib.figure.Figure at 0x1d78016c6d8>"
      ]
     },
     "metadata": {
      "needs_background": "light"
     },
     "output_type": "display_data"
    }
   ],
   "source": [
    "# Imbalance in Home_Account\n",
    "plt.hist(train_data['Home_Account'])\n",
    "train_data['Home_Account'].value_counts()"
   ]
  },
  {
   "cell_type": "code",
   "execution_count": 79,
   "metadata": {},
   "outputs": [],
   "source": [
    "# Oversampling to decrease imbalance in product columns\n",
    "X_home_acc = train_data[features]\n",
    "y_home_acc = train_data['Home_Account']\n",
    "\n",
    "sm = SMOTE()\n",
    "X_home_acc, y_home_acc = sm.fit_sample(X_home_acc, y_home_acc)"
   ]
  },
  {
   "cell_type": "code",
   "execution_count": 80,
   "metadata": {},
   "outputs": [
    {
     "data": {
      "text/plain": [
       "1    611964\n",
       "0    611964\n",
       "dtype: int64"
      ]
     },
     "execution_count": 80,
     "metadata": {},
     "output_type": "execute_result"
    },
    {
     "data": {
      "image/png": "[encoded data removed]",
      "text/plain": [
       "<matplotlib.figure.Figure at 0x1d78b7da128>"
      ]
     },
     "metadata": {
      "needs_background": "light"
     },
     "output_type": "display_data"
    }
   ],
   "source": [
    "# Ratio of classes after over-sampling\n",
    "plt.hist(y_home_acc)\n",
    "pd.Series(y_home_acc).value_counts()"
   ]
  },
  {
   "cell_type": "code",
   "execution_count": 81,
   "metadata": {},
   "outputs": [
    {
     "data": {
      "text/plain": [
       "0.0    576408\n",
       "1.0     38753\n",
       "Name: Payroll, dtype: int64"
      ]
     },
     "execution_count": 81,
     "metadata": {},
     "output_type": "execute_result"
    },
    {
     "data": {
      "image/png": "[encoded data removed]",
      "text/plain": [
       "<matplotlib.figure.Figure at 0x1d7800cd6d8>"
      ]
     },
     "metadata": {
      "needs_background": "light"
     },
     "output_type": "display_data"
    }
   ],
   "source": [
    "# Imbalance in Payroll\n",
    "plt.hist(train_data['Payroll'])\n",
    "train_data['Payroll'].value_counts()"
   ]
  },
  {
   "cell_type": "code",
   "execution_count": 30,
   "metadata": {},
   "outputs": [],
   "source": [
    "# Oversampling to decrease imbalance in product columns\n",
    "X_pay = train_data[features]\n",
    "y_pay = train_data['Payroll']\n",
    "\n",
    "sm = SMOTE()\n",
    "X_pay, y_pay = sm.fit_sample(X_pay, y_pay)"
   ]
  },
  {
   "cell_type": "code",
   "execution_count": 31,
   "metadata": {},
   "outputs": [
    {
     "data": {
      "text/plain": [
       "1.0    1153249\n",
       "0.0    1153249\n",
       "dtype: int64"
      ]
     },
     "execution_count": 31,
     "metadata": {},
     "output_type": "execute_result"
    },
    {
     "data": {
      "image/png": "[encoded data removed]",
      "text/plain": [
       "<Figure size 432x288 with 1 Axes>"
      ]
     },
     "metadata": {},
     "output_type": "display_data"
    }
   ],
   "source": [
    "# Ratio of classes after over-sampling\n",
    "plt.hist(y_pay)\n",
    "pd.Series(y_pay).value_counts()"
   ]
  },
  {
   "cell_type": "code",
   "execution_count": 83,
   "metadata": {},
   "outputs": [
    {
     "data": {
      "text/plain": [
       "0.0    572093\n",
       "1.0     43068\n",
       "Name: Pensions2, dtype: int64"
      ]
     },
     "execution_count": 83,
     "metadata": {},
     "output_type": "execute_result"
    },
    {
     "data": {
      "image/png": "[encoded data removed]",
      "text/plain": [
       "<matplotlib.figure.Figure at 0x1d7f6ed5780>"
      ]
     },
     "metadata": {
      "needs_background": "light"
     },
     "output_type": "display_data"
    }
   ],
   "source": [
    "# Imbalance in Pensions2\n",
    "plt.hist(train_data['Pensions2'])\n",
    "train_data['Pensions2'].value_counts()"
   ]
  },
  {
   "cell_type": "code",
   "execution_count": 85,
   "metadata": {},
   "outputs": [],
   "source": [
    "# Oversampling to decrease imbalance in product columns\n",
    "X_pen2 = train_data[features]\n",
    "y_pen2 = train_data['Pensions2']\n",
    "\n",
    "sm = SMOTE()\n",
    "X_pen2, y_pen2 = sm.fit_sample(X_pen2, y_pen2)"
   ]
  },
  {
   "cell_type": "code",
   "execution_count": 86,
   "metadata": {},
   "outputs": [
    {
     "data": {
      "text/plain": [
       "1.0    572093\n",
       "0.0    572093\n",
       "dtype: int64"
      ]
     },
     "execution_count": 86,
     "metadata": {},
     "output_type": "execute_result"
    },
    {
     "data": {
      "image/png": "[encoded data removed]",
      "text/plain": [
       "<matplotlib.figure.Figure at 0x1d78d8195c0>"
      ]
     },
     "metadata": {
      "needs_background": "light"
     },
     "output_type": "display_data"
    }
   ],
   "source": [
    "# Ratio of classes after over-sampling\n",
    "plt.hist(y_pen2)\n",
    "pd.Series(y_pen2).value_counts()"
   ]
  },
  {
   "cell_type": "code",
   "execution_count": 87,
   "metadata": {},
   "outputs": [
    {
     "data": {
      "text/plain": [
       "0    520220\n",
       "1     94941\n",
       "Name: Direct_Debit, dtype: int64"
      ]
     },
     "execution_count": 87,
     "metadata": {},
     "output_type": "execute_result"
    },
    {
     "data": {
      "image/png": "[encoded data removed]",
      "text/plain": [
       "<matplotlib.figure.Figure at 0x1d78d80cc88>"
      ]
     },
     "metadata": {
      "needs_background": "light"
     },
     "output_type": "display_data"
    }
   ],
   "source": [
    "# Imbalance in Direct_Debit\n",
    "plt.hist(train_data['Direct_Debit'])\n",
    "train_data['Direct_Debit'].value_counts()"
   ]
  },
  {
   "cell_type": "code",
   "execution_count": null,
   "metadata": {},
   "outputs": [],
   "source": [
    "# Oversampling to decrease imbalance in product columns\n",
    "X_dir_deb = train_data[features]\n",
    "y_dir_deb = train_data['Direct_Debit']\n",
    "\n",
    "sm = SMOTE()\n",
    "X_dir_deb, y_dir_deb = sm.fit_sample(X_dir_deb, y_dir_deb)"
   ]
  },
  {
   "cell_type": "code",
   "execution_count": 17,
   "metadata": {},
   "outputs": [],
   "source": [
    "# data = train_data.iloc[:10000, :]\n",
    "# data = data[[\"Customers_Country_Residence\", \"Sex\", \"Age\", \"Customer_Seniority\", \"Activity_Index\", \"Household_Income\",'Saving_Account', 'Guarantees',\n",
    "#        'Current_Account', 'Derivada_Account', 'Payroll_Account',\n",
    "#        'Junior_Account', 'MAS_Particular_Account', 'Particular_Account',\n",
    "#        'Particular_Plus_Account', 'Short_Term_Deposit', 'Medium_Term_Deposit',\n",
    "#        'Long_Term_Deposit', 'E_Account', 'Funds', 'Mortgage', 'Pensions1',\n",
    "#        'Loans', 'Taxes', 'Credit_card', 'Securities', 'Home_Account',\n",
    "#        'Payroll', 'Pensions2', 'Direct_Debit']]"
   ]
  },
  {
   "cell_type": "code",
   "execution_count": 16,
   "metadata": {},
   "outputs": [],
   "source": [
    "# data[['Saving_Account', 'Guarantees',\n",
    "#        'Current_Account', 'Derivada_Account', 'Payroll_Account',\n",
    "#        'Junior_Account', 'MAS_Particular_Account', 'Particular_Account',\n",
    "#        'Particular_Plus_Account', 'Short_Term_Deposit', 'Medium_Term_Deposit',\n",
    "#        'Long_Term_Deposit', 'E_Account', 'Funds', 'Mortgage', 'Pensions1',\n",
    "#        'Loans', 'Taxes', 'Credit_card', 'Securities', 'Home_Account',\n",
    "#        'Payroll', 'Pensions2', 'Direct_Debit']] = data[['Saving_Account', 'Guarantees',\n",
    "#        'Current_Account', 'Derivada_Account', 'Payroll_Account',\n",
    "#        'Junior_Account', 'MAS_Particular_Account', 'Particular_Account',\n",
    "#        'Particular_Plus_Account', 'Short_Term_Deposit', 'Medium_Term_Deposit',\n",
    "#        'Long_Term_Deposit', 'E_Account', 'Funds', 'Mortgage', 'Pensions1',\n",
    "#        'Loans', 'Taxes', 'Credit_card', 'Securities', 'Home_Account',\n",
    "#        'Payroll', 'Pensions2', 'Direct_Debit']].fillna(0).astype(int)"
   ]
  },
  {
   "cell_type": "code",
   "execution_count": 18,
   "metadata": {
    "scrolled": true
   },
   "outputs": [],
   "source": [
    "columns = train_data.columns\n",
    "columns = ['Age', 'Customer_Seniority', 'Household_Income', 'Activity_Index_0.0',\n",
    "       'Activity_Index_1.0', 'Province_Name_ALAVA', 'Province_Name_ALBACETE',\n",
    "       'Province_Name_ALICANTE', 'Province_Name_ALMERIA',\n",
    "       'Province_Name_ASTURIAS', 'Province_Name_AVILA',\n",
    "       'Province_Name_BADAJOZ', 'Province_Name_BALEARS, ILLES',\n",
    "       'Province_Name_BARCELONA', 'Province_Name_BIZKAIA',\n",
    "       'Province_Name_BURGOS', 'Province_Name_CACERES', 'Province_Name_CADIZ',\n",
    "       'Province_Name_CANTABRIA', 'Province_Name_CASTELLON',\n",
    "       'Province_Name_CEUTA', 'Province_Name_CIUDAD REAL',\n",
    "       'Province_Name_CORDOBA', 'Province_Name_CORUÑA, A',\n",
    "       'Province_Name_CUENCA', 'Province_Name_GIPUZKOA',\n",
    "       'Province_Name_GIRONA', 'Province_Name_GRANADA',\n",
    "       'Province_Name_GUADALAJARA', 'Province_Name_HUELVA',\n",
    "       'Province_Name_HUESCA', 'Province_Name_JAEN', 'Province_Name_LEON',\n",
    "       'Province_Name_LERIDA', 'Province_Name_LUGO', 'Province_Name_MADRID',\n",
    "       'Province_Name_MALAGA', 'Province_Name_MELILLA', 'Province_Name_MURCIA',\n",
    "       'Province_Name_NAVARRA', 'Province_Name_OURENSE',\n",
    "       'Province_Name_PALENCIA', 'Province_Name_PALMAS, LAS',\n",
    "       'Province_Name_PONTEVEDRA', 'Province_Name_RIOJA, LA',\n",
    "       'Province_Name_SALAMANCA', 'Province_Name_SANTA CRUZ DE TENERIFE',\n",
    "       'Province_Name_SEGOVIA', 'Province_Name_SEVILLA', 'Province_Name_SORIA',\n",
    "       'Province_Name_TARRAGONA', 'Province_Name_TERUEL',\n",
    "       'Province_Name_TOLEDO', 'Province_Name_VALENCIA',\n",
    "       'Province_Name_VALLADOLID', 'Province_Name_ZAMORA',\n",
    "       'Province_Name_ZARAGOZA', 'Sex_H', 'Sex_V','Foreigner_Index_N',\n",
    "       'Foreigner_Index_S', 'Residence_Index_N', 'Residence_Index_S']"
   ]
  },
  {
   "cell_type": "code",
   "execution_count": 15,
   "metadata": {},
   "outputs": [],
   "source": [
    "from sklearn.datasets import make_classification\n",
    "\n",
    "from sklearn.model_selection import train_test_split\n",
    "\n",
    "from sklearn.metrics import accuracy_score\n",
    "from sklearn.metrics import log_loss\n",
    "from sklearn.metrics import classification_report\n",
    "from sklearn.metrics import confusion_matrix\n",
    "\n",
    "from sklearn.ensemble import RandomForestClassifier\n",
    "from sklearn.ensemble import ExtraTreesClassifier\n",
    "from sklearn.ensemble import AdaBoostClassifier"
   ]
  },
  {
   "cell_type": "code",
   "execution_count": 28,
   "metadata": {},
   "outputs": [
    {
     "name": "stdout",
     "output_type": "stream",
     "text": [
      "\n",
      "#####Extremely Randomized Trees######\n",
      "\n",
      "*****Saving_Account*****:\n",
      "Accuracy= 0.9615559916525446 \n",
      "Log Loss= 0.47609840926385166\n",
      "Classification Report:\n",
      "              precision    recall  f1-score   support\n",
      "\n",
      "          0       0.96      0.96      0.96    369331\n",
      "          1       0.96      0.96      0.96    370056\n",
      "\n",
      "avg / total       0.96      0.96      0.96    739387\n",
      "\n",
      "Confusion Matrix:\n",
      " [[354364  14967]\n",
      " [ 13458 356598]]\n"
     ]
    }
   ],
   "source": [
    "#Predicting whether a customer will buy \"Savings_Account\" based on all the input features\n",
    "X_sav_train, X_sav_test, y_sav_train, y_sav_test = train_test_split(X_sav, y_sav, test_size=0.30, random_state=42)\n",
    "X, y= make_classification(random_state = 0, shuffle= True)\n",
    "\n",
    "\n",
    "clf = ExtraTreesClassifier(n_estimators=30, max_depth=2)\n",
    "clf.fit(X_sav_train, y_sav_train)\n",
    "sav_predictions = clf.predict(X_sav_test)\n",
    "\n",
    "accuracy = accuracy_score(y_sav_test, sav_predictions)\n",
    "pred_prob = clf.predict_proba(X_sav_test)\n",
    "\n",
    "loss = log_loss(y_sav_test, pred_prob)\n",
    "\n",
    "print (\"\\n#####Extremely Randomized Trees######\\n\")\n",
    "print (\"*****Saving_Account*****:\\nAccuracy=\",accuracy, \"\\nLog Loss=\",loss)\n",
    "print (\"Classification Report:\\n\", classification_report(y_sav_test, sav_predictions))\n",
    "print (\"Confusion Matrix:\\n\", confusion_matrix(y_sav_test, sav_predictions))"
   ]
  },
  {
   "cell_type": "code",
   "execution_count": 102,
   "metadata": {},
   "outputs": [
    {
     "name": "stdout",
     "output_type": "stream",
     "text": [
      "\n",
      "#####Extremely Randomized Trees######\n",
      "\n",
      "*****Guarantees*****:\n",
      "Accuracy= 0.943698675349882 \n",
      "Log Loss= 0.30312656670881216\n",
      "Classification Report:\n",
      "               precision    recall  f1-score   support\n",
      "\n",
      "           0       0.94      0.95      0.94    203022\n",
      "           1       0.95      0.94      0.94    202972\n",
      "\n",
      "   micro avg       0.94      0.94      0.94    405994\n",
      "   macro avg       0.94      0.94      0.94    405994\n",
      "weighted avg       0.94      0.94      0.94    405994\n",
      "\n",
      "Confusion Matrix:\n",
      " [[193305   9717]\n",
      " [ 13141 189831]]\n"
     ]
    }
   ],
   "source": [
    "#Predicting whether a customer will buy \"Guarantees\" based on all the input features\n",
    "X_guar_train, X_guar_test, y_guar_train, y_guar_test = train_test_split(X_guar, y_guar, test_size=0.33, random_state=42)\n",
    "X, y= make_classification(random_state = 0, shuffle= True)\n",
    "\n",
    "\n",
    "clf = ExtraTreesClassifier(n_estimators=10, max_depth=2)\n",
    "clf.fit(X_guar_train, y_guar_train)\n",
    "guar_predictions = clf.predict(X_guar_test)\n",
    "\n",
    "accuracy = accuracy_score(y_guar_test, guar_predictions)\n",
    "pred_prob = clf.predict_proba(X_guar_test)\n",
    "\n",
    "loss = log_loss(y_guar_test, pred_prob)\n",
    "\n",
    "print (\"\\n#####Extremely Randomized Trees######\\n\")\n",
    "print (\"*****Guarantees*****:\\nAccuracy=\",accuracy, \"\\nLog Loss=\",loss)\n",
    "print (\"Classification Report:\\n\", classification_report(y_guar_test, guar_predictions))\n",
    "print (\"Confusion Matrix:\\n\", confusion_matrix(y_guar_test, guar_predictions))"
   ]
  },
  {
   "cell_type": "code",
   "execution_count": 104,
   "metadata": {
    "scrolled": true
   },
   "outputs": [
    {
     "name": "stdout",
     "output_type": "stream",
     "text": [
      "\n",
      "#####Extremely Randomized Trees######\n",
      "\n",
      "*****Current_Account*****:\n",
      "Accuracy= 0.9046321696934695 \n",
      "Log Loss= 0.5012572103444983\n",
      "Classification Report:\n",
      "               precision    recall  f1-score   support\n",
      "\n",
      "           0       0.98      0.82      0.90    159223\n",
      "           1       0.85      0.99      0.91    159375\n",
      "\n",
      "   micro avg       0.90      0.90      0.90    318598\n",
      "   macro avg       0.92      0.90      0.90    318598\n",
      "weighted avg       0.92      0.90      0.90    318598\n",
      "\n",
      "Confusion Matrix:\n",
      " [[130838  28385]\n",
      " [  1999 157376]]\n"
     ]
    }
   ],
   "source": [
    "#Predicting whether a customer will buy \"Current_Account\" based on all the input features\n",
    "X_curr_acc_train, X_curr_acc_test, y_curr_acc_train, y_curr_acc_test = train_test_split(X_curr_acc, y_curr_acc, test_size=0.33, random_state=42)\n",
    "X, y= make_classification(random_state = 0, shuffle= True)\n",
    "\n",
    "clf = ExtraTreesClassifier(n_estimators=10, max_depth=2)\n",
    "clf.fit(X_curr_acc_train, y_curr_acc_train)\n",
    "curr_acc_predictions = clf.predict(X_curr_acc_test)\n",
    "\n",
    "accuracy = accuracy_score(y_curr_acc_test, curr_acc_predictions)\n",
    "pred_prob = clf.predict_proba(X_curr_acc_test)\n",
    "\n",
    "loss = log_loss(y_curr_acc_test, pred_prob)\n",
    "\n",
    "print (\"\\n#####Extremely Randomized Trees######\\n\")\n",
    "print (\"*****Current_Account*****:\\nAccuracy=\",accuracy, \"\\nLog Loss=\",loss)\n",
    "print (\"Classification Report:\\n\", classification_report(y_curr_acc_test, curr_acc_predictions))\n",
    "print (\"Confusion Matrix:\\n\", confusion_matrix(y_curr_acc_test, curr_acc_predictions))"
   ]
  },
  {
   "cell_type": "code",
   "execution_count": 105,
   "metadata": {
    "scrolled": true
   },
   "outputs": [
    {
     "name": "stdout",
     "output_type": "stream",
     "text": [
      "\n",
      "#####Extremely Randomized Trees######\n",
      "\n",
      "*****Derivada_Account*****:\n",
      "Accuracy= 0.9603189662182642 \n",
      "Log Loss= 0.3511494097873431\n",
      "Classification Report:\n",
      "               precision    recall  f1-score   support\n",
      "\n",
      "           0       0.93      1.00      0.96    202948\n",
      "           1       1.00      0.92      0.96    202863\n",
      "\n",
      "   micro avg       0.96      0.96      0.96    405811\n",
      "   macro avg       0.96      0.96      0.96    405811\n",
      "weighted avg       0.96      0.96      0.96    405811\n",
      "\n",
      "Confusion Matrix:\n",
      " [[202659    289]\n",
      " [ 15814 187049]]\n"
     ]
    }
   ],
   "source": [
    "#Predicting whether a customer will buy \"Derivada_Account\" based on all the input features\n",
    "X_der_acc_train, X_der_acc_test, y_der_acc_train, y_der_acc_test = train_test_split(X_der_acc, y_der_acc, test_size=0.33, random_state=42)\n",
    "X, y= make_classification(random_state = 0, shuffle= True)\n",
    "\n",
    "clf = ExtraTreesClassifier(n_estimators=10, max_depth=2)\n",
    "clf.fit(X_der_acc_train, y_der_acc_train)\n",
    "der_acc_predictions = clf.predict(X_der_acc_test)\n",
    "\n",
    "accuracy = accuracy_score(y_der_acc_test, der_acc_predictions)\n",
    "pred_prob = clf.predict_proba(X_der_acc_test)\n",
    "\n",
    "loss = log_loss(y_der_acc_test, pred_prob)\n",
    "\n",
    "print (\"\\n#####Extremely Randomized Trees######\\n\")\n",
    "print (\"*****Derivada_Account*****:\\nAccuracy=\",accuracy, \"\\nLog Loss=\",loss)\n",
    "print (\"Classification Report:\\n\", classification_report(y_der_acc_test, der_acc_predictions))\n",
    "print (\"Confusion Matrix:\\n\", confusion_matrix(y_der_acc_test, der_acc_predictions))"
   ]
  },
  {
   "cell_type": "code",
   "execution_count": 32,
   "metadata": {
    "scrolled": true
   },
   "outputs": [
    {
     "name": "stdout",
     "output_type": "stream",
     "text": [
      "\n",
      "#####Extremely Randomized Trees######\n",
      "\n",
      "*****Payroll_Account*****:\n",
      "Accuracy= 0.9796280603564367 \n",
      "Log Loss= 0.2947200613094513\n",
      "Classification Report:\n",
      "              precision    recall  f1-score   support\n",
      "\n",
      "        0.0       0.99      0.97      0.98    380561\n",
      "        1.0       0.97      0.99      0.98    380584\n",
      "\n",
      "avg / total       0.98      0.98      0.98    761145\n",
      "\n",
      "Confusion Matrix:\n",
      " [[370373  10188]\n",
      " [  5318 375266]]\n"
     ]
    }
   ],
   "source": [
    "#Predicting whether a customer will buy \"Payroll_Account\" based on all the input features\n",
    "X_pay_train, X_pay_test, y_pay_train, y_pay_test = train_test_split(X_pay, y_pay, test_size=0.33, random_state=42)\n",
    "X, y= make_classification(random_state = 0, shuffle= True)\n",
    "\n",
    "clf = ExtraTreesClassifier(n_estimators=10, max_depth=1)\n",
    "clf.fit(X_pay_train, y_pay_train)\n",
    "pay_predictions = clf.predict(X_pay_test)\n",
    "\n",
    "accuracy = accuracy_score(y_pay_test, pay_predictions)\n",
    "pred_prob = clf.predict_proba(X_pay_test)\n",
    "\n",
    "loss = log_loss(y_pay_test, pred_prob)\n",
    "\n",
    "print (\"\\n#####Extremely Randomized Trees######\\n\")\n",
    "print (\"*****Payroll_Account*****:\\nAccuracy=\",accuracy, \"\\nLog Loss=\",loss)\n",
    "print (\"Classification Report:\\n\", classification_report(y_pay_test, pay_predictions))\n",
    "print (\"Confusion Matrix:\\n\", confusion_matrix(y_pay_test, pay_predictions))"
   ]
  },
  {
   "cell_type": "code",
   "execution_count": 38,
   "metadata": {},
   "outputs": [
    {
     "name": "stdout",
     "output_type": "stream",
     "text": [
      "\n",
      "#####Extremely Randomized Trees######\n",
      "\n",
      "*****MAS_Particular_Account*****:\n",
      "Accuracy= 0.957352206515334 \n",
      "Log Loss= 0.5845938434878633\n",
      "Classification Report:\n",
      "              precision    recall  f1-score   support\n",
      "\n",
      "          0       0.97      0.94      0.96    400719\n",
      "          1       0.94      0.97      0.96    401972\n",
      "\n",
      "avg / total       0.96      0.96      0.96    802691\n",
      "\n",
      "Confusion Matrix:\n",
      " [[376656  24063]\n",
      " [ 10170 391802]]\n"
     ]
    }
   ],
   "source": [
    "#Predicting whether a customer will buy \"MAS_Particulars_Account\" based on all the input features\n",
    "X_mas_part_train, X_mas_part_test, y_mas_part_train, y_mas_part_test = train_test_split(X_mas_part, y_mas_part, test_size=0.33, random_state=42)\n",
    "X, y= make_classification(random_state = 0, shuffle= True)\n",
    "\n",
    "clf = ExtraTreesClassifier(n_estimators=30, max_depth=1)\n",
    "clf.fit(X_mas_part_train, y_mas_part_train)\n",
    "mas_part_predictions = clf.predict(X_mas_part_test)\n",
    "\n",
    "accuracy = accuracy_score(y_mas_part_test, mas_part_predictions)\n",
    "pred_prob = clf.predict_proba(X_mas_part_test)\n",
    "\n",
    "loss = log_loss(y_mas_part_test, pred_prob)\n",
    "\n",
    "print (\"\\n#####Extremely Randomized Trees######\\n\")\n",
    "print (\"*****MAS_Particular_Account*****:\\nAccuracy=\",accuracy, \"\\nLog Loss=\",loss)\n",
    "print (\"Classification Report:\\n\", classification_report(y_mas_part_test, mas_part_predictions))\n",
    "print (\"Confusion Matrix:\\n\", confusion_matrix(y_mas_part_test, mas_part_predictions))"
   ]
  },
  {
   "cell_type": "code",
   "execution_count": 110,
   "metadata": {
    "scrolled": true
   },
   "outputs": [
    {
     "name": "stdout",
     "output_type": "stream",
     "text": [
      "\n",
      "#####Extremely Randomized Trees######\n",
      "\n",
      "*****Particular_Plus_Account*****:\n",
      "Accuracy= 0.9486229464474816 \n",
      "Log Loss= 0.46439321039217296\n",
      "Classification Report:\n",
      "               precision    recall  f1-score   support\n",
      "\n",
      "           0       0.94      0.96      0.95    191508\n",
      "           1       0.96      0.94      0.95    190939\n",
      "\n",
      "   micro avg       0.95      0.95      0.95    382447\n",
      "   macro avg       0.95      0.95      0.95    382447\n",
      "weighted avg       0.95      0.95      0.95    382447\n",
      "\n",
      "Confusion Matrix:\n",
      " [[183582   7926]\n",
      " [ 11723 179216]]\n"
     ]
    }
   ],
   "source": [
    "#Predicting whether a customer will buy \"Particulars_Plus_Account\" based on all the input features\n",
    "X_part_plus_train, X_part_plus_test, y_part_plus_train, y_part_plus_test = train_test_split(X_part_plus, y_part_plus, test_size=0.33, random_state=42)\n",
    "X, y= make_classification(random_state = 0, shuffle= True)\n",
    "\n",
    "clf = ExtraTreesClassifier(n_estimators=10, max_depth=2)\n",
    "clf.fit(X_part_plus_train, y_part_plus_train)\n",
    "part_plus_predictions = clf.predict(X_part_plus_test)\n",
    "\n",
    "accuracy = accuracy_score(y_part_plus_test, part_plus_predictions)\n",
    "pred_prob = clf.predict_proba(X_part_plus_test)\n",
    "\n",
    "loss = log_loss(y_part_plus_test, pred_prob)\n",
    "\n",
    "print (\"\\n#####Extremely Randomized Trees######\\n\")\n",
    "print (\"*****Particular_Plus_Account*****:\\nAccuracy=\",accuracy, \"\\nLog Loss=\",loss)\n",
    "print (\"Classification Report:\\n\", classification_report(y_part_plus_test, part_plus_predictions))\n",
    "print (\"Confusion Matrix:\\n\", confusion_matrix(y_part_plus_test, part_plus_predictions))\n"
   ]
  },
  {
   "cell_type": "code",
   "execution_count": 17,
   "metadata": {
    "scrolled": true
   },
   "outputs": [
    {
     "name": "stdout",
     "output_type": "stream",
     "text": [
      "\n",
      "#####Extremely Randomized Trees######\n",
      "\n",
      "*****Short_Term_Deposit*****:\n",
      "Accuracy= 0.9944547385602786 \n",
      "Log Loss= 0.5778235298944884\n",
      "Classification Report:\n",
      "              precision    recall  f1-score   support\n",
      "\n",
      "          0       1.00      0.99      0.99    405302\n",
      "          1       0.99      1.00      0.99    405841\n",
      "\n",
      "avg / total       0.99      0.99      0.99    811143\n",
      "\n",
      "Confusion Matrix:\n",
      " [[402563   2739]\n",
      " [  1759 404082]]\n"
     ]
    }
   ],
   "source": [
    "#Predicting whether a customer will buy \"Short_Term_Deposit\" based on all the input features\n",
    "X_short_train, X_short_test, y_short_train, y_short_test = train_test_split(X_short, y_short, test_size=0.33, random_state=42)\n",
    "X, y= make_classification(random_state = 0, shuffle= True)\n",
    "\n",
    "clf = ExtraTreesClassifier(n_estimators=10, max_depth=1)\n",
    "clf.fit(X_short_train, y_short_train)\n",
    "short_predictions = clf.predict(X_short_test)\n",
    "\n",
    "accuracy = accuracy_score(y_short_test, short_predictions)\n",
    "pred_prob = clf.predict_proba(X_short_test)\n",
    "\n",
    "loss = log_loss(y_short_test, pred_prob)\n",
    "\n",
    "print (\"\\n#####Extremely Randomized Trees######\\n\")\n",
    "print (\"*****Short_Term_Deposit*****:\\nAccuracy=\",accuracy, \"\\nLog Loss=\",loss)\n",
    "print (\"Classification Report:\\n\", classification_report(y_short_test, short_predictions))\n",
    "print (\"Confusion Matrix:\\n\", confusion_matrix(y_short_test, short_predictions))"
   ]
  },
  {
   "cell_type": "code",
   "execution_count": 112,
   "metadata": {},
   "outputs": [
    {
     "name": "stdout",
     "output_type": "stream",
     "text": [
      "\n",
      "#####Extremely Randomized Trees######\n",
      "\n",
      "*****Medium_Term_Deposit*****:\n",
      "Accuracy= 0.9845115533637735 \n",
      "Log Loss= 0.311478887594554\n",
      "Classification Report:\n",
      "               precision    recall  f1-score   support\n",
      "\n",
      "           0       0.99      0.98      0.98    202414\n",
      "           1       0.98      0.99      0.98    202533\n",
      "\n",
      "   micro avg       0.98      0.98      0.98    404947\n",
      "   macro avg       0.98      0.98      0.98    404947\n",
      "weighted avg       0.98      0.98      0.98    404947\n",
      "\n",
      "Confusion Matrix:\n",
      " [[197902   4512]\n",
      " [  1760 200773]]\n"
     ]
    }
   ],
   "source": [
    "#Predicting whether a customer will buy \"Short_Term_Deposit\" based on all the input features\n",
    "X_medium_train, X_medium_test, y_medium_train, y_medium_test = train_test_split(X_medium, y_medium, test_size=0.33, random_state=42)\n",
    "X, y= make_classification(random_state = 0, shuffle= True)\n",
    "\n",
    "\n",
    "clf = ExtraTreesClassifier(n_estimators=10, max_depth=2)\n",
    "clf.fit(X_medium_train, y_medium_train)\n",
    "medium_predictions = clf.predict(X_medium_test)\n",
    "\n",
    "accuracy = accuracy_score(y_medium_test, medium_predictions)\n",
    "pred_prob = clf.predict_proba(X_medium_test)\n",
    "\n",
    "loss = log_loss(y_medium_test, pred_prob)\n",
    "\n",
    "print (\"\\n#####Extremely Randomized Trees######\\n\")\n",
    "print (\"*****Medium_Term_Deposit*****:\\nAccuracy=\",accuracy, \"\\nLog Loss=\",loss)\n",
    "print (\"Classification Report:\\n\", classification_report(y_medium_test, medium_predictions))\n",
    "print (\"Confusion Matrix:\\n\", confusion_matrix(y_medium_test, medium_predictions))"
   ]
  },
  {
   "cell_type": "code",
   "execution_count": 19,
   "metadata": {},
   "outputs": [
    {
     "name": "stdout",
     "output_type": "stream",
     "text": [
      "\n",
      "#####Extremely Randomized Trees######\n",
      "\n",
      "*****Long_Term_Deposit*****:\n",
      "Accuracy= 0.9779578720301946 \n",
      "Log Loss= 0.42768265155827295\n",
      "Classification Report:\n",
      "              precision    recall  f1-score   support\n",
      "\n",
      "          0       1.00      0.96      0.98    383237\n",
      "          1       0.96      1.00      0.98    383522\n",
      "\n",
      "avg / total       0.98      0.98      0.98    766759\n",
      "\n",
      "Confusion Matrix:\n",
      " [[366432  16805]\n",
      " [    96 383426]]\n"
     ]
    }
   ],
   "source": [
    "#Predicting whether a customer will buy \"Long_Term_Deposit\" based on all the input features\n",
    "X_long_train, X_long_test, y_long_train, y_long_test = train_test_split(X_long, y_long, test_size=0.33, random_state=42)\n",
    "X, y= make_classification(random_state = 0, shuffle= True)\n",
    "\n",
    "clf = ExtraTreesClassifier(n_estimators=10, max_depth=2)\n",
    "clf.fit(X_long_train, y_long_train)\n",
    "long_predictions = clf.predict(X_long_test)\n",
    "\n",
    "accuracy = accuracy_score(y_long_test, long_predictions)\n",
    "pred_prob = clf.predict_proba(X_long_test)\n",
    "\n",
    "loss = log_loss(y_long_test, pred_prob)\n",
    "\n",
    "print (\"\\n#####Extremely Randomized Trees######\\n\")\n",
    "print (\"*****Long_Term_Deposit*****:\\nAccuracy=\",accuracy, \"\\nLog Loss=\",loss)\n",
    "print (\"Classification Report:\\n\", classification_report(y_long_test, long_predictions))\n",
    "print (\"Confusion Matrix:\\n\", confusion_matrix(y_long_test, long_predictions))"
   ]
  },
  {
   "cell_type": "code",
   "execution_count": 221,
   "metadata": {},
   "outputs": [
    {
     "name": "stdout",
     "output_type": "stream",
     "text": [
      "#####Random Forest######\n",
      "\n",
      "*****E_Account*****:\n",
      "Accuracy= 0.9414548847156903 \n",
      "Log Loss= 0.3681876464912478\n",
      "Classification Report:\n",
      "               precision    recall  f1-score   support\n",
      "\n",
      "           0       0.95      0.93      0.94    183204\n",
      "           1       0.93      0.95      0.94    183368\n",
      "\n",
      "   micro avg       0.94      0.94      0.94    366572\n",
      "   macro avg       0.94      0.94      0.94    366572\n",
      "weighted avg       0.94      0.94      0.94    366572\n",
      "\n",
      "Confusion Matrix:\n",
      " [[170441  12763]\n",
      " [  8698 174670]]\n",
      "\n",
      "#####Extremely Randomized Trees######\n",
      "\n",
      "*****E_Account*****:\n",
      "Accuracy= 0.9566115251574043 \n",
      "Log Loss= 0.43603220578003754\n",
      "Classification Report:\n",
      "               precision    recall  f1-score   support\n",
      "\n",
      "           0       0.96      0.96      0.96    183204\n",
      "           1       0.96      0.96      0.96    183368\n",
      "\n",
      "   micro avg       0.96      0.96      0.96    366572\n",
      "   macro avg       0.96      0.96      0.96    366572\n",
      "weighted avg       0.96      0.96      0.96    366572\n",
      "\n",
      "Confusion Matrix:\n",
      " [[175047   8157]\n",
      " [  7748 175620]]\n",
      "\n",
      "#####AdaBoost######\n",
      "\n",
      "*****E_Account*****:\n",
      "Accuracy= 1.0 \n",
      "Log Loss= 9.99200722162641e-16\n",
      "Classification Report:\n",
      "               precision    recall  f1-score   support\n",
      "\n",
      "           0       1.00      1.00      1.00    183204\n",
      "           1       1.00      1.00      1.00    183368\n",
      "\n",
      "   micro avg       1.00      1.00      1.00    366572\n",
      "   macro avg       1.00      1.00      1.00    366572\n",
      "weighted avg       1.00      1.00      1.00    366572\n",
      "\n",
      "Confusion Matrix:\n",
      " [[183204      0]\n",
      " [     0 183368]]\n"
     ]
    }
   ],
   "source": [
    "#Predicting whether a customer will buy \"E_Account\" based on all the input features\n",
    "X_eacc_train, X_eacc_test, y_eacc_train, y_eacc_test = train_test_split(X_eacc, y_eacc, test_size=0.33, random_state=42)\n",
    "X, y= make_classification(random_state = 0, shuffle= True)\n",
    "\n",
    "clf = ExtraTreesClassifier(n_estimators=10, max_depth=2)\n",
    "clf.fit(X_eacc_train, y_eacc_train)\n",
    "eacc_predictions = clf.predict(X_eacc_test)\n",
    "\n",
    "accuracy = accuracy_score(y_eacc_test, eacc_predictions)\n",
    "pred_prob = clf.predict_proba(X_eacc_test)\n",
    "\n",
    "loss = log_loss(y_eacc_test, pred_prob)\n",
    "\n",
    "print (\"\\n#####Extremely Randomized Trees######\\n\")\n",
    "print (\"*****E_Account*****:\\nAccuracy=\",accuracy, \"\\nLog Loss=\",loss)\n",
    "print (\"Classification Report:\\n\", classification_report(y_eacc_test, eacc_predictions))\n",
    "print (\"Confusion Matrix:\\n\", confusion_matrix(y_eacc_test, eacc_predictions))"
   ]
  },
  {
   "cell_type": "code",
   "execution_count": 224,
   "metadata": {},
   "outputs": [
    {
     "name": "stdout",
     "output_type": "stream",
     "text": [
      "#####Random Forest######\n",
      "\n",
      "*****Funds*****:\n",
      "Accuracy= 0.898827382076957 \n",
      "Log Loss= 0.4798877715887205\n",
      "Classification Report:\n",
      "               precision    recall  f1-score   support\n",
      "\n",
      "           0       0.92      0.87      0.90    198610\n",
      "           1       0.88      0.93      0.90    198365\n",
      "\n",
      "   micro avg       0.90      0.90      0.90    396975\n",
      "   macro avg       0.90      0.90      0.90    396975\n",
      "weighted avg       0.90      0.90      0.90    396975\n",
      "\n",
      "Confusion Matrix:\n",
      " [[172726  25884]\n",
      " [ 14279 184086]]\n",
      "\n",
      "#####Extremely Randomized Trees######\n",
      "\n",
      "*****Funds*****:\n",
      "Accuracy= 0.9898054033629322 \n",
      "Log Loss= 0.3375431376815189\n",
      "Classification Report:\n",
      "               precision    recall  f1-score   support\n",
      "\n",
      "           0       1.00      0.98      0.99    198610\n",
      "           1       0.98      1.00      0.99    198365\n",
      "\n",
      "   micro avg       0.99      0.99      0.99    396975\n",
      "   macro avg       0.99      0.99      0.99    396975\n",
      "weighted avg       0.99      0.99      0.99    396975\n",
      "\n",
      "Confusion Matrix:\n",
      " [[194573   4037]\n",
      " [    10 198355]]\n",
      "\n",
      "#####AdaBoost######\n",
      "\n",
      "*****Funds*****:\n",
      "Accuracy= 1.0 \n",
      "Log Loss= 9.99200722162641e-16\n",
      "Classification Report:\n",
      "               precision    recall  f1-score   support\n",
      "\n",
      "           0       1.00      1.00      1.00    198610\n",
      "           1       1.00      1.00      1.00    198365\n",
      "\n",
      "   micro avg       1.00      1.00      1.00    396975\n",
      "   macro avg       1.00      1.00      1.00    396975\n",
      "weighted avg       1.00      1.00      1.00    396975\n",
      "\n",
      "Confusion Matrix:\n",
      " [[198610      0]\n",
      " [     0 198365]]\n"
     ]
    }
   ],
   "source": [
    "#Predicting whether a customer will buy \"Funds\" based on all the input features\n",
    "X_funds_train, X_funds_test, y_funds_train, y_funds_test = train_test_split(X_funds, y_funds, test_size=0.33, random_state=42)\n",
    "X, y= make_classification(random_state = 0, shuffle= True)\n",
    "\n",
    "clf = ExtraTreesClassifier(n_estimators=10, max_depth=2)\n",
    "clf.fit(X_funds_train, y_funds_train)\n",
    "funds_predictions = clf.predict(X_funds_test)\n",
    "\n",
    "accuracy = accuracy_score(y_funds_test, funds_predictions)\n",
    "pred_prob = clf.predict_proba(X_funds_test)\n",
    "\n",
    "loss = log_loss(y_funds_test, pred_prob)\n",
    "\n",
    "print (\"\\n#####Extremely Randomized Trees######\\n\")\n",
    "print (\"*****Funds*****:\\nAccuracy=\",accuracy, \"\\nLog Loss=\",loss)\n",
    "print (\"Classification Report:\\n\", classification_report(y_funds_test, funds_predictions))\n",
    "print (\"Confusion Matrix:\\n\", confusion_matrix(y_funds_test, funds_predictions))"
   ]
  },
  {
   "cell_type": "code",
   "execution_count": 22,
   "metadata": {},
   "outputs": [
    {
     "name": "stdout",
     "output_type": "stream",
     "text": [
      "\n",
      "#####Extremely Randomized Trees######\n",
      "\n",
      "*****Mortgage*****:\n",
      "Accuracy= 0.9876691923135074 \n",
      "Log Loss= 0.31266435416258936\n",
      "Classification Report:\n",
      "              precision    recall  f1-score   support\n",
      "\n",
      "          0       0.99      0.98      0.99    402969\n",
      "          1       0.98      0.99      0.99    403953\n",
      "\n",
      "avg / total       0.99      0.99      0.99    806922\n",
      "\n",
      "Confusion Matrix:\n",
      " [[396274   6695]\n",
      " [  3255 400698]]\n"
     ]
    }
   ],
   "source": [
    "#Predicting whether a customer will buy \"Mortgage\" based on all the input features\n",
    "X_mort_train, X_mort_test, y_mort_train, y_mort_test = train_test_split(X_mort, y_mort, test_size=0.33, random_state=42)\n",
    "X, y= make_classification(random_state = 0, shuffle= True)\n",
    "\n",
    "clf = ExtraTreesClassifier(n_estimators=10, max_depth=2)\n",
    "clf.fit(X_mort_train, y_mort_train)\n",
    "mort_predictions = clf.predict(X_mort_test)\n",
    "\n",
    "accuracy = accuracy_score(y_mort_test, mort_predictions)\n",
    "pred_prob = clf.predict_proba(X_mort_test)\n",
    "\n",
    "loss = log_loss(y_mort_test, pred_prob)\n",
    "\n",
    "print (\"\\n#####Extremely Randomized Trees######\\n\")\n",
    "print (\"*****Mortgage*****:\\nAccuracy=\",accuracy, \"\\nLog Loss=\",loss)\n",
    "print (\"Classification Report:\\n\", classification_report(y_mort_test, mort_predictions))\n",
    "print (\"Confusion Matrix:\\n\", confusion_matrix(y_mort_test, mort_predictions))"
   ]
  },
  {
   "cell_type": "code",
   "execution_count": 24,
   "metadata": {},
   "outputs": [
    {
     "name": "stdout",
     "output_type": "stream",
     "text": [
      "\n",
      "#####Extremely Randomized Trees######\n",
      "\n",
      "*****Pensions1*****:\n",
      "Accuracy= 0.9793139499490492 \n",
      "Log Loss= 0.14841551867040081\n",
      "Classification Report:\n",
      "              precision    recall  f1-score   support\n",
      "\n",
      "        0.0       0.99      0.97      0.98    378043\n",
      "        1.0       0.97      0.99      0.98    377587\n",
      "\n",
      "avg / total       0.98      0.98      0.98    755630\n",
      "\n",
      "Confusion Matrix:\n",
      " [[367716  10327]\n",
      " [  5304 372283]]\n"
     ]
    }
   ],
   "source": [
    "X_pen1_train, X_pen1_test, y_pen1_train, y_pen1_test = train_test_split(X_pen1, y_pen1, test_size=0.33, random_state=42)\n",
    "X, y= make_classification(random_state = 0, shuffle= True)\n",
    "\n",
    "clf = ExtraTreesClassifier(n_estimators=10, max_depth=2)\n",
    "clf.fit(X_pen1_train, y_pen1_train)\n",
    "pen1_predictions = clf.predict(X_pen1_test)\n",
    "\n",
    "accuracy = accuracy_score(y_pen1_test, pen1_predictions)\n",
    "pred_prob = clf.predict_proba(X_pen1_test)\n",
    "\n",
    "loss = log_loss(y_pen1_test, pred_prob)\n",
    "\n",
    "print (\"\\n#####Extremely Randomized Trees######\\n\")\n",
    "print (\"*****Pensions1*****:\\nAccuracy=\",accuracy, \"\\nLog Loss=\",loss)\n",
    "print (\"Classification Report:\\n\", classification_report(y_pen1_test, pen1_predictions))\n",
    "print (\"Confusion Matrix:\\n\", confusion_matrix(y_pen1_test, pen1_predictions))"
   ]
  },
  {
   "cell_type": "code",
   "execution_count": null,
   "metadata": {},
   "outputs": [],
   "source": [
    "X_loan_train, X_loan_test, y_loan_train, y_loan_test = train_test_split(X_loan, y_loan, test_size=0.33, random_state=42)\n",
    "X, y= make_classification(random_state = 0, shuffle= True)\n",
    "\n",
    "clf = ExtraTreesClassifier(n_estimators=10, max_depth=2)\n",
    "clf.fit(X_loan_train, y_loan_train)\n",
    "loan_predictions = clf.predict(X_loan_test)\n",
    "\n",
    "accuracy = accuracy_score(y_loan_test, loan_predictions)\n",
    "pred_prob = clf.predict_proba(X_loan_test)\n",
    "\n",
    "loss = log_loss(y_loan_test, pred_prob)\n",
    "\n",
    "print (\"\\n#####Extremely Randomized Trees######\\n\")\n",
    "print (\"*****Loans*****:\\nAccuracy=\",accuracy, \"\\nLog Loss=\",loss)\n",
    "print (\"Classification Report:\\n\", classification_report(y_loan_test, loan_predictions))\n",
    "print (\"Confusion Matrix:\\n\", confusion_matrix(y_loan_test, loan_predictions))"
   ]
  },
  {
   "cell_type": "code",
   "execution_count": null,
   "metadata": {},
   "outputs": [],
   "source": [
    "X_tax_train, X_tax_test, y_tax_train, y_tax_test = train_test_split(X_tax, y_tax, test_size=0.33, random_state=42)\n",
    "X, y= make_classification(random_state = 0, shuffle= True)\n",
    "\n",
    "clf = ExtraTreesClassifier(n_estimators=10, max_depth=2)\n",
    "clf.fit(X_tax_train, y_tax_train)\n",
    "tax_predictions = clf.predict(X_pen1_test)\n",
    "\n",
    "accuracy = accuracy_score(y_tax_test, tax_predictions)\n",
    "pred_prob = clf.predict_proba(X_tax_test)\n",
    "\n",
    "loss = log_loss(y_tax_test, pred_prob)\n",
    "\n",
    "print (\"\\n#####Extremely Randomized Trees######\\n\")\n",
    "print (\"*****Taxes*****:\\nAccuracy=\",accuracy, \"\\nLog Loss=\",loss)\n",
    "print (\"Classification Report:\\n\", classification_report(y_tax_test, tax_predictions))\n",
    "print (\"Confusion Matrix:\\n\", confusion_matrix(y_tax_test, tax_predictions))"
   ]
  },
  {
   "cell_type": "code",
   "execution_count": null,
   "metadata": {},
   "outputs": [],
   "source": [
    "X_jun_acc_train, X_jun_acc_test, y_jun_acc_train, y_jun_acc_test = train_test_split(X_jun_acc, y_jun_acc, test_size=0.33, random_state=42)\n",
    "X, y= make_classification(random_state = 0, shuffle= True)\n",
    "\n",
    "clf = ExtraTreesClassifier(n_estimators=10, max_depth=2)\n",
    "clf.fit(X_jun_acc_train, y_jun_acc_train)\n",
    "jun_acc_predictions = clf.predict(X_jun_acc_test)\n",
    "\n",
    "accuracy = accuracy_score(y_jun_acc_test, jun_acc_predictions)\n",
    "pred_prob = clf.predict_proba(X_jun_acc_test)\n",
    "\n",
    "loss = log_loss(y_jun_acc_test, pred_prob)\n",
    "\n",
    "print (\"\\n#####Extremely Randomized Trees######\\n\")\n",
    "print (\"*****Junior Account*****:\\nAccuracy=\",accuracy, \"\\nLog Loss=\",loss)\n",
    "print (\"Classification Report:\\n\", classification_report(y_jun_acc_test, jun_acc_predictions))\n",
    "print (\"Confusion Matrix:\\n\", confusion_matrix(y_jun_acc_test, jun_acc_predictions))"
   ]
  },
  {
   "cell_type": "code",
   "execution_count": 30,
   "metadata": {
    "scrolled": true
   },
   "outputs": [
    {
     "name": "stdout",
     "output_type": "stream",
     "text": [
      "\n",
      "#####Extremely Randomized Trees######\n",
      "\n",
      "*****Credit Card*****:\n",
      "Accuracy= 0.9627828637824939 \n",
      "Log Loss= 0.4462063185903752\n",
      "Classification Report:\n",
      "              precision    recall  f1-score   support\n",
      "\n",
      "          0       0.98      0.94      0.96    383990\n",
      "          1       0.94      0.98      0.96    383694\n",
      "\n",
      "avg / total       0.96      0.96      0.96    767684\n",
      "\n",
      "Confusion Matrix:\n",
      " [[361444  22546]\n",
      " [  6025 377669]]\n"
     ]
    }
   ],
   "source": [
    "X_cred_train, X_cred_test, y_cred_train, y_cred_test = train_test_split(X_cred, y_cred, test_size=0.33, random_state=42)\n",
    "X, y= make_classification(random_state = 0, shuffle= True)\n",
    "\n",
    "clf = ExtraTreesClassifier(n_estimators=30, max_depth=1)\n",
    "clf.fit(X_cred_train, y_cred_train)\n",
    "cred_predictions = clf.predict(X_cred_test)\n",
    "\n",
    "accuracy = accuracy_score(y_cred_test, cred_predictions)\n",
    "cred_prob = clf.predict_proba(X_cred_test)\n",
    "\n",
    "loss = log_loss(y_cred_test, cred_prob)\n",
    "\n",
    "print (\"\\n#####Extremely Randomized Trees######\\n\")\n",
    "print (\"*****Credit Card*****:\\nAccuracy=\",accuracy, \"\\nLog Loss=\",loss)\n",
    "print (\"Classification Report:\\n\", classification_report(y_cred_test, cred_predictions))\n",
    "print (\"Confusion Matrix:\\n\", confusion_matrix(y_cred_test, cred_predictions))"
   ]
  },
  {
   "cell_type": "code",
   "execution_count": 4,
   "metadata": {},
   "outputs": [
    {
     "data": {
      "text/plain": [
       "1232481    1057281\n",
       "1232482    1057270\n",
       "1232483    1057282\n",
       "1232484    1057504\n",
       "1232485    1057271\n",
       "Name: Customer_Code, dtype: int64"
      ]
     },
     "execution_count": 4,
     "metadata": {},
     "output_type": "execute_result"
    }
   ],
   "source": [
    "train_data['Customer_Code'].tail()"
   ]
  }
 ],
 "metadata": {
  "kernelspec": {
   "display_name": "Python 3",
   "language": "python",
   "name": "python3"
  },
  "language_info": {
   "codemirror_mode": {
    "name": "ipython",
    "version": 3
   },
   "file_extension": ".py",
   "mimetype": "text/x-python",
   "name": "python",
   "nbconvert_exporter": "python",
   "pygments_lexer": "ipython3",
   "version": "3.6.5"
  }
 },
 "nbformat": 4,
 "nbformat_minor": 2
}
