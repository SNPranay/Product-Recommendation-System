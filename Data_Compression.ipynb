{
 "cells": [
  {
   "cell_type": "code",
   "execution_count": 36,
   "metadata": {},
   "outputs": [],
   "source": [
    "import numpy as np\n",
    "import pandas as pd\n",
    "import matplotlib.pyplot as plt\n",
    "import seaborn as sns\n",
    "%matplotlib inline"
   ]
  },
  {
   "cell_type": "code",
   "execution_count": 37,
   "metadata": {},
   "outputs": [
    {
     "name": "stderr",
     "output_type": "stream",
     "text": [
      "C:\\Users\\naikpa.ADS\\AppData\\Local\\Continuum\\anaconda3\\lib\\site-packages\\IPython\\core\\interactiveshell.py:2785: DtypeWarning: Columns (5,8,11,15) have mixed types. Specify dtype option on import or set low_memory=False.\n",
      "  interactivity=interactivity, compiler=compiler, result=result)\n"
     ]
    }
   ],
   "source": [
    "train_data = pd.read_csv(\"train_ver2.csv\")"
   ]
  },
  {
   "cell_type": "code",
   "execution_count": 38,
   "metadata": {},
   "outputs": [],
   "source": [
    "train_data.columns = ['Date','Customer_Code','Employee_Index','Customers_Country_Residence','Sex','Age','Date_Acc_Open','New_customer_index','Customer_Seniority','Primary_Customer','Last_Date_Primary_Customer','Customer_Type_Beginning_Month','Customer_Relation_Type_Beginning_Month','Residence_Index','Foreigner_Index','Spouse_Index','Channel_Customer_join','Deceased_Index','Address_Type','Province_Code','Province_Name','Activity_Index','Household_Income','Segmentation','Saving_Account','Guarantees','Current_Account','Derivada_Account','Payroll_Account','Junior_Account','MAS_Particular_Account','Particular_Account','Particular_Plus_Account','Short_Term_Deposit','Medium_Term_Deposit','Long_Term_Deposit','E_Account','Funds','Mortgage','Pensions','Loans','Taxes','Credit_card','Securities','Home_Account','Payroll','Pensions','Direct_Debit']"
   ]
  },
  {
   "cell_type": "code",
   "execution_count": 39,
   "metadata": {
    "scrolled": true
   },
   "outputs": [
    {
     "name": "stdout",
     "output_type": "stream",
     "text": [
      "<class 'pandas.core.frame.DataFrame'>\n",
      "RangeIndex: 13647309 entries, 0 to 13647308\n",
      "Data columns (total 48 columns):\n",
      "Date                                      object\n",
      "Customer_Code                             int64\n",
      "Employee_Index                            object\n",
      "Customers_Country_Residence               object\n",
      "Sex                                       object\n",
      "Age                                       object\n",
      "Date_Acc_Open                             object\n",
      "New_customer_index                        float64\n",
      "Customer_Seniority                        object\n",
      "Primary_Customer                          float64\n",
      "Last_Date_Primary_Customer                object\n",
      "Customer_Type_Beginning_Month             object\n",
      "Customer_Relation_Type_Beginning_Month    object\n",
      "Residence_Index                           object\n",
      "Foreigner_Index                           object\n",
      "Spouse_Index                              object\n",
      "Channel_Customer_join                     object\n",
      "Deceased_Index                            object\n",
      "Address_Type                              float64\n",
      "Province_Code                             float64\n",
      "Province_Name                             object\n",
      "Activity_Index                            float64\n",
      "Household_Income                          float64\n",
      "Segmentation                              object\n",
      "Saving_Account                            int64\n",
      "Guarantees                                int64\n",
      "Current_Account                           int64\n",
      "Derivada_Account                          int64\n",
      "Payroll_Account                           int64\n",
      "Junior_Account                            int64\n",
      "MAS_Particular_Account                    int64\n",
      "Particular_Account                        int64\n",
      "Particular_Plus_Account                   int64\n",
      "Short_Term_Deposit                        int64\n",
      "Medium_Term_Deposit                       int64\n",
      "Long_Term_Deposit                         int64\n",
      "E_Account                                 int64\n",
      "Funds                                     int64\n",
      "Mortgage                                  int64\n",
      "Pensions                                  int64\n",
      "Loans                                     int64\n",
      "Taxes                                     int64\n",
      "Credit_card                               int64\n",
      "Securities                                int64\n",
      "Home_Account                              int64\n",
      "Payroll                                   float64\n",
      "Pensions                                  float64\n",
      "Direct_Debit                              int64\n",
      "dtypes: float64(8), int64(23), object(17)\n",
      "memory usage: 15.3 GB\n"
     ]
    }
   ],
   "source": [
    "train_data.info(memory_usage='deep')"
   ]
  },
  {
   "cell_type": "markdown",
   "metadata": {},
   "source": [
    "Reference - https://www.dataquest.io/blog/pandas-big-data/"
   ]
  },
  {
   "cell_type": "code",
   "execution_count": 40,
   "metadata": {},
   "outputs": [
    {
     "name": "stdout",
     "output_type": "stream",
     "text": [
      "2394.78 MB\n",
      "338.39 MB\n"
     ]
    }
   ],
   "source": [
    "def mem_usage(pandas_obj):\n",
    "    if isinstance(pandas_obj,pd.DataFrame):\n",
    "        usage_b = pandas_obj.memory_usage(deep=True).sum()\n",
    "    else: # we assume if not a df it's a series\n",
    "        usage_b = pandas_obj.memory_usage(deep=True)\n",
    "    usage_mb = usage_b / 1024 ** 2 # convert bytes to megabytes\n",
    "    return \"{:03.2f} MB\".format(usage_mb)\n",
    "\n",
    "train_data_int = train_data.select_dtypes(include=['int64'])\n",
    "converted_int = train_data_int.apply(pd.to_numeric,downcast='unsigned')\n",
    "\n",
    "print(mem_usage(train_data_int))\n",
    "print(mem_usage(converted_int))"
   ]
  },
  {
   "cell_type": "code",
   "execution_count": 41,
   "metadata": {},
   "outputs": [
    {
     "name": "stdout",
     "output_type": "stream",
     "text": [
      "832.97 MB\n",
      "416.48 MB\n"
     ]
    }
   ],
   "source": [
    "train_data_float = train_data.select_dtypes(include=['float64'])\n",
    "converted_float = train_data_float.apply(pd.to_numeric,downcast='float')\n",
    "\n",
    "print(mem_usage(train_data_float))\n",
    "print(mem_usage(converted_float))"
   ]
  },
  {
   "cell_type": "code",
   "execution_count": 42,
   "metadata": {},
   "outputs": [
    {
     "name": "stdout",
     "output_type": "stream",
     "text": [
      "15691.52 MB\n",
      "13257.70 MB\n"
     ]
    }
   ],
   "source": [
    "optimized_train_data = train_data.copy()\n",
    "\n",
    "optimized_train_data[converted_int.columns] = converted_int\n",
    "optimized_train_data[converted_float.columns] = converted_float\n",
    "\n",
    "print(mem_usage(train_data))\n",
    "print(mem_usage(optimized_train_data))"
   ]
  },
  {
   "cell_type": "code",
   "execution_count": 43,
   "metadata": {
    "scrolled": false
   },
   "outputs": [
    {
     "data": {
      "text/html": [
       "<div>\n",
       "<style scoped>\n",
       "    .dataframe tbody tr th:only-of-type {\n",
       "        vertical-align: middle;\n",
       "    }\n",
       "\n",
       "    .dataframe tbody tr th {\n",
       "        vertical-align: top;\n",
       "    }\n",
       "\n",
       "    .dataframe thead th {\n",
       "        text-align: right;\n",
       "    }\n",
       "</style>\n",
       "<table border=\"1\" class=\"dataframe\">\n",
       "  <thead>\n",
       "    <tr style=\"text-align: right;\">\n",
       "      <th></th>\n",
       "      <th>Date</th>\n",
       "      <th>Employee_Index</th>\n",
       "      <th>Customers_Country_Residence</th>\n",
       "      <th>Sex</th>\n",
       "      <th>Age</th>\n",
       "      <th>Date_Acc_Open</th>\n",
       "      <th>Customer_Seniority</th>\n",
       "      <th>Last_Date_Primary_Customer</th>\n",
       "      <th>Customer_Type_Beginning_Month</th>\n",
       "      <th>Customer_Relation_Type_Beginning_Month</th>\n",
       "      <th>Residence_Index</th>\n",
       "      <th>Foreigner_Index</th>\n",
       "      <th>Spouse_Index</th>\n",
       "      <th>Channel_Customer_join</th>\n",
       "      <th>Deceased_Index</th>\n",
       "      <th>Province_Name</th>\n",
       "      <th>Segmentation</th>\n",
       "    </tr>\n",
       "  </thead>\n",
       "  <tbody>\n",
       "    <tr>\n",
       "      <th>0</th>\n",
       "      <td>2015-01-28</td>\n",
       "      <td>N</td>\n",
       "      <td>ES</td>\n",
       "      <td>H</td>\n",
       "      <td>35</td>\n",
       "      <td>2015-01-12</td>\n",
       "      <td>6</td>\n",
       "      <td>NaN</td>\n",
       "      <td>1</td>\n",
       "      <td>A</td>\n",
       "      <td>S</td>\n",
       "      <td>N</td>\n",
       "      <td>NaN</td>\n",
       "      <td>KHL</td>\n",
       "      <td>N</td>\n",
       "      <td>MALAGA</td>\n",
       "      <td>02 - PARTICULARES</td>\n",
       "    </tr>\n",
       "    <tr>\n",
       "      <th>1</th>\n",
       "      <td>2015-01-28</td>\n",
       "      <td>N</td>\n",
       "      <td>ES</td>\n",
       "      <td>V</td>\n",
       "      <td>23</td>\n",
       "      <td>2012-08-10</td>\n",
       "      <td>35</td>\n",
       "      <td>NaN</td>\n",
       "      <td>1</td>\n",
       "      <td>I</td>\n",
       "      <td>S</td>\n",
       "      <td>S</td>\n",
       "      <td>NaN</td>\n",
       "      <td>KHE</td>\n",
       "      <td>N</td>\n",
       "      <td>CIUDAD REAL</td>\n",
       "      <td>03 - UNIVERSITARIO</td>\n",
       "    </tr>\n",
       "    <tr>\n",
       "      <th>2</th>\n",
       "      <td>2015-01-28</td>\n",
       "      <td>N</td>\n",
       "      <td>ES</td>\n",
       "      <td>V</td>\n",
       "      <td>23</td>\n",
       "      <td>2012-08-10</td>\n",
       "      <td>35</td>\n",
       "      <td>NaN</td>\n",
       "      <td>1</td>\n",
       "      <td>I</td>\n",
       "      <td>S</td>\n",
       "      <td>N</td>\n",
       "      <td>NaN</td>\n",
       "      <td>KHE</td>\n",
       "      <td>N</td>\n",
       "      <td>CIUDAD REAL</td>\n",
       "      <td>03 - UNIVERSITARIO</td>\n",
       "    </tr>\n",
       "    <tr>\n",
       "      <th>3</th>\n",
       "      <td>2015-01-28</td>\n",
       "      <td>N</td>\n",
       "      <td>ES</td>\n",
       "      <td>H</td>\n",
       "      <td>22</td>\n",
       "      <td>2012-08-10</td>\n",
       "      <td>35</td>\n",
       "      <td>NaN</td>\n",
       "      <td>1</td>\n",
       "      <td>I</td>\n",
       "      <td>S</td>\n",
       "      <td>N</td>\n",
       "      <td>NaN</td>\n",
       "      <td>KHD</td>\n",
       "      <td>N</td>\n",
       "      <td>ZARAGOZA</td>\n",
       "      <td>03 - UNIVERSITARIO</td>\n",
       "    </tr>\n",
       "    <tr>\n",
       "      <th>4</th>\n",
       "      <td>2015-01-28</td>\n",
       "      <td>N</td>\n",
       "      <td>ES</td>\n",
       "      <td>V</td>\n",
       "      <td>23</td>\n",
       "      <td>2012-08-10</td>\n",
       "      <td>35</td>\n",
       "      <td>NaN</td>\n",
       "      <td>1</td>\n",
       "      <td>A</td>\n",
       "      <td>S</td>\n",
       "      <td>N</td>\n",
       "      <td>NaN</td>\n",
       "      <td>KHE</td>\n",
       "      <td>N</td>\n",
       "      <td>ZARAGOZA</td>\n",
       "      <td>03 - UNIVERSITARIO</td>\n",
       "    </tr>\n",
       "  </tbody>\n",
       "</table>\n",
       "</div>"
      ],
      "text/plain": [
       "         Date Employee_Index Customers_Country_Residence Sex  Age  \\\n",
       "0  2015-01-28              N                          ES   H   35   \n",
       "1  2015-01-28              N                          ES   V   23   \n",
       "2  2015-01-28              N                          ES   V   23   \n",
       "3  2015-01-28              N                          ES   H   22   \n",
       "4  2015-01-28              N                          ES   V   23   \n",
       "\n",
       "  Date_Acc_Open Customer_Seniority Last_Date_Primary_Customer  \\\n",
       "0    2015-01-12                  6                        NaN   \n",
       "1    2012-08-10                 35                        NaN   \n",
       "2    2012-08-10                 35                        NaN   \n",
       "3    2012-08-10                 35                        NaN   \n",
       "4    2012-08-10                 35                        NaN   \n",
       "\n",
       "  Customer_Type_Beginning_Month Customer_Relation_Type_Beginning_Month  \\\n",
       "0                             1                                      A   \n",
       "1                             1                                      I   \n",
       "2                             1                                      I   \n",
       "3                             1                                      I   \n",
       "4                             1                                      A   \n",
       "\n",
       "  Residence_Index Foreigner_Index Spouse_Index Channel_Customer_join  \\\n",
       "0               S               N          NaN                   KHL   \n",
       "1               S               S          NaN                   KHE   \n",
       "2               S               N          NaN                   KHE   \n",
       "3               S               N          NaN                   KHD   \n",
       "4               S               N          NaN                   KHE   \n",
       "\n",
       "  Deceased_Index Province_Name        Segmentation  \n",
       "0              N        MALAGA   02 - PARTICULARES  \n",
       "1              N   CIUDAD REAL  03 - UNIVERSITARIO  \n",
       "2              N   CIUDAD REAL  03 - UNIVERSITARIO  \n",
       "3              N      ZARAGOZA  03 - UNIVERSITARIO  \n",
       "4              N      ZARAGOZA  03 - UNIVERSITARIO  "
      ]
     },
     "execution_count": 43,
     "metadata": {},
     "output_type": "execute_result"
    }
   ],
   "source": [
    "train_data_object = train_data.select_dtypes(include=['object'])\n",
    "train_data_object.head()"
   ]
  },
  {
   "cell_type": "code",
   "execution_count": 44,
   "metadata": {},
   "outputs": [
    {
     "data": {
      "text/plain": [
       "array([nan, '2015-07-02', '2015-07-23', '2015-07-06', '2015-07-30',\n",
       "       '2015-07-20', '2015-07-08', '2015-07-22', '2015-07-17',\n",
       "       '2015-07-09', '2015-07-03', '2015-07-29', '2015-07-13',\n",
       "       '2015-07-21', '2015-07-27', '2015-07-14', '2015-07-01',\n",
       "       '2015-07-24', '2015-07-15', '2015-07-16', '2015-07-28',\n",
       "       '2015-07-07', '2015-07-10', '2015-08-21', '2015-08-19',\n",
       "       '2015-08-25', '2015-08-14', '2015-08-24', '2015-08-17',\n",
       "       '2015-08-18', '2015-08-10', '2015-08-13', '2015-08-27',\n",
       "       '2015-08-03', '2015-08-06', '2015-08-20', '2015-08-26',\n",
       "       '2015-08-28', '2015-08-05', '2015-08-11', '2015-08-07',\n",
       "       '2015-08-04', '2015-08-12', '2015-09-17', '2015-09-01',\n",
       "       '2015-09-18', '2015-09-03', '2015-09-02', '2015-09-14',\n",
       "       '2015-09-16', '2015-09-29', '2015-09-28', '2015-09-09',\n",
       "       '2015-09-22', '2015-09-08', '2015-09-11', '2015-09-21',\n",
       "       '2015-09-04', '2015-09-25', '2015-09-07', '2015-09-10',\n",
       "       '2015-09-23', '2015-09-24', '2015-09-15', '2015-10-08',\n",
       "       '2015-10-07', '2015-10-13', '2015-10-26', '2015-10-29',\n",
       "       '2015-10-05', '2015-10-28', '2015-10-09', '2015-10-22',\n",
       "       '2015-10-20', '2015-10-15', '2015-10-06', '2015-10-01',\n",
       "       '2015-10-21', '2015-10-16', '2015-10-27', '2015-10-19',\n",
       "       '2015-10-23', '2015-10-02', '2015-10-14', '2015-11-23',\n",
       "       '2015-11-24', '2015-11-12', '2015-11-04', '2015-11-13',\n",
       "       '2015-11-25', '2015-11-19', '2015-11-20', '2015-11-03',\n",
       "       '2015-11-16', '2015-11-17', '2015-11-11', '2015-11-27',\n",
       "       '2015-11-18', '2015-11-10', '2015-11-26', '2015-11-02',\n",
       "       '2015-11-05', '2015-11-06', '2015-11-09', '2015-12-21',\n",
       "       '2015-12-18', '2015-12-28', '2015-12-24', '2015-12-04',\n",
       "       '2015-12-29', '2015-12-16', '2015-12-11', '2015-12-30',\n",
       "       '2015-12-15', '2015-12-01', '2015-12-09', '2015-12-10',\n",
       "       '2015-12-17', '2015-12-02', '2015-12-14', '2015-12-03',\n",
       "       '2015-12-22', '2015-12-23', '2015-12-07', '2016-01-08',\n",
       "       '2016-01-14', '2016-01-13', '2016-01-28', '2016-01-05',\n",
       "       '2016-01-19', '2016-01-12', '2016-01-18', '2016-01-21',\n",
       "       '2016-01-22', '2016-01-07', '2016-01-20', '2016-01-26',\n",
       "       '2016-01-15', '2016-01-27', '2016-01-25', '2016-01-11',\n",
       "       '2016-01-04', '2016-02-23', '2016-02-19', '2016-02-18',\n",
       "       '2016-02-26', '2016-02-12', '2016-02-24', '2016-02-09',\n",
       "       '2016-02-08', '2016-02-11', '2016-02-05', '2016-02-04',\n",
       "       '2016-02-03', '2016-02-15', '2016-02-22', '2016-02-10',\n",
       "       '2016-02-16', '2016-02-01', '2016-02-17', '2016-02-02',\n",
       "       '2016-02-25', '2016-03-07', '2016-03-29', '2016-03-10',\n",
       "       '2016-03-18', '2016-03-14', '2016-03-22', '2016-03-08',\n",
       "       '2016-03-21', '2016-03-30', '2016-03-01', '2016-03-23',\n",
       "       '2016-03-02', '2016-03-24', '2016-03-03', '2016-03-09',\n",
       "       '2016-03-11', '2016-03-04', '2016-03-16', '2016-03-28',\n",
       "       '2016-03-15', '2016-03-17', '2016-04-22', '2016-04-01',\n",
       "       '2016-04-06', '2016-04-12', '2016-04-05', '2016-04-15',\n",
       "       '2016-04-13', '2016-04-19', '2016-04-04', '2016-04-18',\n",
       "       '2016-04-26', '2016-04-11', '2016-04-25', '2016-04-27',\n",
       "       '2016-04-08', '2016-04-07', '2016-04-21', '2016-04-28',\n",
       "       '2016-04-20', '2016-04-14', '2016-05-23', '2016-05-05',\n",
       "       '2016-05-17', '2016-05-19', '2016-05-12', '2016-05-06',\n",
       "       '2016-05-03', '2016-05-20', '2016-05-02', '2016-05-16',\n",
       "       '2016-05-18', '2016-05-04', '2016-05-13', '2016-05-24',\n",
       "       '2016-05-27', '2016-05-10', '2016-05-30', '2016-05-25',\n",
       "       '2016-05-11', '2016-05-09', '2016-05-26'], dtype=object)"
      ]
     },
     "execution_count": 44,
     "metadata": {},
     "output_type": "execute_result"
    }
   ],
   "source": [
    "train_data['Last_Date_Primary_Customer'].unique()"
   ]
  },
  {
   "cell_type": "code",
   "execution_count": 45,
   "metadata": {},
   "outputs": [
    {
     "name": "stderr",
     "output_type": "stream",
     "text": [
      "C:\\Users\\naikpa.ADS\\AppData\\Local\\Continuum\\anaconda3\\lib\\site-packages\\pandas\\core\\frame.py:3697: SettingWithCopyWarning: \n",
      "A value is trying to be set on a copy of a slice from a DataFrame\n",
      "\n",
      "See the caveats in the documentation: http://pandas.pydata.org/pandas-docs/stable/indexing.html#indexing-view-versus-copy\n",
      "  errors=errors)\n"
     ]
    },
    {
     "name": "stdout",
     "output_type": "stream",
     "text": [
      "9748.20 MB\n",
      "195.30 MB\n"
     ]
    }
   ],
   "source": [
    "train_data_object.drop(['Date','Age','Date_Acc_Open','Last_Date_Primary_Customer'],axis=1,inplace=True)\n",
    "\n",
    "converted_obj = train_data_object.copy()\n",
    "\n",
    "for column in train_data_object:\n",
    "    converted_obj[column] = train_data_object[column].astype('category')\n",
    "    \n",
    "print(mem_usage(train_data_object))\n",
    "print(mem_usage(converted_obj))"
   ]
  },
  {
   "cell_type": "code",
   "execution_count": 46,
   "metadata": {},
   "outputs": [],
   "source": [
    "optimized_train_data[converted_obj.columns] = converted_obj"
   ]
  },
  {
   "cell_type": "code",
   "execution_count": 47,
   "metadata": {},
   "outputs": [
    {
     "name": "stdout",
     "output_type": "stream",
     "text": [
      "15691.52 MB\n",
      "3704.80 MB\n"
     ]
    }
   ],
   "source": [
    "print(mem_usage(train_data))\n",
    "print(mem_usage(optimized_train_data))"
   ]
  },
  {
   "cell_type": "code",
   "execution_count": 48,
   "metadata": {},
   "outputs": [],
   "source": [
    "date_columns = ['Date','Date_Acc_Open','Last_Date_Primary_Customer']\n",
    "\n",
    "for dc in date_columns:\n",
    "    optimized_train_data[dc] = pd.to_datetime(optimized_train_data[dc], format='%Y-%m-%d')"
   ]
  },
  {
   "cell_type": "code",
   "execution_count": 49,
   "metadata": {
    "scrolled": true
   },
   "outputs": [
    {
     "name": "stdout",
     "output_type": "stream",
     "text": [
      "15691.52 MB\n",
      "1856.76 MB\n"
     ]
    }
   ],
   "source": [
    "print(mem_usage(train_data))\n",
    "print(mem_usage(optimized_train_data))"
   ]
  },
  {
   "cell_type": "code",
   "execution_count": 51,
   "metadata": {},
   "outputs": [],
   "source": [
    "optimized_train_data.to_csv('train.csv')"
   ]
  },
  {
   "cell_type": "code",
   "execution_count": 15,
   "metadata": {},
   "outputs": [
    {
     "name": "stdout",
     "output_type": "stream",
     "text": [
      "1856.76 MB\n"
     ]
    }
   ],
   "source": [
    "print(mem_usage(optimized_train_data))"
   ]
  },
  {
   "cell_type": "code",
   "execution_count": 50,
   "metadata": {},
   "outputs": [],
   "source": [
    "optimized_train_data.to_pickle(\"train.pkl\")"
   ]
  },
  {
   "cell_type": "code",
   "execution_count": 52,
   "metadata": {},
   "outputs": [
    {
     "data": {
      "text/plain": [
       "0   2015-01-28\n",
       "1   2015-01-28\n",
       "2   2015-01-28\n",
       "3   2015-01-28\n",
       "4   2015-01-28\n",
       "Name: Date, dtype: datetime64[ns]"
      ]
     },
     "execution_count": 52,
     "metadata": {},
     "output_type": "execute_result"
    }
   ],
   "source": [
    "optimized_train_data['Date'].head(5)"
   ]
  }
 ],
 "metadata": {
  "kernelspec": {
   "display_name": "Python 3",
   "language": "python",
   "name": "python3"
  },
  "language_info": {
   "codemirror_mode": {
    "name": "ipython",
    "version": 3
   },
   "file_extension": ".py",
   "mimetype": "text/x-python",
   "name": "python",
   "nbconvert_exporter": "python",
   "pygments_lexer": "ipython3",
   "version": "3.6.5"
  }
 },
 "nbformat": 4,
 "nbformat_minor": 2
}
