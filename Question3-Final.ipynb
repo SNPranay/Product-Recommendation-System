{
 "cells": [
  {
   "cell_type": "code",
   "execution_count": 36,
   "metadata": {},
   "outputs": [],
   "source": [
    "# Required libraries\n",
    "import numpy as np\n",
    "import pandas as pd\n",
    "import warnings\n",
    "warnings.filterwarnings('ignore')\n",
    "import matplotlib\n",
    "import matplotlib.pyplot as plt\n",
    "%matplotlib inline\n",
    "matplotlib.use('Agg')"
   ]
  },
  {
   "cell_type": "code",
   "execution_count": 37,
   "metadata": {},
   "outputs": [],
   "source": [
    "# Training data\n",
    "train_data = pd.read_pickle('train_processed.pkl')"
   ]
  },
  {
   "cell_type": "markdown",
   "metadata": {},
   "source": [
    "### Trying to predict Activity Index, Customer Relation Type Beginning Month, Foreigner Index, Residence Index and  Gender  on the basis of the given products"
   ]
  },
  {
   "cell_type": "code",
   "execution_count": 38,
   "metadata": {},
   "outputs": [
    {
     "data": {
      "text/plain": [
       "Index(['Date', 'Date_Acc_Open', 'Customer_Code', 'Age', 'Customer_Seniority',\n",
       "       'Household_Income', 'New_customer_index', 'Activity_Index_0.0',\n",
       "       'Activity_Index_1.0', 'Customer_Relation_Type_Beginning_Month_A',\n",
       "       'Customer_Relation_Type_Beginning_Month_I',\n",
       "       'Customer_Relation_Type_Beginning_Month_N',\n",
       "       'Customer_Relation_Type_Beginning_Month_P',\n",
       "       'Customer_Relation_Type_Beginning_Month_R', 'Province_Name_ALAVA',\n",
       "       'Province_Name_ALBACETE', 'Province_Name_ALICANTE',\n",
       "       'Province_Name_ALMERIA', 'Province_Name_ASTURIAS',\n",
       "       'Province_Name_AVILA', 'Province_Name_BADAJOZ',\n",
       "       'Province_Name_BALEARS, ILLES', 'Province_Name_BARCELONA',\n",
       "       'Province_Name_BIZKAIA', 'Province_Name_BURGOS',\n",
       "       'Province_Name_CACERES', 'Province_Name_CADIZ',\n",
       "       'Province_Name_CANTABRIA', 'Province_Name_CASTELLON',\n",
       "       'Province_Name_CEUTA', 'Province_Name_CIUDAD REAL',\n",
       "       'Province_Name_CORDOBA', 'Province_Name_CORUÑA, A',\n",
       "       'Province_Name_CUENCA', 'Province_Name_GIPUZKOA',\n",
       "       'Province_Name_GIRONA', 'Province_Name_GRANADA',\n",
       "       'Province_Name_GUADALAJARA', 'Province_Name_HUELVA',\n",
       "       'Province_Name_HUESCA', 'Province_Name_JAEN', 'Province_Name_LEON',\n",
       "       'Province_Name_LERIDA', 'Province_Name_LUGO', 'Province_Name_MADRID',\n",
       "       'Province_Name_MALAGA', 'Province_Name_MELILLA', 'Province_Name_MURCIA',\n",
       "       'Province_Name_NAVARRA', 'Province_Name_OURENSE',\n",
       "       'Province_Name_PALENCIA', 'Province_Name_PALMAS, LAS',\n",
       "       'Province_Name_PONTEVEDRA', 'Province_Name_RIOJA, LA',\n",
       "       'Province_Name_SALAMANCA', 'Province_Name_SANTA CRUZ DE TENERIFE',\n",
       "       'Province_Name_SEGOVIA', 'Province_Name_SEVILLA', 'Province_Name_SORIA',\n",
       "       'Province_Name_TARRAGONA', 'Province_Name_TERUEL',\n",
       "       'Province_Name_TOLEDO', 'Province_Name_VALENCIA',\n",
       "       'Province_Name_VALLADOLID', 'Province_Name_ZAMORA',\n",
       "       'Province_Name_ZARAGOZA', 'Sex_H', 'Sex_V', 'Foreigner_Index_N',\n",
       "       'Foreigner_Index_S', 'Residence_Index_N', 'Residence_Index_S',\n",
       "       'Segmentation_01 - TOP', 'Segmentation_02 - PARTICULARES',\n",
       "       'Segmentation_03 - UNIVERSITARIO', 'Saving_Account', 'Guarantees',\n",
       "       'Current_Account', 'Derivada_Account', 'Payroll_Account',\n",
       "       'Junior_Account', 'MAS_Particular_Account', 'Particular_Account',\n",
       "       'Particular_Plus_Account', 'Short_Term_Deposit', 'Medium_Term_Deposit',\n",
       "       'Long_Term_Deposit', 'E_Account', 'Funds', 'Mortgage', 'Pensions1',\n",
       "       'Loans', 'Taxes', 'Credit_card', 'Securities', 'Home_Account',\n",
       "       'Payroll', 'Pensions2', 'Direct_Debit'],\n",
       "      dtype='object')"
      ]
     },
     "execution_count": 38,
     "metadata": {},
     "output_type": "execute_result"
    }
   ],
   "source": [
    "train_data.columns"
   ]
  },
  {
   "cell_type": "code",
   "execution_count": 39,
   "metadata": {},
   "outputs": [],
   "source": [
    "# The names of input features\n",
    "features = ['Saving_Account', 'Guarantees',\n",
    "       'Current_Account', 'Derivada_Account', 'Payroll_Account',\n",
    "       'Junior_Account', 'MAS_Particular_Account', 'Particular_Account',\n",
    "       'Particular_Plus_Account', 'Short_Term_Deposit', 'Medium_Term_Deposit',\n",
    "       'Long_Term_Deposit', 'E_Account', 'Funds', 'Mortgage', 'Pensions1',\n",
    "       'Loans', 'Taxes', 'Credit_card', 'Securities', 'Home_Account',\n",
    "       'Payroll', 'Pensions2', 'Direct_Debit']"
   ]
  },
  {
   "cell_type": "code",
   "execution_count": 40,
   "metadata": {},
   "outputs": [],
   "source": [
    "#Merging of different columns of output\n",
    "features_Sex= ['Sex_H', 'Sex_V']\n",
    "features_Re= ['Residence_Index_N', 'Residence_Index_S']\n",
    "features_Ac= ['Activity_Index_0.0', 'Activity_Index_1.0']\n",
    "features_Seg= ['Segmentation_01 - TOP', 'Segmentation_02 - PARTICULARES','Segmentation_03 - UNIVERSITARIO']\n",
    "features_customer_rel= ['Customer_Relation_Type_Beginning_Month_A', 'Customer_Relation_Type_Beginning_Month_I','Customer_Relation_Type_Beginning_Month_N','Customer_Relation_Type_Beginning_Month_P','Customer_Relation_Type_Beginning_Month_R']\n",
    "Pro_Name= ['Province_Name_ALAVA', 'Province_Name_ALAVA','Province_Name_ALBACETE','Province_Name_ALMERIA','Province_Name_ALICANTE','Province_Name_ASTURIAS','Province_Name_AVILA','Province_Name_BADAJOZ','Province_Name_BALEARS, ILLES', 'Province_Name_BARCELONA','Province_Name_BIZKAIA', 'Province_Name_BURGOS','Province_Name_CACERES', 'Province_Name_CADIZ','Province_Name_CANTABRIA', 'Province_Name_CASTELLON','Province_Name_CEUTA','Province_Name_CIUDAD REAL','Province_Name_CORDOBA', 'Province_Name_CORUÑA, A','Province_Name_CUENCA', 'Province_Name_GIPUZKOA','Province_Name_GIRONA', 'Province_Name_GRANADA','Province_Name_GUADALAJARA','Province_Name_HUELVA','Province_Name_HUESCA', 'Province_Name_JAEN', 'Province_Name_LEON','Province_Name_LERIDA', 'Province_Name_LUGO', 'Province_Name_MADRID','Province_Name_MALAGA', 'Province_Name_MELILLA', 'Province_Name_MURCIA','Province_Name_NAVARRA', 'Province_Name_OURENSE','Province_Name_PALENCIA', 'Province_Name_PALMAS, LAS','Province_Name_PONTEVEDRA', 'Province_Name_RIOJA, LA','Province_Name_SALAMANCA', 'Province_Name_SANTA CRUZ DE TENERIFE','Province_Name_SEGOVIA', 'Province_Name_SEVILLA', 'Province_Name_SORIA','Province_Name_TARRAGONA', 'Province_Name_TERUEL','Province_Name_TOLEDO', 'Province_Name_VALENCIA','Province_Name_VALLADOLID', 'Province_Name_ZAMORA','Province_Name_ZARAGOZA']\n"
   ]
  },
  {
   "cell_type": "code",
   "execution_count": 41,
   "metadata": {},
   "outputs": [
    {
     "data": {
      "text/plain": [
       "([array([338906.,      0.,      0.,      0.,      0.,      0.,      0.,\n",
       "              0.,      0., 276255.]),\n",
       "  array([276255.,      0.,      0.,      0.,      0.,      0.,      0.,\n",
       "              0.,      0., 338906.])],\n",
       " array([0. , 0.1, 0.2, 0.3, 0.4, 0.5, 0.6, 0.7, 0.8, 0.9, 1. ]),\n",
       " <a list of 2 Lists of Patches objects>)"
      ]
     },
     "execution_count": 41,
     "metadata": {},
     "output_type": "execute_result"
    },
    {
     "data": {
      "image/png": "[encoded data removed]",
      "text/plain": [
       "<Figure size 432x288 with 1 Axes>"
      ]
     },
     "metadata": {
      "needs_background": "light"
     },
     "output_type": "display_data"
    }
   ],
   "source": [
    "#Checking Imbalance in Gender\n",
    "X_gender = train_data[features].astype('int').values\n",
    "y_gender = train_data[features_Sex].astype('int').values\n",
    "plt.hist(y_gender)"
   ]
  },
  {
   "cell_type": "code",
   "execution_count": 42,
   "metadata": {},
   "outputs": [
    {
     "data": {
      "text/plain": [
       "([array([ 26900.,      0.,      0.,      0.,      0.,      0.,      0.,\n",
       "              0.,      0., 588261.]),\n",
       "  array([588261.,      0.,      0.,      0.,      0.,      0.,      0.,\n",
       "              0.,      0.,  26900.])],\n",
       " array([0. , 0.1, 0.2, 0.3, 0.4, 0.5, 0.6, 0.7, 0.8, 0.9, 1. ]),\n",
       " <a list of 2 Lists of Patches objects>)"
      ]
     },
     "execution_count": 42,
     "metadata": {},
     "output_type": "execute_result"
    },
    {
     "data": {
      "image/png": "[encoded data removed]",
      "text/plain": [
       "<Figure size 432x288 with 1 Axes>"
      ]
     },
     "metadata": {
      "needs_background": "light"
     },
     "output_type": "display_data"
    }
   ],
   "source": [
    "#Imbalance in Foreign index\n",
    "\n",
    "foreign_i = ['Foreigner_Index_N','Foreigner_Index_S']\n",
    "X_Foreigner_Index = train_data[features].astype('int').values\n",
    "y_Foreigner_Index = train_data[foreign_i].astype('int').values\n",
    "plt.hist(y_Foreigner_Index)"
   ]
  },
  {
   "cell_type": "code",
   "execution_count": 43,
   "metadata": {},
   "outputs": [
    {
     "data": {
      "text/plain": [
       "(array([588261.,      0.,      0.,      0.,      0.,      0.,      0.,\n",
       "             0.,      0., 588261.]),\n",
       " array([0. , 0.1, 0.2, 0.3, 0.4, 0.5, 0.6, 0.7, 0.8, 0.9, 1. ]),\n",
       " <a list of 10 Patch objects>)"
      ]
     },
     "execution_count": 43,
     "metadata": {},
     "output_type": "execute_result"
    },
    {
     "data": {
      "image/png": "[encoded data removed]",
      "text/plain": [
       "<Figure size 432x288 with 1 Axes>"
      ]
     },
     "metadata": {
      "needs_background": "light"
     },
     "output_type": "display_data"
    }
   ],
   "source": [
    "# Oversampling to decrease imbalance in product columns for Foreigner Index\n",
    "from imblearn.over_sampling import SMOTE\n",
    "\n",
    "sm = SMOTE()\n",
    "X_Foreigner_Index,y_Foreigner_Index = sm.fit_sample(train_data[features].astype('int').values, train_data['Foreigner_Index_N'].astype('int').values)\n",
    "\n",
    "plt.hist(y_Foreigner_Index)\n"
   ]
  },
  {
   "cell_type": "code",
   "execution_count": 44,
   "metadata": {},
   "outputs": [
    {
     "data": {
      "text/plain": [
       "([array([611482.,      0.,      0.,      0.,      0.,      0.,      0.,\n",
       "              0.,      0.,   3679.]),\n",
       "  array([  3679.,      0.,      0.,      0.,      0.,      0.,      0.,\n",
       "              0.,      0., 611482.])],\n",
       " array([0. , 0.1, 0.2, 0.3, 0.4, 0.5, 0.6, 0.7, 0.8, 0.9, 1. ]),\n",
       " <a list of 2 Lists of Patches objects>)"
      ]
     },
     "execution_count": 44,
     "metadata": {},
     "output_type": "execute_result"
    },
    {
     "data": {
      "image/png": "[encoded data removed]",
      "text/plain": [
       "<Figure size 432x288 with 1 Axes>"
      ]
     },
     "metadata": {
      "needs_background": "light"
     },
     "output_type": "display_data"
    }
   ],
   "source": [
    "#Imbalance in Residence_Index_N\n",
    "X_Residence_Index = train_data[features].astype('int').values\n",
    "y_Residence_Index = train_data[features_Re].astype('int').values\n",
    "plt.hist(y_Residence_Index)"
   ]
  },
  {
   "cell_type": "code",
   "execution_count": 45,
   "metadata": {},
   "outputs": [
    {
     "data": {
      "text/plain": [
       "(array([611482.,      0.,      0.,      0.,      0.,      0.,      0.,\n",
       "             0.,      0., 611482.]),\n",
       " array([0. , 0.1, 0.2, 0.3, 0.4, 0.5, 0.6, 0.7, 0.8, 0.9, 1. ]),\n",
       " <a list of 10 Patch objects>)"
      ]
     },
     "execution_count": 45,
     "metadata": {},
     "output_type": "execute_result"
    },
    {
     "data": {
      "image/png": "[encoded data removed]",
      "text/plain": [
       "<Figure size 432x288 with 1 Axes>"
      ]
     },
     "metadata": {
      "needs_background": "light"
     },
     "output_type": "display_data"
    }
   ],
   "source": [
    "# Oversampling to decrease imbalance in product columns for Foreigner Index\n",
    "from imblearn.over_sampling import SMOTE\n",
    "\n",
    "sm = SMOTE()\n",
    "X_Residence_Index,y_Residence_Index = sm.fit_sample(train_data[features].astype('int').values, train_data['Residence_Index_N'].astype('int').values)\n",
    "\n",
    "plt.hist(y_Residence_Index)\n"
   ]
  },
  {
   "cell_type": "code",
   "execution_count": 46,
   "metadata": {},
   "outputs": [
    {
     "data": {
      "text/plain": [
       "([array([333486.,      0.,      0.,      0.,      0.,      0.,      0.,\n",
       "              0.,      0., 281675.]),\n",
       "  array([281675.,      0.,      0.,      0.,      0.,      0.,      0.,\n",
       "              0.,      0., 333486.])],\n",
       " array([0. , 0.1, 0.2, 0.3, 0.4, 0.5, 0.6, 0.7, 0.8, 0.9, 1. ]),\n",
       " <a list of 2 Lists of Patches objects>)"
      ]
     },
     "execution_count": 46,
     "metadata": {},
     "output_type": "execute_result"
    },
    {
     "data": {
      "image/png": "[encoded data removed]",
      "text/plain": [
       "<Figure size 432x288 with 1 Axes>"
      ]
     },
     "metadata": {
      "needs_background": "light"
     },
     "output_type": "display_data"
    }
   ],
   "source": [
    "#Activity_Index_1.0\n",
    "X_Activity_Index = train_data[features].astype('int').values\n",
    "y_Activity_Index = train_data[features_Ac].astype('int').values\n",
    "plt.hist(y_Activity_Index)\n",
    "\n",
    "# From Histogram we can observe that the data is balanced"
   ]
  },
  {
   "cell_type": "code",
   "execution_count": 47,
   "metadata": {},
   "outputs": [
    {
     "data": {
      "text/plain": [
       "([array([584989.,      0.,      0.,      0.,      0.,      0.,      0.,\n",
       "              0.,      0.,  30172.]),\n",
       "  array([256513.,      0.,      0.,      0.,      0.,      0.,      0.,\n",
       "              0.,      0., 358648.]),\n",
       "  array([388820.,      0.,      0.,      0.,      0.,      0.,      0.,\n",
       "              0.,      0., 226341.])],\n",
       " array([0. , 0.1, 0.2, 0.3, 0.4, 0.5, 0.6, 0.7, 0.8, 0.9, 1. ]),\n",
       " <a list of 3 Lists of Patches objects>)"
      ]
     },
     "execution_count": 47,
     "metadata": {},
     "output_type": "execute_result"
    },
    {
     "data": {
      "image/png": "[encoded data removed]",
      "text/plain": [
       "<Figure size 432x288 with 1 Axes>"
      ]
     },
     "metadata": {
      "needs_background": "light"
     },
     "output_type": "display_data"
    }
   ],
   "source": [
    "#Imbalance in segmentation\n",
    "X_Seg=train_data[features].astype('int').values\n",
    "y_seg=train_data[features_Seg].astype('int').values\n",
    "plt.hist(y_seg)"
   ]
  },
  {
   "cell_type": "code",
   "execution_count": 48,
   "metadata": {},
   "outputs": [
    {
     "data": {
      "text/plain": [
       "([array([294758.,      0.,      0.,      0.,      0.,      0.,      0.,\n",
       "              0.,      0., 320403.]),\n",
       "  array([320427.,      0.,      0.,      0.,      0.,      0.,      0.,\n",
       "              0.,      0., 294734.]),\n",
       "  array([615161.,      0.,      0.,      0.,      0.,      0.,      0.,\n",
       "              0.,      0.,      0.]),\n",
       "  array([6.15137e+05, 0.00000e+00, 0.00000e+00, 0.00000e+00, 0.00000e+00,\n",
       "         0.00000e+00, 0.00000e+00, 0.00000e+00, 0.00000e+00, 2.40000e+01]),\n",
       "  array([615161.,      0.,      0.,      0.,      0.,      0.,      0.,\n",
       "              0.,      0.,      0.])],\n",
       " array([0. , 0.1, 0.2, 0.3, 0.4, 0.5, 0.6, 0.7, 0.8, 0.9, 1. ]),\n",
       " <a list of 5 Lists of Patches objects>)"
      ]
     },
     "execution_count": 48,
     "metadata": {},
     "output_type": "execute_result"
    },
    {
     "data": {
      "image/png": "[encoded data removed]",
      "text/plain": [
       "<Figure size 432x288 with 1 Axes>"
      ]
     },
     "metadata": {
      "needs_background": "light"
     },
     "output_type": "display_data"
    }
   ],
   "source": [
    "#Customer_Relation_Type_Beginning_Month\n",
    "X_Cust_Rel=train_data[features].astype('int').values\n",
    "y_Cust_Rel=train_data[features_customer_rel].astype('int').values\n",
    "plt.hist(y_Cust_Rel)"
   ]
  },
  {
   "cell_type": "code",
   "execution_count": 49,
   "metadata": {},
   "outputs": [
    {
     "name": "stdout",
     "output_type": "stream",
     "text": [
      "Accuracy_Score =  0.5590136154952612\n",
      "[[0.51013507 0.48909266]\n",
      " [0.51013507 0.48909266]\n",
      " [0.38258733 0.61671354]\n",
      " ...\n",
      " [0.51013507 0.48909266]\n",
      " [0.30828816 0.6936319 ]\n",
      " [0.38258733 0.61671354]]\n"
     ]
    }
   ],
   "source": [
    "# Predting Gender from given products\n",
    "from sklearn.neural_network import MLPClassifier\n",
    "from sklearn.neural_network import MLPRegressor\n",
    "from sklearn.model_selection import train_test_split\n",
    "\n",
    "from sklearn.model_selection import train_test_split\n",
    "from sklearn.metrics import accuracy_score\n",
    "\n",
    "X_train_gender, X_test_gender, y_train_gender, y_test_gender= train_test_split(X_gender, y_gender ,test_size=0.33, random_state=0)\n",
    "\n",
    "neural_net_gender = MLPClassifier()\n",
    "neural_net_gender.fit(X_train_gender,y_train_gender)\n",
    "print('Accuracy_Score = ',neural_net_gender.score(X_test_gender,y_test_gender))\n",
    "n_pr_gender=neural_net_gender.predict(X_test_gender)\n",
    "pred_prob_neural_net_gender = neural_net_gender.predict_proba(X_test_gender)\n",
    "print(pred_prob_neural_net_gender)"
   ]
  },
  {
   "cell_type": "code",
   "execution_count": 50,
   "metadata": {},
   "outputs": [
    {
     "data": {
      "text/plain": [
       "0.6772509453381067"
      ]
     },
     "execution_count": 50,
     "metadata": {},
     "output_type": "execute_result"
    }
   ],
   "source": [
    "# Log loss for Gender\n",
    "from sklearn.metrics import log_loss\n",
    "log_loss(y_test_gender,pred_prob_neural_net_gender)"
   ]
  },
  {
   "cell_type": "code",
   "execution_count": 51,
   "metadata": {},
   "outputs": [
    {
     "name": "stdout",
     "output_type": "stream",
     "text": [
      "classification_report for gender:\n",
      "              precision    recall  f1-score   support\n",
      "\n",
      "           0       0.51      0.61      0.55     91295\n",
      "           1       0.62      0.52      0.57    111709\n",
      "\n",
      "   micro avg       0.56      0.56      0.56    203004\n",
      "   macro avg       0.56      0.56      0.56    203004\n",
      "weighted avg       0.57      0.56      0.56    203004\n",
      " samples avg       0.56      0.56      0.56    203004\n",
      "\n"
     ]
    }
   ],
   "source": [
    "#Classification Report and confusion matrix -gender\n",
    "\n",
    "from sklearn.metrics import classification_report\n",
    "print(\"classification_report for gender:\")\n",
    "print(classification_report(y_test_gender,n_pr_gender))"
   ]
  },
  {
   "cell_type": "code",
   "execution_count": 52,
   "metadata": {},
   "outputs": [
    {
     "name": "stdout",
     "output_type": "stream",
     "text": [
      "Accuracy_Score_Fr_Index =  0.5747334856395185\n",
      "[0 0 0 ... 0 0 0]\n",
      "[1 1 0 ... 1 0 0]\n",
      "[[0.51930452 0.48069548]\n",
      " [0.51930452 0.48069548]\n",
      " [0.51930452 0.48069548]\n",
      " ...\n",
      " [0.51930452 0.48069548]\n",
      " [0.67436823 0.32563177]\n",
      " [0.51930452 0.48069548]]\n"
     ]
    }
   ],
   "source": [
    "from sklearn.neural_network import MLPClassifier\n",
    "from sklearn.neural_network import MLPRegressor\n",
    "from sklearn.model_selection import train_test_split\n",
    "\n",
    "from sklearn.model_selection import train_test_split\n",
    "from sklearn.metrics import accuracy_score\n",
    "\n",
    "X_train_Fr_Index, X_test_Fr_Index, y_train_Fr_Index, y_test_Fr_Index= train_test_split(X_Foreigner_Index, y_Foreigner_Index ,test_size=0.33, random_state=0)\n",
    "\n",
    "neural_Fr_Index = MLPClassifier(hidden_layer_sizes=(12),warm_start=True,learning_rate='adaptive')\n",
    "neural_Fr_Index.fit(X_train_Fr_Index,y_train_Fr_Index)\n",
    "print('Accuracy_Score_Fr_Index = ',neural_Fr_Index.score(X_test_Fr_Index,y_test_Fr_Index))\n",
    "n_pr_Fr_Index=neural_Fr_Index.predict(X_test_Fr_Index)\n",
    "print(n_pr_Fr_Index)\n",
    "print(y_test_Fr_Index)\n",
    "\n",
    "pred_prob_neural_Fr_Index = neural_Fr_Index.predict_proba(X_test_Fr_Index)\n",
    "print(pred_prob_neural_Fr_Index)"
   ]
  },
  {
   "cell_type": "code",
   "execution_count": 53,
   "metadata": {},
   "outputs": [
    {
     "data": {
      "text/plain": [
       "0.6611199397195602"
      ]
     },
     "execution_count": 53,
     "metadata": {},
     "output_type": "execute_result"
    }
   ],
   "source": [
    "# Log loss for foreign index\n",
    "from sklearn.metrics import log_loss\n",
    "log_loss(y_test_Fr_Index,pred_prob_neural_Fr_Index)"
   ]
  },
  {
   "cell_type": "code",
   "execution_count": 54,
   "metadata": {},
   "outputs": [
    {
     "name": "stdout",
     "output_type": "stream",
     "text": [
      "classification_report for Foreign Index:\n",
      "              precision    recall  f1-score   support\n",
      "\n",
      "           0       0.55      0.82      0.66    194186\n",
      "           1       0.65      0.33      0.43    194067\n",
      "\n",
      "   micro avg       0.57      0.57      0.57    388253\n",
      "   macro avg       0.60      0.57      0.55    388253\n",
      "weighted avg       0.60      0.57      0.55    388253\n",
      "\n",
      "Confusion matrix for model_neural nets_Foreign Index:\n",
      "[[159994  34192]\n",
      " [130919  63148]]\n"
     ]
    }
   ],
   "source": [
    "#Classification Report and confusion matrix -foreign\n",
    "\n",
    "from sklearn.metrics import classification_report\n",
    "print(\"classification_report for Foreign Index:\")\n",
    "print(classification_report(y_test_Fr_Index,n_pr_Fr_Index))\n",
    "\n",
    "\n",
    "\n",
    "from sklearn.metrics import confusion_matrix\n",
    "M_FI=confusion_matrix(y_test_Fr_Index,n_pr_Fr_Index)\n",
    "print(\"Confusion matrix for model_neural nets_Foreign Index:\")\n",
    "print(M_FI)"
   ]
  },
  {
   "cell_type": "code",
   "execution_count": 55,
   "metadata": {},
   "outputs": [
    {
     "name": "stdout",
     "output_type": "stream",
     "text": [
      "Accuracy_Score_Re_Index =  0.6382789986594942\n",
      "[0 1 0 ... 1 0 0]\n",
      "[1 1 1 ... 1 0 0]\n",
      "[[0.52414983 0.47585017]\n",
      " [0.15269659 0.84730341]\n",
      " [0.52414983 0.47585017]\n",
      " ...\n",
      " [0.3839223  0.6160777 ]\n",
      " [0.52414983 0.47585017]\n",
      " [0.52414983 0.47585017]]\n"
     ]
    }
   ],
   "source": [
    "from sklearn.neural_network import MLPClassifier\n",
    "from sklearn.neural_network import MLPRegressor\n",
    "from sklearn.model_selection import train_test_split\n",
    "\n",
    "from sklearn.model_selection import train_test_split\n",
    "from sklearn.metrics import accuracy_score\n",
    "\n",
    "X_train_Re_Index, X_test_Re_Index, y_train_Re_Index, y_test_Re_Index= train_test_split(X_Residence_Index,y_Residence_Index ,test_size=0.33, random_state=0)\n",
    "\n",
    "neural_Re_Index = MLPClassifier()\n",
    "neural_Re_Index.fit(X_train_Re_Index,y_train_Re_Index)\n",
    "print('Accuracy_Score_Re_Index = ',neural_Re_Index.score(X_test_Re_Index,y_test_Re_Index))\n",
    "n_pr_Re_Index=neural_Re_Index.predict(X_test_Re_Index)\n",
    "print(n_pr_Re_Index)\n",
    "print(y_test_Re_Index)\n",
    "pred_prob_neural_Re_Index = neural_Re_Index.predict_proba(X_test_Re_Index)\n",
    "print(pred_prob_neural_Re_Index)"
   ]
  },
  {
   "cell_type": "code",
   "execution_count": 56,
   "metadata": {},
   "outputs": [
    {
     "data": {
      "text/plain": [
       "0.6003080503239386"
      ]
     },
     "execution_count": 56,
     "metadata": {},
     "output_type": "execute_result"
    }
   ],
   "source": [
    "# Log loss for Residence index\n",
    "from sklearn.metrics import log_loss\n",
    "log_loss(y_test_Re_Index,pred_prob_neural_Re_Index)"
   ]
  },
  {
   "cell_type": "code",
   "execution_count": 57,
   "metadata": {},
   "outputs": [
    {
     "name": "stdout",
     "output_type": "stream",
     "text": [
      "classification_report for Residence Index:\n",
      "              precision    recall  f1-score   support\n",
      "\n",
      "           0       0.60      0.80      0.69    201480\n",
      "           1       0.70      0.48      0.57    202099\n",
      "\n",
      "   micro avg       0.64      0.64      0.64    403579\n",
      "   macro avg       0.65      0.64      0.63    403579\n",
      "weighted avg       0.65      0.64      0.63    403579\n",
      "\n"
     ]
    }
   ],
   "source": [
    "#Classification Report and confusion matrix -Activity Index\n",
    "\n",
    "from sklearn.metrics import classification_report\n",
    "print(\"classification_report for Residence Index:\")\n",
    "print(classification_report(y_test_Re_Index,n_pr_Re_Index))\n"
   ]
  },
  {
   "cell_type": "code",
   "execution_count": 58,
   "metadata": {},
   "outputs": [
    {
     "name": "stdout",
     "output_type": "stream",
     "text": [
      "Accuracy_Score_Ac_Index =  0.7603643277964967\n",
      "[[1 0]\n",
      " [1 0]\n",
      " [0 1]\n",
      " ...\n",
      " [1 0]\n",
      " [0 1]\n",
      " [0 1]]\n",
      "[[1 0]\n",
      " [1 0]\n",
      " [0 1]\n",
      " ...\n",
      " [1 0]\n",
      " [0 1]\n",
      " [0 1]]\n",
      "[[0.6691574  0.33033519]\n",
      " [0.6691574  0.33033519]\n",
      " [0.35124609 0.65141246]\n",
      " ...\n",
      " [0.6691574  0.33033519]\n",
      " [0.00272679 0.99738336]\n",
      " [0.35124609 0.65141246]]\n"
     ]
    }
   ],
   "source": [
    "#Activity Index\n",
    "from sklearn.neural_network import MLPClassifier\n",
    "from sklearn.neural_network import MLPRegressor\n",
    "from sklearn.model_selection import train_test_split\n",
    "\n",
    "from sklearn.model_selection import train_test_split\n",
    "from sklearn.metrics import accuracy_score\n",
    "\n",
    "X_train_Ac_Index, X_test_Ac_Index, y_train_Ac_Index, y_test_Ac_Index= train_test_split(X_Activity_Index,y_Activity_Index ,test_size=0.33, random_state=0)\n",
    "\n",
    "neural_Ac_Index = MLPClassifier(learning_rate = \"adaptive\")\n",
    "neural_Ac_Index.fit(X_train_Ac_Index,y_train_Ac_Index)\n",
    "print('Accuracy_Score_Ac_Index = ',neural_Ac_Index.score(X_test_Ac_Index,y_test_Ac_Index))\n",
    "n_pr_Ac_Index=neural_Ac_Index.predict(X_test_Ac_Index)\n",
    "print(n_pr_Ac_Index)\n",
    "print(y_test_Ac_Index)\n",
    "pred_prob_neural_Ac_Index = neural_Ac_Index.predict_proba(X_test_Ac_Index)\n",
    "print(pred_prob_neural_Ac_Index)\n"
   ]
  },
  {
   "cell_type": "code",
   "execution_count": 59,
   "metadata": {},
   "outputs": [
    {
     "data": {
      "text/plain": [
       "0.48105818887189344"
      ]
     },
     "execution_count": 59,
     "metadata": {},
     "output_type": "execute_result"
    }
   ],
   "source": [
    "# Log loss for Activity index\n",
    "from sklearn.metrics import log_loss\n",
    "log_loss(y_test_Ac_Index,pred_prob_neural_Ac_Index)"
   ]
  },
  {
   "cell_type": "code",
   "execution_count": 60,
   "metadata": {},
   "outputs": [
    {
     "name": "stdout",
     "output_type": "stream",
     "text": [
      "classification_report for Residence Index:\n",
      "              precision    recall  f1-score   support\n",
      "\n",
      "           0       0.68      0.90      0.78     93239\n",
      "           1       0.88      0.64      0.74    109765\n",
      "\n",
      "   micro avg       0.76      0.76      0.76    203004\n",
      "   macro avg       0.78      0.77      0.76    203004\n",
      "weighted avg       0.79      0.76      0.76    203004\n",
      " samples avg       0.76      0.76      0.76    203004\n",
      "\n"
     ]
    }
   ],
   "source": [
    "#Classification Report and confusion matrix -Activity Index\n",
    "\n",
    "from sklearn.metrics import classification_report\n",
    "print(\"classification_report for Residence Index:\")\n",
    "print(classification_report(y_test_Ac_Index,n_pr_Ac_Index))\n"
   ]
  },
  {
   "cell_type": "code",
   "execution_count": 61,
   "metadata": {},
   "outputs": [
    {
     "name": "stdout",
     "output_type": "stream",
     "text": [
      "Accuracy_Score_seg =  0.7326308841205099\n",
      "[[0 0 1]\n",
      " [0 0 1]\n",
      " [0 1 0]\n",
      " ...\n",
      " [0 0 1]\n",
      " [1 0 0]\n",
      " [0 1 0]]\n",
      "[[0 0 1]\n",
      " [0 0 1]\n",
      " [0 1 0]\n",
      " ...\n",
      " [0 0 1]\n",
      " [0 1 0]\n",
      " [0 1 0]]\n",
      "[[0.0023742  0.35727495 0.64378925]\n",
      " [0.0023742  0.35727495 0.64378925]\n",
      " [0.01449493 0.97318614 0.01403851]\n",
      " ...\n",
      " [0.0023742  0.35727495 0.64378925]\n",
      " [0.65430089 0.34433411 0.00811534]\n",
      " [0.01449493 0.97318614 0.01403851]]\n"
     ]
    }
   ],
   "source": [
    "# customer Segmentation\n",
    "from sklearn.neural_network import MLPClassifier\n",
    "from sklearn.neural_network import MLPRegressor\n",
    "from sklearn.model_selection import train_test_split\n",
    "\n",
    "\n",
    "from sklearn.metrics import accuracy_score\n",
    "\n",
    "X_train_seg, X_test_seg, y_train_seg, y_test_seg= train_test_split(X_Seg,y_seg,test_size=0.33, random_state=0)\n",
    "\n",
    "neural_seg = MLPClassifier()\n",
    "neural_seg.fit(X_train_seg,y_train_seg)\n",
    "print('Accuracy_Score_seg = ',neural_seg.score(X_test_seg,y_test_seg))\n",
    "n_pr_seg=neural_seg.predict(X_test_seg)\n",
    "print(n_pr_seg)\n",
    "print(y_test_seg)\n",
    "\n",
    "pred_prob_neural_Seg = neural_seg.predict_proba(X_test_seg)\n",
    "print(pred_prob_neural_Seg)\n"
   ]
  },
  {
   "cell_type": "code",
   "execution_count": 62,
   "metadata": {},
   "outputs": [
    {
     "data": {
      "text/plain": [
       "0.5418104356586345"
      ]
     },
     "execution_count": 62,
     "metadata": {},
     "output_type": "execute_result"
    }
   ],
   "source": [
    "# Log loss for Segmentation\n",
    "from sklearn.metrics import log_loss\n",
    "log_loss(y_test_seg,pred_prob_neural_Seg)"
   ]
  },
  {
   "cell_type": "code",
   "execution_count": 63,
   "metadata": {},
   "outputs": [
    {
     "name": "stdout",
     "output_type": "stream",
     "text": [
      "classification_report for Segmentation:\n",
      "              precision    recall  f1-score   support\n",
      "\n",
      "           0       0.63      0.24      0.35      9930\n",
      "           1       0.85      0.66      0.74    118136\n",
      "           2       0.64      0.91      0.75     74938\n",
      "\n",
      "   micro avg       0.73      0.73      0.73    203004\n",
      "   macro avg       0.71      0.61      0.61    203004\n",
      "weighted avg       0.76      0.73      0.73    203004\n",
      " samples avg       0.73      0.73      0.73    203004\n",
      "\n"
     ]
    }
   ],
   "source": [
    "#Classification Report and confusion matrix -Segmentation\n",
    "\n",
    "from sklearn.metrics import classification_report\n",
    "print(\"classification_report for Segmentation:\")\n",
    "print(classification_report(y_test_seg,n_pr_seg))\n"
   ]
  },
  {
   "cell_type": "code",
   "execution_count": 64,
   "metadata": {},
   "outputs": [
    {
     "name": "stdout",
     "output_type": "stream",
     "text": [
      "Accuarcy_Score_Cr =  0.768541506571299\n",
      "[[2.95952154e-01 7.04119581e-01 1.48631945e-09 4.50866326e-05\n",
      "  1.25657459e-09]\n",
      " [2.95952154e-01 7.04119581e-01 1.48631945e-09 4.50866326e-05\n",
      "  1.25657459e-09]\n",
      " [6.14410537e-01 3.85332570e-01 1.46557318e-09 4.00694347e-05\n",
      "  1.24151287e-09]\n",
      " ...\n",
      " [2.95952154e-01 7.04119581e-01 1.48631945e-09 4.50866326e-05\n",
      "  1.25657459e-09]\n",
      " [9.99900236e-01 9.97701195e-05 1.28634236e-09 1.63869526e-07\n",
      "  1.11023743e-09]\n",
      " [6.14410537e-01 3.85332570e-01 1.46557318e-09 4.00694347e-05\n",
      "  1.24151287e-09]]\n"
     ]
    }
   ],
   "source": [
    "#Customer Relation Type at the beginning of the month\n",
    "from sklearn.neural_network import MLPClassifier\n",
    "from sklearn.neural_network import MLPRegressor\n",
    "from sklearn.model_selection import train_test_split\n",
    "\n",
    "from sklearn.metrics import accuracy_score\n",
    "\n",
    "X_train_Cr, X_test_Cr, y_train_Cr, y_test_Cr= train_test_split(X_Cust_Rel,y_Cust_Rel,test_size=0.33, random_state=0)\n",
    "\n",
    "neural_Cr = MLPClassifier(hidden_layer_sizes=(12,6),learning_rate='adaptive')\n",
    "neural_Cr.fit(X_train_Cr,y_train_Cr)\n",
    "print('Accuarcy_Score_Cr = ',neural_Cr.score(X_test_Cr,y_test_Cr))\n",
    "n_pr_Cr=neural_Cr.predict(X_test_Cr)\n",
    "pred_prob_neural_Cr = neural_Cr.predict_proba(X_test_Cr)\n",
    "print(pred_prob_neural_Cr)"
   ]
  },
  {
   "cell_type": "code",
   "execution_count": 66,
   "metadata": {},
   "outputs": [
    {
     "data": {
      "text/plain": [
       "0.47593831503929335"
      ]
     },
     "execution_count": 66,
     "metadata": {},
     "output_type": "execute_result"
    }
   ],
   "source": [
    "# Log loss for Customer Relation Type\n",
    "from sklearn.metrics import log_loss\n",
    "log_loss(y_test_Cr,pred_prob_neural_Cr)"
   ]
  },
  {
   "cell_type": "code",
   "execution_count": 67,
   "metadata": {},
   "outputs": [
    {
     "name": "stdout",
     "output_type": "stream",
     "text": [
      "classification_report for Relation Type:\n",
      "              precision    recall  f1-score   support\n",
      "\n",
      "           0       0.87      0.65      0.75    105523\n",
      "           1       0.70      0.89      0.79     97471\n",
      "           2       0.00      0.00      0.00         0\n",
      "           3       0.00      0.00      0.00        10\n",
      "           4       0.00      0.00      0.00         0\n",
      "\n",
      "   micro avg       0.77      0.77      0.77    203004\n",
      "   macro avg       0.31      0.31      0.31    203004\n",
      "weighted avg       0.79      0.77      0.77    203004\n",
      " samples avg       0.77      0.77      0.77    203004\n",
      "\n"
     ]
    }
   ],
   "source": [
    "#Classification Report and confusion matrix -Customer Relationship Type At the beginning of the month\n",
    "\n",
    "\n",
    "from sklearn.metrics import classification_report\n",
    "print(\"classification_report for Relation Type:\")\n",
    "print(classification_report(y_test_Cr,n_pr_Cr))\n"
   ]
  }
 ],
 "metadata": {
  "kernelspec": {
   "display_name": "Python 3",
   "language": "python",
   "name": "python3"
  },
  "language_info": {
   "codemirror_mode": {
    "name": "ipython",
    "version": 3
   },
   "file_extension": ".py",
   "mimetype": "text/x-python",
   "name": "python",
   "nbconvert_exporter": "python",
   "pygments_lexer": "ipython3",
   "version": "3.7.0"
  }
 },
 "nbformat": 4,
 "nbformat_minor": 2
}
